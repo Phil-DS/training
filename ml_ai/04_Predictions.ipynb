{
 "cells": [
  {
   "cell_type": "markdown",
   "metadata": {},
   "source": [
    "# Predictions\n",
    "\n",
    "In this notebook we'll learn how to predict the prices of short term rental listings using a linear regression model."
   ]
  },
  {
   "cell_type": "code",
   "execution_count": null,
   "metadata": {},
   "outputs": [],
   "source": [
    "%matplotlib notebook\n",
    "\n",
    "from py2neo import Graph\n",
    "import pandas as pd\n",
    "\n",
    "import matplotlib \n",
    "import matplotlib.pyplot as plt\n",
    "plt.style.use('fivethirtyeight')\n",
    "\n",
    "pd.set_option('display.max_colwidth', -1)"
   ]
  },
  {
   "cell_type": "code",
   "execution_count": null,
   "metadata": {},
   "outputs": [],
   "source": [
    "graph = Graph(\"bolt://localhost\", auth=(\"neo4j\", \"neo\"))"
   ]
  },
  {
   "cell_type": "markdown",
   "metadata": {},
   "source": [
    "For this section we need to install the [ml-models](https://github.com/neo4j-graph-analytics/ml-models) procedures library. You can find installation instructions on the [releases pages](https://github.com/neo4j-graph-analytics/ml-models/releases/tag/1.0.1). \n",
    "\n",
    "Once you've done that, run the following code to check that the library is installed:"
   ]
  },
  {
   "cell_type": "code",
   "execution_count": null,
   "metadata": {},
   "outputs": [],
   "source": [
    "query = \"\"\"\n",
    "CALL dbms.procedures() \n",
    "YIELD name WHERE name STARTS WITH 'regression' \n",
    "RETURN *\n",
    "\"\"\"\n",
    "\n",
    "graph.run(query).to_data_frame()"
   ]
  },
  {
   "cell_type": "markdown",
   "metadata": {},
   "source": [
    "We're going to predict the prices for listings within one New York neighborhood. We want to pick a neighborhood that has a good number of listings so let's first write a query to find a good neighborhood to use:"
   ]
  },
  {
   "cell_type": "code",
   "execution_count": null,
   "metadata": {},
   "outputs": [],
   "source": [
    "query = \"\"\"\n",
    "MATCH (nh:Neighborhood)<-[:IN_NEIGHBORHOOD]-()\n",
    "RETURN nh.name AS nh, count(*) AS listings\n",
    "ORDER BY listings DESC\n",
    "LIMIT 10\n",
    "\"\"\"\n",
    "\n",
    "graph.run(query).to_data_frame()"
   ]
  },
  {
   "cell_type": "markdown",
   "metadata": {},
   "source": [
    "Before we do any predictions let's get an overview of the prices in Williamsburg. We can create a scatterplot to help us do this:"
   ]
  },
  {
   "cell_type": "code",
   "execution_count": null,
   "metadata": {},
   "outputs": [],
   "source": [
    "# amazing scatterplot\n",
    "\n",
    "query = \"\"\"\n",
    "MATCH (nh:Neighborhood {name: $name})<-[:IN_NEIGHBORHOOD]-(listing)\n",
    "RETURN listing.price AS price\n",
    "\"\"\"\n",
    "\n",
    "place = \"Williamsburg\"\n",
    "df = graph.run(query, {\"name\": place}).to_data_frame()\n",
    "df[\"price\"].describe()"
   ]
  },
  {
   "cell_type": "code",
   "execution_count": null,
   "metadata": {},
   "outputs": [],
   "source": [
    "plt.hist(df[\"price\"].dropna(), 20, density=True, facecolor='g', alpha=0.75)\n",
    "plt.title(f\"Prices in {place}\")\n",
    "plt.tight_layout()"
   ]
  },
  {
   "cell_type": "markdown",
   "metadata": {},
   "source": [
    "This looks like a classic long tail distribution - the massive majority of listings are prices below $200 and then there are a few outliers at much higher price brackets.\n",
    "\n",
    "Let's split training and test data:"
   ]
  },
  {
   "cell_type": "code",
   "execution_count": null,
   "metadata": {},
   "outputs": [],
   "source": [
    "split_data_train_query = \"\"\"\n",
    "MATCH (list:Listing)-[:IN_NEIGHBORHOOD]->(:Neighborhood {name: $name}) \n",
    "WHERE exists(list.bedrooms) AND exists(list.bathrooms)\n",
    "AND exists(list.price) \n",
    "AND (:Review)-[:REVIEWS]->(list) \n",
    "WITH regression.linear.split(collect(id(list)), 0.75) AS trainingIDs\n",
    "MATCH (list:Listing) WHERE id(list) in trainingIDs \n",
    "SET list:Train\n",
    "\"\"\"\n",
    "\n",
    "split_data_test_query = \"\"\"\n",
    "MATCH (list:Listing)-[n:IN_NEIGHBORHOOD]->(:Neighborhood {name: $name})\n",
    "WHERE exists(list.bedrooms) AND exists(list.bathrooms)\n",
    "AND exists(list.price) \n",
    "AND (:Review)-[:REVIEWS]->(list) \n",
    "AND NOT list:Train \n",
    "SET list:Test\n",
    "\"\"\"\n",
    "\n",
    "graph.run(split_data_train_query, {\"name\": place}).summary().counters\n",
    "graph.run(split_data_test_query, {\"name\": place}).summary().counters"
   ]
  },
  {
   "cell_type": "code",
   "execution_count": null,
   "metadata": {},
   "outputs": [],
   "source": [
    "correlation_query = \"\"\"\n",
    "MATCH (list) \n",
    "WHERE list:Test OR list:Train\n",
    "WITH collect(size((list)<-[:REVIEWS]-()) * 1.0) AS reviews,\n",
    "     collect(list.bedrooms + list.bathrooms) as rooms\n",
    "RETURN regression.linear.correlation(reviews, rooms)\n",
    "\"\"\"\n",
    "\n",
    "graph.run(correlation_query).to_data_frame()"
   ]
  },
  {
   "cell_type": "code",
   "execution_count": null,
   "metadata": {},
   "outputs": [],
   "source": [
    "model_name = \"rental-prices-gc2\""
   ]
  },
  {
   "cell_type": "code",
   "execution_count": null,
   "metadata": {},
   "outputs": [],
   "source": [
    "init_query = \"\"\"\n",
    "CALL regression.linear.create($modelName, 'Multiple', true, 2)\n",
    "\"\"\"\n",
    "\n",
    "graph.run(init_query, {\"modelName\": model_name}).summary().counters"
   ]
  },
  {
   "cell_type": "code",
   "execution_count": null,
   "metadata": {},
   "outputs": [],
   "source": [
    "add_training_data_query = \"\"\"\n",
    "MATCH (list:Train)\n",
    "WHERE NOT list:Seen \n",
    "CALL regression.linear.add($modelName, \n",
    "  [list.bedrooms + list.bathrooms, size((list)<-[:REVIEWS]-()) * 1.0], \n",
    "  list.price\n",
    ") \n",
    "SET list:Seen \n",
    "RETURN count(list)\n",
    "\"\"\"\n",
    "\n",
    "graph.run(add_training_data_query, {\"modelName\": model_name}).summary().counters"
   ]
  },
  {
   "cell_type": "code",
   "execution_count": null,
   "metadata": {},
   "outputs": [],
   "source": [
    "train_model_query = \"\"\"\n",
    "CALL regression.linear.train($modelName)\n",
    "\"\"\"\n",
    "\n",
    "graph.run(train_model_query, {\"modelName\": model_name}).to_data_frame()"
   ]
  },
  {
   "cell_type": "code",
   "execution_count": null,
   "metadata": {},
   "outputs": [],
   "source": [
    "add_test_data_query = \"\"\"\n",
    "MATCH (list:Test) \n",
    "WHERE NOT list:Seen\n",
    "CALL regression.linear.add($modelName, \n",
    "  [list.bedrooms + list.bathrooms, size((list)<-[:REVIEWS]-()) * 1.0],  \n",
    "  list.price, \n",
    "  'test'\n",
    ") \n",
    "SET list:Seen \n",
    "RETURN count(list)\n",
    "\"\"\"\n",
    "\n",
    "graph.run(add_test_data_query, {\"modelName\": model_name}).data()"
   ]
  },
  {
   "cell_type": "code",
   "execution_count": null,
   "metadata": {},
   "outputs": [],
   "source": [
    "test_model_query = \"\"\"\n",
    "CALL regression.linear.test($modelName)\n",
    "\"\"\"\n",
    "\n",
    "graph.run(test_model_query, {\"modelName\": model_name}).to_data_frame()"
   ]
  },
  {
   "cell_type": "code",
   "execution_count": null,
   "metadata": {},
   "outputs": [],
   "source": [
    "info_query = \"\"\"\n",
    "CALL regression.linear.info($modelName) \n",
    "\"\"\"\n",
    "\n",
    "graph.run(info_query, {\"modelName\": model_name}).to_data_frame()"
   ]
  },
  {
   "cell_type": "markdown",
   "metadata": {},
   "source": [
    "Let's add some more features to our model. So far we've only added numerical properties - what if we want to add a categorical variable such as `propertyType`?\n",
    "\n",
    "To work with these types of variables we'll need to create a [one hot encoding](https://hackernoon.com/what-is-one-hot-encoding-why-and-when-do-you-have-to-use-it-e3c6186d008f) of property types.\n",
    "\n",
    "We can use the `algo.ml.oneHotEncoding` function to help us out. "
   ]
  },
  {
   "cell_type": "code",
   "execution_count": null,
   "metadata": {},
   "outputs": [],
   "source": [
    "model_name = \"rental-prices-propertyType\"\n",
    "\n",
    "property_type_count_query = \"\"\"\n",
    "match (l:Listing)\n",
    "WITH l.propertyType AS propertyType, count(*) AS count\n",
    "RETURN count(*) AS count\n",
    "\"\"\"\n",
    "\n",
    "property_type_count =  graph.run(property_type_count_query).to_table()[0][0]\n",
    "\n",
    "\n",
    "init_query = \"\"\"\n",
    "CALL regression.linear.create($modelName, 'Multiple', true, $numberOfVariables)\n",
    "\"\"\"\n",
    "\n",
    "result = graph.run(init_query, {\"modelName\": model_name, \"numberOfVariables\": 2 + property_type_count})\n",
    "display(result.summary().counters)\n",
    "\n",
    "clear_seen_query = \"\"\"\n",
    "MATCH (s:Seen)\n",
    "REMOVE s:Seen\n",
    "\"\"\"\n",
    "\n",
    "display(graph.run(clear_seen_query).summary().counters)\n",
    "\n",
    "add_training_data_query = \"\"\"\n",
    "match (l:Listing)\n",
    "WITH l.propertyType AS propertyType, count(*) AS count\n",
    "WITH collect(propertyType) AS propertyTypes\n",
    "\n",
    "MATCH (list:Train)\n",
    "WHERE NOT list:Seen \n",
    "CALL regression.linear.add($modelName, \n",
    "  apoc.coll.flatten([\n",
    "    [list.bedrooms + list.bathrooms, size((list)<-[:REVIEWS]-()) * 1.0],\n",
    "    algo.ml.oneHotEncoding(propertyTypes, [list.propertyType])\n",
    "  ]), \n",
    "  list.price\n",
    ") \n",
    "SET list:Seen \n",
    "RETURN count(list)\n",
    "\"\"\"\n",
    "\n",
    "display(graph.run(add_training_data_query, {\"modelName\": model_name}).summary().counters)\n",
    "\n",
    "train_model_query = \"\"\"\n",
    "CALL regression.linear.train($modelName)\n",
    "\"\"\"\n",
    "\n",
    "display(graph.run(train_model_query, {\"modelName\": model_name}).to_data_frame())\n",
    "\n",
    "add_test_data_query = \"\"\"\n",
    "match (l:Listing)\n",
    "WITH l.propertyType AS propertyType, count(*) AS count\n",
    "WITH collect(propertyType) AS propertyTypes\n",
    "\n",
    "MATCH (list:Test)\n",
    "WHERE NOT list:Seen \n",
    "CALL regression.linear.add($modelName, \n",
    "  apoc.coll.flatten([\n",
    "    [list.bedrooms + list.bathrooms, size((list)<-[:REVIEWS]-()) * 1.0],\n",
    "    algo.ml.oneHotEncoding(propertyTypes, [list.propertyType])\n",
    "  ]), \n",
    "  list.price, \"test\"\n",
    ") \n",
    "SET list:Seen \n",
    "RETURN count(list)\n",
    "\"\"\"\n",
    "\n",
    "display(graph.run(add_test_data_query, {\"modelName\": model_name}).to_data_frame())\n",
    "\n",
    "test_model_query = \"\"\"\n",
    "CALL regression.linear.test($modelName)\n",
    "\"\"\"\n",
    "\n",
    "display(graph.run(test_model_query, {\"modelName\": model_name}).to_data_frame())"
   ]
  },
  {
   "cell_type": "markdown",
   "metadata": {},
   "source": [
    "We can do the same thing with roomType:"
   ]
  },
  {
   "cell_type": "code",
   "execution_count": null,
   "metadata": {},
   "outputs": [],
   "source": [
    "model_name = \"rental-prices-roomType\"\n",
    "\n",
    "count_query = \"\"\"\n",
    "match (l:Listing)\n",
    "WITH l.roomType AS roomType, count(*) AS count\n",
    "RETURN count(*) AS count\n",
    "\"\"\"\n",
    "\n",
    "count =  graph.run(count_query).to_table()[0][0]\n",
    "\n",
    "\n",
    "init_query = \"\"\"\n",
    "CALL regression.linear.create($modelName, 'Multiple', true, $numberOfVariables)\n",
    "\"\"\"\n",
    "\n",
    "result = graph.run(init_query, {\"modelName\": model_name, \"numberOfVariables\": 2 + count})\n",
    "display(result.summary().counters)\n",
    "\n",
    "clear_seen_query = \"\"\"\n",
    "MATCH (s:Seen)\n",
    "REMOVE s:Seen\n",
    "\"\"\"\n",
    "\n",
    "display(graph.run(clear_seen_query).summary().counters)\n",
    "\n",
    "add_training_data_query = \"\"\"\n",
    "match (l:Listing)\n",
    "WITH l.roomType AS roomType, count(*) AS count\n",
    "WITH collect(roomType) AS roomTypes\n",
    "\n",
    "MATCH (list:Train)\n",
    "WHERE NOT list:Seen \n",
    "CALL regression.linear.add($modelName, \n",
    "  apoc.coll.flatten([\n",
    "    [list.bedrooms + list.bathrooms, size((list)<-[:REVIEWS]-()) * 1.0],\n",
    "    algo.ml.oneHotEncoding(roomTypes, [list.roomType])\n",
    "  ]), \n",
    "  list.price\n",
    ") \n",
    "SET list:Seen \n",
    "RETURN count(list)\n",
    "\"\"\"\n",
    "\n",
    "display(graph.run(add_training_data_query, {\"modelName\": model_name}).summary().counters)\n",
    "\n",
    "train_model_query = \"\"\"\n",
    "CALL regression.linear.train($modelName)\n",
    "\"\"\"\n",
    "\n",
    "display(graph.run(train_model_query, {\"modelName\": model_name}).to_data_frame())\n",
    "\n",
    "add_test_data_query = \"\"\"\n",
    "match (l:Listing)\n",
    "WITH l.roomType AS roomType, count(*) AS count\n",
    "WITH collect(roomType) AS roomTypes\n",
    "\n",
    "MATCH (list:Test)\n",
    "WHERE NOT list:Seen \n",
    "CALL regression.linear.add($modelName, \n",
    "  apoc.coll.flatten([\n",
    "    [list.bedrooms + list.bathrooms, size((list)<-[:REVIEWS]-()) * 1.0],\n",
    "    algo.ml.oneHotEncoding(roomTypes, [list.roomType])\n",
    "  ]), \n",
    "  list.price, \"test\"\n",
    ") \n",
    "SET list:Seen \n",
    "RETURN count(list)\n",
    "\"\"\"\n",
    "\n",
    "display(graph.run(add_test_data_query, {\"modelName\": model_name}).to_data_frame())\n",
    "\n",
    "test_model_query = \"\"\"\n",
    "CALL regression.linear.test($modelName)\n",
    "\"\"\"\n",
    "\n",
    "display(graph.run(test_model_query, {\"modelName\": model_name}).to_data_frame())"
   ]
  },
  {
   "cell_type": "markdown",
   "metadata": {},
   "source": [
    "Another feature that we could use is whether the host is a super host. Super hosts get benefits which give them greater visibility on Airbnb:"
   ]
  },
  {
   "cell_type": "code",
   "execution_count": null,
   "metadata": {},
   "outputs": [],
   "source": [
    "model_name = \"rental-prices-roomType-superHost\"\n",
    "\n",
    "count_query = \"\"\"\n",
    "match (l:Listing)\n",
    "WITH l.roomType AS roomType, count(*) AS count\n",
    "RETURN count(*) AS count\n",
    "\"\"\"\n",
    "\n",
    "count =  graph.run(count_query).to_table()[0][0]\n",
    "\n",
    "\n",
    "init_query = \"\"\"\n",
    "CALL regression.linear.create($modelName, 'Multiple', true, $numberOfVariables)\n",
    "\"\"\"\n",
    "\n",
    "result = graph.run(init_query, {\"modelName\": model_name, \"numberOfVariables\": 3 + count})\n",
    "display(result.summary().counters)\n",
    "\n",
    "clear_seen_query = \"\"\"\n",
    "MATCH (s:Seen)\n",
    "REMOVE s:Seen\n",
    "\"\"\"\n",
    "\n",
    "display(graph.run(clear_seen_query).summary().counters)\n",
    "\n",
    "add_training_data_query = \"\"\"\n",
    "match (l:Listing)\n",
    "WITH l.roomType AS roomType, count(*) AS count\n",
    "WITH collect(roomType) AS roomTypes\n",
    "\n",
    "MATCH (list:Train)<-[:HOSTS]-(host)\n",
    "WHERE NOT list:Seen \n",
    "CALL regression.linear.add($modelName, \n",
    "  apoc.coll.flatten([\n",
    "    [list.bedrooms + list.bathrooms, \n",
    "     size((list)<-[:REVIEWS]-()) * 1.0,\n",
    "     CASE WHEN host.superhost THEN 1.0 ELSE 0.0 END\n",
    "    ],\n",
    "    algo.ml.oneHotEncoding(roomTypes, [list.roomType])\n",
    "  ]), \n",
    "  list.price\n",
    ") \n",
    "SET list:Seen \n",
    "RETURN count(list)\n",
    "\"\"\"\n",
    "\n",
    "display(graph.run(add_training_data_query, {\"modelName\": model_name}).summary().counters)\n",
    "\n",
    "train_model_query = \"\"\"\n",
    "CALL regression.linear.train($modelName)\n",
    "\"\"\"\n",
    "\n",
    "display(graph.run(train_model_query, {\"modelName\": model_name}).to_data_frame())\n",
    "\n",
    "add_test_data_query = \"\"\"\n",
    "match (l:Listing)\n",
    "WITH l.roomType AS roomType, count(*) AS count\n",
    "WITH collect(roomType) AS roomTypes\n",
    "\n",
    "MATCH (list:Test)<-[:HOSTS]-(host)\n",
    "WHERE NOT list:Seen \n",
    "CALL regression.linear.add($modelName, \n",
    "  apoc.coll.flatten([\n",
    "    [list.bedrooms + list.bathrooms, \n",
    "     size((list)<-[:REVIEWS]-()) * 1.0,\n",
    "     CASE WHEN host.superhost THEN 1.0 ELSE 0.0 END\n",
    "    ],\n",
    "    algo.ml.oneHotEncoding(roomTypes, [list.roomType])\n",
    "  ]), \n",
    "  list.price, \"test\"\n",
    ") \n",
    "SET list:Seen \n",
    "RETURN count(list)\n",
    "\"\"\"\n",
    "\n",
    "display(graph.run(add_test_data_query, {\"modelName\": model_name}).to_data_frame())\n",
    "\n",
    "test_model_query = \"\"\"\n",
    "CALL regression.linear.test($modelName)\n",
    "\"\"\"\n",
    "\n",
    "display(graph.run(test_model_query, {\"modelName\": model_name}).to_data_frame())"
   ]
  },
  {
   "cell_type": "markdown",
   "metadata": {},
   "source": [
    "# Clustering Amenities\n",
    "\n",
    "Listings have amenities, and presumably those amenities have some impact on the price of the listing. The following query shows the average price of listings that have different amenities:"
   ]
  },
  {
   "cell_type": "code",
   "execution_count": null,
   "metadata": {},
   "outputs": [],
   "source": [
    "amenity_query = \"\"\"\n",
    "MATCH (a:Amenity)<-[:HAS]-(listing)-[:IN_NEIGHBORHOOD]-(:Neighborhood {name: $name})\n",
    "RETURN a.name, count(*) AS count, avg(listing.price\t) AS averagePrice\n",
    "ORDER BY averagePrice DESC\n",
    "LIMIT 20\n",
    "\"\"\"\n",
    "\n",
    "graph.run(amenity_query, {\"name\": place}).to_data_frame()"
   ]
  },
  {
   "cell_type": "markdown",
   "metadata": {},
   "source": [
    "There are lots of baby/child related amenities in these high priced listings, but if we wanted to find if a listing has any of them we'd have to create a manual list of them which isn't much fun. Perhaps we can cluster amenities so that the child friendly ones get grouped together?"
   ]
  },
  {
   "cell_type": "markdown",
   "metadata": {},
   "source": [
    "We can use the Jaccard Similarity algorithm to help us do this. The following query will create an 'amenity similarity graph' - each amenity gets up to 3 'SIMILAR_AMENITY' relationships to other amenities based on their cooccurence in listings."
   ]
  },
  {
   "cell_type": "code",
   "execution_count": null,
   "metadata": {},
   "outputs": [],
   "source": [
    "similar_amenities = \"\"\"\n",
    "MATCH (a:Amenity)<-[:HAS]-(listing)\n",
    "WITH {item:id(a), categories: collect(id(listing))} as userData\n",
    "WITH collect(userData) as data\n",
    "CALL algo.similarity.jaccard(data, {topK:3, similarityCutoff:0.1, writeRelationshipType: \"SIMILAR_AMENITY\", write: true})\n",
    "YIELD nodes, similarityPairs, write, writeRelationshipType, writeProperty, min, max, mean, stdDev, p25, p50, p75, p90, p95, p99, p999, p100\n",
    "RETURN nodes, similarityPairs, write, writeRelationshipType, writeProperty, min, max, mean, p95\n",
    "\"\"\"\n",
    "\n",
    "graph.run(similar_amenities).to_data_frame()"
   ]
  },
  {
   "cell_type": "markdown",
   "metadata": {},
   "source": [
    "We can then run the Label Propagation clustering algorithm over this similarity graph to cluster the amenities."
   ]
  },
  {
   "cell_type": "code",
   "execution_count": null,
   "metadata": {},
   "outputs": [],
   "source": [
    "amenity_clusters = \"\"\"\n",
    "call algo.labelPropagation.stream(\"Amenity\", \"SIMILAR_AMENITY\", {iterations: 10})\n",
    "YIELD nodeId, label\n",
    "WITH label, collect(algo.getNodeById(nodeId).name) AS amenities\n",
    "WHERE size(amenities) > 1\n",
    "RETURN label, amenities\n",
    "ORDER BY size(amenities) DESC\n",
    "\"\"\"\n",
    "\n",
    "graph.run(amenity_clusters).to_data_frame()"
   ]
  },
  {
   "cell_type": "markdown",
   "metadata": {},
   "source": [
    "Nice! All of our child friendly amenities have clustered together with label 88. Let's store the amenity clusters in our graph:"
   ]
  },
  {
   "cell_type": "code",
   "execution_count": null,
   "metadata": {},
   "outputs": [],
   "source": [
    "amenity_clusters = \"\"\"\n",
    "call algo.labelPropagation.stream(\"Amenity\", \"SIMILAR_AMENITY\", {iterations: 10})\n",
    "YIELD nodeId, label\n",
    "WITH label, collect(algo.getNodeById(nodeId)) AS amenities\n",
    "WHERE size(amenities) > 1\n",
    "UNWIND amenities AS amenity\n",
    "MERGE (cluster:AmenityCluster {label: label})\n",
    "MERGE (amenity)-[:IN_CLUSTER]->(cluster)\n",
    "\"\"\"\n",
    "\n",
    "display(graph.run(amenity_clusters).summary().counters)\n",
    "\n",
    "amenity_clusters_friendly_name = \"\"\"\n",
    "MATCH (cluster:AmenityCluster)<-[:IN_CLUSTER]-(amenity)\n",
    "WITH cluster, amenity\n",
    "ORDER BY size((amenity)<-[:HAS]-())\n",
    "WITH cluster, collect(amenity)[0] AS biggestAmenity\n",
    "SET cluster.name = \"AmenityCluster \" + biggestAmenity.name\n",
    "\"\"\"\n",
    "\n",
    "display(graph.run(amenity_clusters_friendly_name).summary().counters)"
   ]
  },
  {
   "cell_type": "markdown",
   "metadata": {},
   "source": [
    "Now let's see if those clusters help predict the price of a listing:"
   ]
  },
  {
   "cell_type": "code",
   "execution_count": null,
   "metadata": {},
   "outputs": [],
   "source": [
    "model_name = \"rental-prices-roomType-superHost-child3\"\n",
    "\n",
    "count_query = \"\"\"\n",
    "match (l:Listing)\n",
    "WITH l.roomType AS roomType, count(*) AS count\n",
    "RETURN count(*) AS count\n",
    "\"\"\"\n",
    "\n",
    "count =  graph.run(count_query).to_table()[0][0]\n",
    "\n",
    "\n",
    "init_query = \"\"\"\n",
    "CALL regression.linear.create($modelName, 'Multiple', true, $numberOfVariables)\n",
    "\"\"\"\n",
    "\n",
    "result = graph.run(init_query, {\"modelName\": model_name, \"numberOfVariables\": 4 + count})\n",
    "display(result.summary().counters)\n",
    "\n",
    "clear_seen_query = \"\"\"\n",
    "MATCH (s:Seen)\n",
    "REMOVE s:Seen\n",
    "\"\"\"\n",
    "\n",
    "display(graph.run(clear_seen_query).summary().counters)\n",
    "\n",
    "add_training_data_query = \"\"\"\n",
    "match (l:Listing)\n",
    "WITH l.roomType AS roomType, count(*) AS count\n",
    "WITH collect(roomType) AS roomTypes\n",
    "\n",
    "MATCH (list:Train)<-[:HOSTS]-(host)\n",
    "WHERE NOT list:Seen \n",
    "CALL regression.linear.add($modelName, \n",
    "  apoc.coll.flatten([\n",
    "    [list.bedrooms + list.bathrooms, \n",
    "     size((list)<-[:REVIEWS]-()) * 1.0,\n",
    "     CASE WHEN host.superhost THEN 1.0 ELSE 0.0 END,\n",
    "     size((list)-[:HAS]->()-[:IN_CLUSTER]->(:AmenityCluster {label: $childCluster})) * 1.0\n",
    "    ],\n",
    "    algo.ml.oneHotEncoding(roomTypes, [list.roomType])\n",
    "  ]), \n",
    "  list.price\n",
    ") \n",
    "SET list:Seen \n",
    "RETURN count(list)\n",
    "\"\"\"\n",
    "\n",
    "display(graph.run(add_training_data_query, {\"modelName\": model_name, \"childCluster\": 88}).summary().counters)\n",
    "\n",
    "train_model_query = \"\"\"\n",
    "CALL regression.linear.train($modelName)\n",
    "\"\"\"\n",
    "\n",
    "display(graph.run(train_model_query, {\"modelName\": model_name}).to_data_frame())\n",
    "\n",
    "add_test_data_query = \"\"\"\n",
    "match (l:Listing)\n",
    "WITH l.roomType AS roomType, count(*) AS count\n",
    "WITH collect(roomType) AS roomTypes\n",
    "\n",
    "MATCH (list:Test)<-[:HOSTS]-(host)\n",
    "WHERE NOT list:Seen \n",
    "CALL regression.linear.add($modelName, \n",
    "  apoc.coll.flatten([\n",
    "    [list.bedrooms + list.bathrooms, \n",
    "     size((list)<-[:REVIEWS]-()) * 1.0,\n",
    "     CASE WHEN host.superhost THEN 1.0 ELSE 0.0 END,\n",
    "     size((list)-[:HAS]->()-[:IN_CLUSTER]->(:AmenityCluster {label: $childCluster})) * 1.0\n",
    "    ],\n",
    "    algo.ml.oneHotEncoding(roomTypes, [list.roomType])\n",
    "  ]), \n",
    "  list.price, \"test\"\n",
    ") \n",
    "SET list:Seen \n",
    "RETURN count(list)\n",
    "\"\"\"\n",
    "\n",
    "display(graph.run(add_test_data_query, {\"modelName\": model_name, \"childCluster\": 88}).to_data_frame())\n",
    "\n",
    "test_model_query = \"\"\"\n",
    "CALL regression.linear.test($modelName)\n",
    "\"\"\"\n",
    "\n",
    "display(graph.run(test_model_query, {\"modelName\": model_name}).to_data_frame())"
   ]
  },
  {
   "cell_type": "markdown",
   "metadata": {},
   "source": [
    "Hmm only a marginal improvement."
   ]
  },
  {
   "cell_type": "markdown",
   "metadata": {},
   "source": [
    "# Exercise\n",
    "\n",
    "* What happens if we use the other amenity clusters rather than just the child friendly one?\n",
    "* Are there any other features that we can add that would improve the accuracy of our model? "
   ]
  }
 ],
 "metadata": {
  "kernelspec": {
   "display_name": "Python 3",
   "language": "python",
   "name": "python3"
  },
  "language_info": {
   "codemirror_mode": {
    "name": "ipython",
    "version": 3
   },
   "file_extension": ".py",
   "mimetype": "text/x-python",
   "name": "python",
   "nbconvert_exporter": "python",
   "pygments_lexer": "ipython3",
   "version": "3.6.5"
  }
 },
 "nbformat": 4,
 "nbformat_minor": 2
}
