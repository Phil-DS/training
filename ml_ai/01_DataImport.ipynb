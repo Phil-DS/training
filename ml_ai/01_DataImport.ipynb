{
 "cells": [
  {
   "cell_type": "markdown",
   "metadata": {},
   "source": [
    "# Short Term Rentals - Data Import\n",
    "\n",
    "We're going to work with a short term rentals dataset that we got from [InsideAirbnb](http://insideairbnb.com/). We'll be using Neo4j via the popular py2neo library.\n",
    "\n",
    "We'll start by importing py2neo and the pandas library which we'll be using to play around with the data later on."
   ]
  },
  {
   "cell_type": "code",
   "execution_count": 2,
   "metadata": {},
   "outputs": [],
   "source": [
    "from py2neo import Graph\n",
    "import pandas as pd"
   ]
  },
  {
   "cell_type": "code",
   "execution_count": 3,
   "metadata": {},
   "outputs": [],
   "source": [
    "graph = Graph(\"bolt://localhost\", auth=(\"neo4j\", \"neo\"))"
   ]
  },
  {
   "cell_type": "markdown",
   "metadata": {},
   "source": [
    "Now it's time to load the data into Neo4j. This is the graph model that we want to end up with:\n",
    "\n",
    "<div align=\"left\">\n",
    "    <img src=\"images/graph_model.png\" alt=\"Graph Model\" width=\"500px\"/>\n",
    "</div>\n"
   ]
  },
  {
   "cell_type": "markdown",
   "metadata": {},
   "source": [
    "Let's create some variables for our import CSV files to simplify our import script:"
   ]
  },
  {
   "cell_type": "code",
   "execution_count": 5,
   "metadata": {},
   "outputs": [],
   "source": [
    "listings_file = \"https://guides.neo4j.com/listings/data/nyc/listings.csv.gz\"\n",
    "reviews_file = \"https://guides.neo4j.com/listings/data/nyc/reviews.csv.gz\"\n",
    "\n",
    "# listings_file = \"file:///listings.csv.gz\"\n",
    "# reviews_file = \"file:///reviews.csv.gz\""
   ]
  },
  {
   "cell_type": "markdown",
   "metadata": {},
   "source": [
    "We're going to use Cypher's LOAD CSV command to process these CSV files and create the graph structure described above. Let's start by having a look what we have in both of these files, starting with the listings file:"
   ]
  },
  {
   "cell_type": "code",
   "execution_count": 9,
   "metadata": {},
   "outputs": [
    {
     "data": {
      "text/plain": [
       "[{'row': {'host_verifications': \"['email', 'phone', 'facebook', 'reviews', 'jumio', 'government_id']\",\n",
       "   'country': 'United States',\n",
       "   'notes': 'Please no cooking at night but you can warm up food in the microwave and use the kitchen ',\n",
       "   'is_business_travel_ready': 'f',\n",
       "   'picture_url': 'https://a0.muscache.com/im/pictures/d0489e42-4333-4360-911f-413d503fe146.jpg?aki_policy=large',\n",
       "   'house_rules': 'no-smoking/please take off your shoes: cleaning fees $40',\n",
       "   'requires_license': 'f',\n",
       "   'calendar_last_scraped': '2018-08-07',\n",
       "   'first_review': '2008-10-13',\n",
       "   'neighborhood_overview': '',\n",
       "   'review_scores_cleanliness': '9',\n",
       "   'number_of_reviews': '170',\n",
       "   'is_location_exact': 't',\n",
       "   'space': '-PLEASE BOOK DIRECTLY. NO NEED TO SEND A REQUEST FOR DATES CALENDAR IS UP TO DATE ALL AIRBNB RESERVATIONS WILL BE HONORED Nice, comfortable, and clean private guest room with shared bathroom (2 people max) - full size bed. In very nice apartment on central Park North 4th floor walk-up. same place as Chez chic #2, max capacity of the rooms 2 people). You will share the apt with me and my little family. Daily cleaning in common areas. Located one block from Subway 2/3,B/C on 110th street, Bus M1,2,3,4 at the corner, central park across the street.  Your room: full size bed (sleeps two), desk, Digital Tv/DVD, wifi internet, A/C, closet and desk. Sheets/Towels provided. Iron/air dryer provided. Separate Full bathroom shared with guestroom room #2. Access to the Kitchen from 8AM weekdays or anytime during the weekend and light cooking, access to kitchen at all times but no cooking in the evening.  The apartment: spacious newly renovated, hardwood floors,3BD, 2Bath apartment with Living room',\n",
       "   'review_scores_checkin': '10',\n",
       "   'cleaning_fee': '$60.00',\n",
       "   'host_location': 'New York, New York, United States',\n",
       "   'price': '$59.00',\n",
       "   'experiences_offered': 'none',\n",
       "   'reviews_per_month': '1.42',\n",
       "   'neighbourhood': 'Harlem',\n",
       "   'review_scores_location': '9',\n",
       "   'square_feet': None,\n",
       "   'state': 'NY',\n",
       "   'id': '2515',\n",
       "   'host_identity_verified': 't',\n",
       "   'longitude': '-73.95367574543542',\n",
       "   'weekly_price': '$720.00',\n",
       "   'bed_type': 'Real Bed',\n",
       "   'review_scores_accuracy': '9',\n",
       "   'review_scores_value': '9',\n",
       "   'host_response_time': 'within a day',\n",
       "   'host_about': ' loves to host and welcome travelers from around the world in our family Apt.',\n",
       "   'bathrooms': '1.0',\n",
       "   'bedrooms': '1',\n",
       "   'zipcode': '10026',\n",
       "   'market': 'New York',\n",
       "   'extra_people': '$39.00',\n",
       "   'license': None,\n",
       "   'country_code': 'US',\n",
       "   'transit': 'Subway 2.3.B.C. at 110th street around the corner and bus M.2.3.4 at the corner',\n",
       "   'xl_picture_url': None,\n",
       "   'name': 'Stay at Chez Chic budget room #1',\n",
       "   'availability_60': '22',\n",
       "   'host_thumbnail_url': 'https://a0.muscache.com/im/users/2758/profile_pic/1338267836/original.jpg?aki_policy=profile_small',\n",
       "   'host_neighbourhood': 'Harlem',\n",
       "   'cancellation_policy': 'strict_14_with_grace_period',\n",
       "   'beds': '2',\n",
       "   'instant_bookable': 'f',\n",
       "   'scrape_id': '20180806171147',\n",
       "   'amenities': '{TV,\"Cable TV\",Internet,Wifi,\"Air conditioning\",Kitchen,\"Free street parking\",\"Buzzer/wireless intercom\",Heating,\"Family/kid friendly\",\"Smoke detector\",\"Carbon monoxide detector\",\"Fire extinguisher\",Essentials,Shampoo,\"Lock on bedroom door\",Hangers,\"Hair dryer\",Iron,\"Laptop friendly workspace\",\"Children’s books and toys\",\"Window guards\",\"Pack ’n Play/travel crib\",\"Hot water\",Microwave,\"Coffee maker\",Refrigerator,\"Dishes and silverware\",\"Cooking basics\",Oven,Stove,\"Host greets you\"}',\n",
       "   'host_url': 'https://www.airbnb.com/users/show/2758',\n",
       "   'neighbourhood_cleansed': 'Harlem',\n",
       "   'access': 'Guests will have their PRIVATE BATHROOM (NOTE: Shared between June 22-Aug 22) (shared with 2nd guestroom if there are guests), and the kitchen',\n",
       "   'city': 'New York',\n",
       "   'latitude': '40.79920479936168',\n",
       "   'description': \"Step into our artistic spacious apartment and enjoy your artistic Guest room with original artwork from NY artists. Shared with my little family however we often out and you won't see us much. across the street from Central Park - the busy city minutes away but sleeping in quiet at night! -PLEASE BOOK DIRECTLY. NO NEED TO SEND A REQUEST FOR DATES CALENDAR IS UP TO DATE ALL AIRBNB RESERVATIONS WILL BE HONORED Nice, comfortable, and clean private guest room with shared bathroom (2 people max) - full size bed. In very nice apartment on central Park North 4th floor walk-up. same place as Chez chic #2, max capacity of the rooms 2 people). You will share the apt with me and my little family. Daily cleaning in common areas. Located one block from Subway 2/3,B/C on 110th street, Bus M1,2,3,4 at the corner, central park across the street.  Your room: full size bed (sleeps two), desk, Digital Tv/DVD, wifi internet, A/C, closet and desk. Sheets/Towels provided. Iron/air dryer provided. Separate F\",\n",
       "   'require_guest_phone_verification': 'f',\n",
       "   'thumbnail_url': None,\n",
       "   'review_scores_communication': '9',\n",
       "   'neighbourhood_group_cleansed': 'Manhattan',\n",
       "   'jurisdiction_names': None,\n",
       "   'street': 'New York, NY, United States',\n",
       "   'has_availability': 't',\n",
       "   'medium_url': None,\n",
       "   'property_type': 'Apartment',\n",
       "   'host_response_rate': '86%',\n",
       "   'availability_90': '52',\n",
       "   'require_guest_profile_picture': 'f',\n",
       "   'summary': \"Step into our artistic spacious apartment and enjoy your artistic Guest room with original artwork from NY artists. Shared with my little family however we often out and you won't see us much. across the street from Central Park - the busy city minutes away but sleeping in quiet at night!\",\n",
       "   'monthly_price': '$1,690.00',\n",
       "   'security_deposit': '$0.00',\n",
       "   'availability_365': '317',\n",
       "   'smart_location': 'New York, NY',\n",
       "   'availability_30': '6',\n",
       "   'calendar_updated': '5 days ago',\n",
       "   'listing_url': 'https://www.airbnb.com/rooms/2515',\n",
       "   'guests_included': '2',\n",
       "   'maximum_nights': '21',\n",
       "   'host_has_profile_pic': 't',\n",
       "   'host_picture_url': 'https://a0.muscache.com/im/users/2758/profile_pic/1338267836/original.jpg?aki_policy=profile_x_medium',\n",
       "   'host_id': '2758',\n",
       "   'host_listings_count': '3',\n",
       "   'host_total_listings_count': '3',\n",
       "   'host_acceptance_rate': 'N/A',\n",
       "   'review_scores_rating': '93',\n",
       "   'minimum_nights': '2',\n",
       "   'last_review': '2018-07-05',\n",
       "   'calculated_host_listings_count': '3',\n",
       "   'accommodates': '3',\n",
       "   'interaction': 'We will have a list of Harlem restaurants and points of interest ready for you, as well as a subway map of NYC and pratical infos.',\n",
       "   'host_is_superhost': 'f',\n",
       "   'host_since': '2008-09-06',\n",
       "   'host_name': 'Steph',\n",
       "   'last_scraped': '2018-08-07',\n",
       "   'room_type': 'Private room'}}]"
      ]
     },
     "execution_count": 9,
     "metadata": {},
     "output_type": "execute_result"
    }
   ],
   "source": [
    "explore_listings_csv_query = \"\"\"\n",
    "LOAD CSV WITH HEADERS FROM $listingsFile AS row\n",
    "RETURN row\n",
    "LIMIT 1\n",
    "\"\"\"\n",
    "graph.run(explore_listings_csv_query, {\"listingsFile\": listings_file}).data()"
   ]
  },
  {
   "cell_type": "markdown",
   "metadata": {},
   "source": [
    "And now the reviews file:"
   ]
  },
  {
   "cell_type": "code",
   "execution_count": 10,
   "metadata": {},
   "outputs": [
    {
     "data": {
      "text/plain": [
       "[{'row': {'date': '2008-10-13',\n",
       "   'id': '198',\n",
       "   'comments': 'Stephanie was a wonderful host! Her apartment was beautiful and extremely clean. We had a very nice (and affordable!) stay in the city with private room and own bathroom.',\n",
       "   'listing_id': '2515',\n",
       "   'reviewer_name': 'Jenny',\n",
       "   'reviewer_id': '2603'}}]"
      ]
     },
     "execution_count": 10,
     "metadata": {},
     "output_type": "execute_result"
    }
   ],
   "source": [
    "explore_reviews_csv_query = \"\"\"\n",
    "LOAD CSV WITH HEADERS FROM $reviewsFile AS row\n",
    "RETURN row\n",
    "LIMIT 1\n",
    "\"\"\"\n",
    "graph.run(explore_reviews_csv_query, {\"reviewsFile\": reviews_file}).data()"
   ]
  },
  {
   "cell_type": "markdown",
   "metadata": {},
   "source": [
    "Try changing `LIMIT 1` if you want to see a few more reviews or listings. \n",
    "\n",
    "Otherwise we're now ready to import the dataset into Neo4j:"
   ]
  },
  {
   "cell_type": "markdown",
   "metadata": {},
   "source": [
    "## Listings"
   ]
  },
  {
   "cell_type": "code",
   "execution_count": 11,
   "metadata": {},
   "outputs": [
    {
     "data": {
      "text/plain": [
       "{'labels_added': 50914, 'nodes_created': 50914, 'properties_set': 450338}"
      ]
     },
     "execution_count": 11,
     "metadata": {},
     "output_type": "execute_result"
    }
   ],
   "source": [
    "constraint_query = \"\"\"\n",
    "CREATE CONSTRAINT ON (l:Listing)\n",
    "ASSERT l.id IS UNIQUE\n",
    "\"\"\"\n",
    "\n",
    "import_query = \"\"\"\n",
    "LOAD CSV WITH HEADERS FROM $listingsFile AS row\n",
    "WITH row WHERE row.id IS NOT NULL\n",
    "MERGE (l:Listing {id: row.id})\n",
    "SET l.name = row.name,\n",
    "    l.price = toFloat(substring(row.price, 1)),\n",
    "    l.weeklyPrice = toFloat(substring(row.weekly_price, 1)),\n",
    "    l.cleaningFee = toFloat(substring(row.cleaning_fee, 1)),\n",
    "    l.propertyType = row.property_type,\n",
    "    l.accommodates = toInt(row.accommodates),\n",
    "    l.bedrooms = toInt(row.bedrooms),\n",
    "    l.bathrooms = toInt(row.bathrooms),\n",
    "    l.availability365 = toInt(row.availability_365)\n",
    "\"\"\"\n",
    "\n",
    "graph.run(constraint_query).summary().counters\n",
    "graph.run(import_query, {\"listingsFile\": listings_file}).summary().counters"
   ]
  },
  {
   "cell_type": "markdown",
   "metadata": {},
   "source": [
    "## Neighborhoods"
   ]
  },
  {
   "cell_type": "code",
   "execution_count": 12,
   "metadata": {},
   "outputs": [
    {
     "data": {
      "text/plain": [
       "{'labels_added': 224, 'relationships_created': 50914, 'nodes_created': 224, 'properties_set': 439}"
      ]
     },
     "execution_count": 12,
     "metadata": {},
     "output_type": "execute_result"
    }
   ],
   "source": [
    "constraint_query = \"\"\"\n",
    "CREATE CONSTRAINT ON (n:Neighborhood) \n",
    "ASSERT n.id IS UNIQUE\n",
    "\"\"\"\n",
    "\n",
    "import_query = \"\"\"\n",
    "LOAD CSV WITH HEADERS FROM $listingsFile AS row\n",
    "WITH row WHERE row.id IS NOT NULL\n",
    "MATCH (l:Listing {id: row.id})\n",
    "MERGE (n:Neighborhood {id: coalesce(row.neighbourhood_cleansed, \"NA\")})\n",
    "ON CREATE SET n.name = row.neighbourhood\n",
    "MERGE (l)-[:IN_NEIGHBORHOOD]->(n);\n",
    "\"\"\"\n",
    "\n",
    "graph.run(constraint_query).summary().counters\n",
    "graph.run(import_query, {\"listingsFile\": listings_file}).summary().counters"
   ]
  },
  {
   "cell_type": "markdown",
   "metadata": {},
   "source": [
    "## Amenities"
   ]
  },
  {
   "cell_type": "code",
   "execution_count": 14,
   "metadata": {},
   "outputs": [
    {
     "data": {
      "text/plain": [
       "{'labels_added': 127, 'relationships_created': 981512, 'nodes_created': 127, 'properties_set': 127}"
      ]
     },
     "execution_count": 14,
     "metadata": {},
     "output_type": "execute_result"
    }
   ],
   "source": [
    "constraint_query = \"\"\"\n",
    "CREATE CONSTRAINT ON (a:Amenity) \n",
    "ASSERT a.name IS UNIQUE;\n",
    "\"\"\"\n",
    "\n",
    "import_query = \"\"\"\n",
    "USING PERIODIC COMMIT 1000\n",
    "LOAD CSV WITH HEADERS FROM $listingsFile AS row\n",
    "WITH row WHERE row.id IS NOT NULL\n",
    "MATCH (l:Listing {id: row.id})\n",
    "WITH l, split(replace(replace(replace(row.amenities, '{', ''), '}', ''), '\\\"', ''), ',') AS amenities\n",
    "UNWIND amenities AS amenity\n",
    "MERGE (a:Amenity {name: amenity})\n",
    "MERGE (l)-[:HAS]->(a)\n",
    "\"\"\"\n",
    "\n",
    "graph.run(constraint_query).summary().counters\n",
    "graph.run(import_query, {\"listingsFile\": listings_file}).summary().counters"
   ]
  },
  {
   "cell_type": "markdown",
   "metadata": {},
   "source": [
    "## Hosts"
   ]
  },
  {
   "cell_type": "code",
   "execution_count": 15,
   "metadata": {},
   "outputs": [
    {
     "data": {
      "text/plain": [
       "{'labels_added': 40309, 'relationships_created': 50914, 'nodes_created': 40309, 'properties_set': 201383}"
      ]
     },
     "execution_count": 15,
     "metadata": {},
     "output_type": "execute_result"
    }
   ],
   "source": [
    "constraint_query = \"\"\"\n",
    "CREATE CONSTRAINT ON (h:Host) \n",
    "ASSERT h.id IS UNIQUE\n",
    "\"\"\"\n",
    "\n",
    "import_query = \"\"\"\n",
    "LOAD CSV WITH HEADERS FROM $listingsFile AS row\n",
    "WITH row WHERE row.host_id IS NOT NULL\n",
    "MERGE (h:Host {id: row.host_id})\n",
    "ON CREATE SET h.name      = row.host_name,\n",
    "              h.about     = row.host_abot,\n",
    "              h.superhost = CASE WHEN row.host_is_super_host = \"t\" THEN True ELSE False END,\n",
    "              h.location  = row.host_location,\n",
    "              h.image     = row.host_picture_url\n",
    "WITH row, h\n",
    "MATCH (l:Listing {id: row.id})\n",
    "MERGE (h)-[:HOSTS]->(l);\n",
    "\"\"\"\n",
    "\n",
    "graph.run(constraint_query)\n",
    "graph.run(import_query, {\"listingsFile\": listings_file}).summary().counters"
   ]
  },
  {
   "cell_type": "markdown",
   "metadata": {},
   "source": [
    "## Reviews"
   ]
  },
  {
   "cell_type": "code",
   "execution_count": 21,
   "metadata": {},
   "outputs": [
    {
     "data": {
      "text/plain": [
       "{'labels_added': 649493, 'relationships_created': 719078, 'nodes_created': 649493, 'properties_set': 3678110}"
      ]
     },
     "execution_count": 21,
     "metadata": {},
     "output_type": "execute_result"
    }
   ],
   "source": [
    "user_constraint_query = \"\"\"\n",
    "CREATE CONSTRAINT ON (u:User) \n",
    "ASSERT u.id IS UNIQUE\n",
    "\"\"\"\n",
    "\n",
    "review_constraint_query = \"\"\"\n",
    "CREATE CONSTRAINT ON (r:Review) \n",
    "ASSERT r.id IS UNIQUE\n",
    "\"\"\"\n",
    "\n",
    "\n",
    "import_query = \"\"\"\n",
    "USING PERIODIC COMMIT 10000\n",
    "LOAD CSV WITH HEADERS FROM $reviewsFile AS row\n",
    "\n",
    "// User\n",
    "MERGE (u:User {id: row.reviewer_id})\n",
    "SET u.name = row.reviewer_name\n",
    "\n",
    "// Review\n",
    "MERGE (r:Review {id: row.id})\n",
    "SET r.date     = row.date,\n",
    "    r.comments = row.comments\n",
    "WITH row, u, r\n",
    "MATCH (l:Listing {id: row.listing_id})\n",
    "MERGE (u)-[:WROTE]->(r)\n",
    "MERGE (r)-[:REVIEWS]->(l);\n",
    "\"\"\"\n",
    "\n",
    "graph.run(user_constraint_query).summary().counters\n",
    "graph.run(review_constraint_query).summary().counters\n",
    "graph.run(import_query, {\"reviewsFile\": reviews_file}).summary().counters"
   ]
  },
  {
   "cell_type": "markdown",
   "metadata": {},
   "source": [
    "In the next notebook we'll explore the data we've imported."
   ]
  }
 ],
 "metadata": {
  "kernelspec": {
   "display_name": "Python 3",
   "language": "python",
   "name": "python3"
  },
  "language_info": {
   "codemirror_mode": {
    "name": "ipython",
    "version": 3
   },
   "file_extension": ".py",
   "mimetype": "text/x-python",
   "name": "python",
   "nbconvert_exporter": "python",
   "pygments_lexer": "ipython3",
   "version": "3.6.5"
  }
 },
 "nbformat": 4,
 "nbformat_minor": 2
}
