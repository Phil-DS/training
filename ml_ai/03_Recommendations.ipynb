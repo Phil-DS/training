{
 "cells": [
  {
   "cell_type": "markdown",
   "metadata": {},
   "source": [
    "# Recommendations\n",
    "\n",
    "In this section we'll learn how to make listing recommendations using Neo4j. As usual, let's first import some libraries:"
   ]
  },
  {
   "cell_type": "code",
   "execution_count": null,
   "metadata": {},
   "outputs": [],
   "source": [
    "from py2neo import Graph\n",
    "import pandas as pd\n",
    "\n",
    "pd.set_option('display.max_colwidth', -1)"
   ]
  },
  {
   "cell_type": "code",
   "execution_count": null,
   "metadata": {},
   "outputs": [],
   "source": [
    "graph = Graph(\"bolt://localhost\", auth=(\"neo4j\", \"neo\"))"
   ]
  },
  {
   "cell_type": "markdown",
   "metadata": {},
   "source": [
    "Sicne we're going to make listing suggestions so let's find some users who have written the most reviews so that we have some data to work with."
   ]
  },
  {
   "cell_type": "code",
   "execution_count": null,
   "metadata": {},
   "outputs": [],
   "source": [
    "popular_users_query = \"\"\"\n",
    "MATCH (u:User)\n",
    "RETURN u.id AS id, u.name AS user, size((u)-[:WROTE]->()) AS reviews\n",
    "ORDER BY reviews DESC\n",
    "LIMIT 10\n",
    "\"\"\"\n",
    "\n",
    "graph.run(popular_users_query).to_data_frame()"
   ]
  },
  {
   "cell_type": "markdown",
   "metadata": {},
   "source": [
    "We can probably pick anyone from this list but 'Salvador' happens to have written reviews of places that have also been reviewed by other people so we'll use him for our example.\n",
    "\n",
    "The following query finds the listings that Salvador has reviewed the most:"
   ]
  },
  {
   "cell_type": "code",
   "execution_count": null,
   "metadata": {},
   "outputs": [],
   "source": [
    "user_query = \"\"\"\n",
    "MATCH (u:User {id: $userId})-[:WROTE]->(review)-[:REVIEWS]->(listing:Listing)-[:IN_NEIGHBORHOOD]->(nh)\n",
    "RETURN listing.id, listing.name, listing.propertyType, nh.name, count(*) AS times\n",
    "ORDER BY times DESC\n",
    "\"\"\"\n",
    "\n",
    "user_id = \"141581986\"\n",
    "\n",
    "graph.run(user_query, {\"userId\": user_id}).to_data_frame()"
   ]
  },
  {
   "cell_type": "markdown",
   "metadata": {},
   "source": [
    "It looks like Salvador stays in places near to La Guardia Airport based on the names of the listings. \n",
    "\n",
    "The following query finds users who have reviewed the same places as Salvador:"
   ]
  },
  {
   "cell_type": "code",
   "execution_count": null,
   "metadata": {},
   "outputs": [],
   "source": [
    "similar_users_query = \"\"\"\n",
    "MATCH (u:User {id: $userId})-[:WROTE]->()-[:REVIEWS]->(listing:Listing),\n",
    "      (other)-[:WROTE]->()-[:REVIEWS]->(listing)\n",
    "WHERE u <> other      \n",
    "WITH other, count(distinct listing) AS commonListings      \n",
    "RETURN other.id, other.name, commonListings\n",
    "ORDER BY commonListings DESC\n",
    "LIMIT 10\n",
    "\"\"\"\n",
    "\n",
    "user_id = \"141581986\"\n",
    "\n",
    "graph.run(similar_users_query, {\"userId\": user_id}).to_data_frame()"
   ]
  },
  {
   "cell_type": "markdown",
   "metadata": {},
   "source": [
    "We'll return to these users in the next section."
   ]
  },
  {
   "cell_type": "markdown",
   "metadata": {},
   "source": [
    "## Collaborative Filtering\n",
    "\n",
    "[Collaborative filtering](https://towardsdatascience.com/various-implementations-of-collaborative-filtering-100385c6dfe0) is based on the assumption that people like things similar to other things they like, and things that are liked by other people with similar taste.\n",
    "\n",
    "<img src=\"https://cdn-images-1.medium.com/max/1600/1*6_NlX6CJYhtxzRM-t6ywkQ.png\" width=\"500px\" />\n",
    "\n",
    "We can use a simple variant of this approach to find listings that were reviewed by people who stayed in other places that Salvador reviewed:"
   ]
  },
  {
   "cell_type": "code",
   "execution_count": null,
   "metadata": {},
   "outputs": [],
   "source": [
    "collabarative_filtering_query = \"\"\"\n",
    "MATCH (u:User {id: $userId})-[:WROTE]->()-[:REVIEWS]->(listing:Listing),\n",
    "      (other)-[:WROTE]->()-[:REVIEWS]->(listing)\n",
    "WHERE u <> other      \n",
    "WITH u, other, count(distinct listing) AS commonListings\n",
    "ORDER BY commonListings DESC\n",
    "LIMIT 10\n",
    "MATCH (other)-[:WROTE]->(review)-[:REVIEWS]->(listing)\n",
    "WHERE not((u)-[:WROTE]->()-[:REVIEWS]->(listing))\n",
    "RETURN listing, [user in collect(DISTINCT other) | user.name] AS users\n",
    "ORDER BY size(users) DESC\n",
    "LIMIT 10\n",
    "\"\"\"\n",
    "\n",
    "user_id = \"141581986\"\n",
    "graph.run(collabarative_filtering_query, {\"userId\": user_id}).to_data_frame()"
   ]
  },
  {
   "cell_type": "markdown",
   "metadata": {},
   "source": [
    "The previous query considered users to be similar to each other if they've written reviews on the same listings, but we could do something more sophisticated. \n",
    "\n",
    "We want to work out similar users for each user using a similarity measure (e.g. Jaccard, Cosine, Pearson). These algorithms have a complexity of O(n^2) so let's check how many users we have before we do this:"
   ]
  },
  {
   "cell_type": "code",
   "execution_count": null,
   "metadata": {
    "scrolled": true
   },
   "outputs": [],
   "source": [
    "user_query = \"\"\"\n",
    "MATCH (u:User)\n",
    "RETURN count(*)\n",
    "\"\"\"\n",
    "\n",
    "graph.run(user_query).to_data_frame()"
   ]
  },
  {
   "cell_type": "markdown",
   "metadata": {},
   "source": [
    "We have more than 800,000 users which would result in more than 770 billion comparisons to work out similarity scores. \n",
    "That will take a long time so we need to find a way to reduce the number of comparisons that we need to do.\n",
    "\n",
    "One way to do this is by clustering our users using the Label Propagation algorithm.\n",
    "We can then run a similarity algorithm on these small sets of users."
   ]
  },
  {
   "cell_type": "code",
   "execution_count": null,
   "metadata": {},
   "outputs": [],
   "source": [
    "clustering_query = \"\"\"\n",
    "CALL algo.labelPropagation(\n",
    "  \"MATCH (u:User) WITH u SKIP {skip} LIMIT {limit} RETURN id(u) AS id\",\n",
    "  \"MATCH (u1:User) WITH u1 SKIP {skip} LIMIT {limit} MATCH (u1:User)-[:WROTE]->()-[:REVIEWS]->()<-[:REVIEWS]-()<-[:WROTE]-(u2)\n",
    "   return id(u1) AS source, id(u2) AS target, count(*) AS weight\", \"BOTH\",\n",
    "  {graph: \"cypher\", batchSize: 100, partitionProperty: \"partition\"}\n",
    ")\n",
    "\"\"\"\n",
    "\n",
    "# graph.run(clustering_query).data()"
   ]
  },
  {
   "cell_type": "markdown",
   "metadata": {},
   "source": [
    "If you want to run the query in the previous cell you can uncomment the last line, but it takes about 10 minutes to complete, so rather than run that we can load the results from a pre computed CSV file."
   ]
  },
  {
   "cell_type": "code",
   "execution_count": null,
   "metadata": {},
   "outputs": [],
   "source": [
    "load_pre_computed_csv_query = \"\"\"\n",
    "USING PERIODIC COMMIT 1000\n",
    "LOAD CSV WITH HEADERS FROM $csvFile AS row\n",
    "MATCH (u:User {id: row.userId})\n",
    "SET u.partition = toInteger(row.partition)\n",
    "\"\"\"\n",
    "\n",
    "csv_file = \"https://github.com/neo4j-contrib/training/raw/master/ml_ai/partitions.csv\"\n",
    "graph.run(load_pre_computed_csv_query, {\"csvFile\": csv_file}).summary().counters"
   ]
  },
  {
   "cell_type": "markdown",
   "metadata": {},
   "source": [
    "Let's see how many users we have in each partition:"
   ]
  },
  {
   "cell_type": "code",
   "execution_count": null,
   "metadata": {},
   "outputs": [],
   "source": [
    "cluster_query = \"\"\"\n",
    "MATCH (u:User)\n",
    "WHERE exists(u.partition)\n",
    "RETURN u.partition AS partition, count(*) AS count\n",
    "ORDER BY count DESC\n",
    "LIMIT 10\n",
    "\"\"\"\n",
    "\n",
    "clusters = graph.run(cluster_query).to_table()\n",
    "clusters"
   ]
  },
  {
   "cell_type": "markdown",
   "metadata": {},
   "source": [
    "Our next step could be to iterate through each of the partitions and calculate the similarity of users in each partition, but rather than doing that we'll just calculate the similarity of people in the same cluster as Salvador.\n",
    "\n",
    "The following query finds the cluster containing Salvador:"
   ]
  },
  {
   "cell_type": "code",
   "execution_count": null,
   "metadata": {},
   "outputs": [],
   "source": [
    "user_query = \"\"\"\n",
    "MATCH (u:User {id: $userId})\n",
    "WITH u.partition AS partition, id(u) AS userId\n",
    "MATCH (u:User {partition: partition})\n",
    "RETURN partition, count(*), userId\n",
    "\"\"\"\n",
    "\n",
    "result = graph.run(user_query, {\"userId\": user_id}).to_table()\n",
    "partition, _, user_node_id = result[0]\n",
    "result"
   ]
  },
  {
   "cell_type": "markdown",
   "metadata": {},
   "source": [
    "Next we'll calculate the similarity of users in that cluster, and then filter the results to show users that are similar to Salvador:"
   ]
  },
  {
   "cell_type": "code",
   "execution_count": null,
   "metadata": {},
   "outputs": [],
   "source": [
    "similarity_query = \"\"\"\n",
    "MATCH (u:User {partition: $cluster})\n",
    "MATCH (u)-[:WROTE]->()-[:REVIEWS]->(l)\n",
    "WITH {item:id(u), categories: collect(distinct id(l))} as userData\n",
    "WITH collect(userData) as data\n",
    "CALL algo.similarity.jaccard.stream(data, {similarityCutoff: 0.0})\n",
    "YIELD item1, item2, count1, count2, intersection, similarity\n",
    "WHERE item1 = $userNodeId or item2 = $userNodeId\n",
    "RETURN item1, item2, count1, count2, intersection, similarity\n",
    "ORDER BY similarity DESC\n",
    "LIMIT 10\n",
    "\"\"\"\n",
    "\n",
    "result = graph.run(similarity_query, {\"cluster\": partition, \"userNodeId\": user_node_id}).to_table()\n",
    "result"
   ]
  },
  {
   "cell_type": "code",
   "execution_count": null,
   "metadata": {
    "scrolled": true
   },
   "outputs": [],
   "source": [
    "similarity_query = \"\"\"\n",
    "MATCH (u:User {partition: $cluster})\n",
    "MATCH (u)-[:WROTE]->()-[:REVIEWS]->(l)\n",
    "WITH {item:id(u), categories: collect(distinct id(l))} as userData\n",
    "WITH collect(userData) as data\n",
    "CALL algo.similarity.jaccard(data, {similarityCutoff: 0.0, write: false})\n",
    "YIELD nodes, min, max, mean, stdDev, p25, p50, p75, p90, p95, p99, p999, p100, similarityPairs \n",
    "RETURN nodes, min, max, mean, stdDev, p25, p50, p75, p90, p95, p99, p999, p100, similarityPairs\n",
    "\"\"\"\n",
    "\n",
    "result = graph.run(similarity_query, {\"cluster\": partition}).to_table()\n",
    "result"
   ]
  },
  {
   "cell_type": "markdown",
   "metadata": {},
   "source": [
    "In this example we set `write` to `false`, which means that no relationships are created between similar users. If we do want to create relationships between users we may prefer to pass in the `topK` parameter, which will find the `k` most similar users.\n",
    "\n",
    "Let's run the Jaccard Similarity algorithm again, but this time with `topK=3`, which will find 3 similar users for each user. We'll also set `similarityCutoff=0.2` to filter out users who may have only one listing in common."
   ]
  },
  {
   "cell_type": "code",
   "execution_count": null,
   "metadata": {},
   "outputs": [],
   "source": [
    "similarity_query = \"\"\"\n",
    "MATCH (u:User {partition: $cluster})\n",
    "MATCH (u)-[:WROTE]->()-[:REVIEWS]->(l)\n",
    "WITH {item:id(u), categories: collect(distinct id(l))} as userData\n",
    "WITH collect(userData) as data\n",
    "CALL algo.similarity.jaccard(data, {similarityCutoff: 0.2, topK:3, write: true})\n",
    "YIELD nodes, similarityPairs, writeProperty, writeRelationshipType\n",
    "RETURN nodes, similarityPairs, writeProperty, writeRelationshipType\n",
    "\"\"\"\n",
    "\n",
    "result = graph.run(similarity_query, {\"cluster\": partition}).to_table()\n",
    "result"
   ]
  },
  {
   "cell_type": "markdown",
   "metadata": {},
   "source": [
    "Let's see what Salvador's similarity sub graph looks like:"
   ]
  },
  {
   "cell_type": "code",
   "execution_count": null,
   "metadata": {},
   "outputs": [],
   "source": [
    "similar_query = \"\"\"\n",
    "MATCH path = (:User {id: $userId})-[:SIMILAR]-(other)\n",
    "RETURN path\n",
    "\"\"\"\n",
    "\n",
    "graph.run(similar_query, {\"userId\": user_id}).to_table()"
   ]
  },
  {
   "cell_type": "markdown",
   "metadata": {},
   "source": [
    "If we run this in the Neo4j browser, and double click on each similar user, we'd see the following visual representation:"
   ]
  },
  {
   "cell_type": "markdown",
   "metadata": {},
   "source": [
    "<img align=\"left\" src=\"images/similarity-salvador-listings.svg\" width=\"500px\">"
   ]
  },
  {
   "cell_type": "markdown",
   "metadata": {},
   "source": [
    "If you want to try that query in the Neo4j Browser you'll need to set the `userId` parameter before you run the query. You can do that by running the following command in the Neo4j Browser:\n",
    "\n",
    "`\n",
    ":params userId => \"141581986\"\n",
    "`\n",
    "\n",
    "We can now write a query to find out what listings the people who are similar to Salvador have reviewed:"
   ]
  },
  {
   "cell_type": "code",
   "execution_count": null,
   "metadata": {},
   "outputs": [],
   "source": [
    "similar_query = \"\"\"\n",
    "MATCH (:User {id: $userId})-[:SIMILAR]-(other),\n",
    "      (other)-[:WROTE]->()-[:REVIEWS]->(listing)\n",
    "RETURN DISTINCT other.name, listing.id, listing.name\n",
    "ORDER BY other.name\n",
    "\"\"\"\n",
    "\n",
    "graph.run(similar_query, {\"userId\": user_id}).to_table()"
   ]
  },
  {
   "cell_type": "markdown",
   "metadata": {},
   "source": [
    "Now let's see if any of these listings are ones that Salvador hasn't previously stayed at:"
   ]
  },
  {
   "cell_type": "code",
   "execution_count": null,
   "metadata": {},
   "outputs": [],
   "source": [
    "recommendations_query = \"\"\"\n",
    "MATCH (u:User {id: $userId})-[:SIMILAR]-(other),\n",
    "      (other)-[:WROTE]->(review)-[:REVIEWS]->(listing)\n",
    "WHERE not((u)-[:WROTE]->()-[:REVIEWS]->(listing))\n",
    "RETURN listing.id, listing.name, listing.propertyType, listing.bedrooms, listing.price, collect(DISTINCT other.name) AS people\n",
    "ORDER BY size(people) DESC\n",
    "\"\"\"\n",
    "\n",
    "graph.run(recommendations_query, {\"userId\": user_id}).to_table()"
   ]
  },
  {
   "cell_type": "markdown",
   "metadata": {},
   "source": [
    "We could now make these suggestions to Salvador next time that he's looking for a place to stay."
   ]
  },
  {
   "cell_type": "markdown",
   "metadata": {},
   "source": [
    "## Exercise\n",
    "\n",
    "* Have a look at Salvador's similarity graph in the Neo4j Browser - do the similar users make sense?\n",
    "* Can you write a query to make recommendations for somebody else in the same cluster as Salvador?\n",
    "* Can we use the Cosine Similarity procedure (with arrays of numeric properties e.g. number of bathrooms, bedrooms) to calculate listing similarities?"
   ]
  }
 ],
 "metadata": {
  "celltoolbar": "Raw Cell Format",
  "kernelspec": {
   "display_name": "Python 3",
   "language": "python",
   "name": "python3"
  },
  "language_info": {
   "codemirror_mode": {
    "name": "ipython",
    "version": 3
   },
   "file_extension": ".py",
   "mimetype": "text/x-python",
   "name": "python",
   "nbconvert_exporter": "python",
   "pygments_lexer": "ipython3",
   "version": "3.7.0"
  }
 },
 "nbformat": 4,
 "nbformat_minor": 2
}
