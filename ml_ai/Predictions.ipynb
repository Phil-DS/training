{
 "cells": [
  {
   "cell_type": "code",
   "execution_count": 45,
   "metadata": {},
   "outputs": [],
   "source": [
    "from py2neo import Graph\n",
    "import pandas as pd\n",
    "\n",
    "pd.set_option('display.max_colwidth', -1)"
   ]
  },
  {
   "cell_type": "code",
   "execution_count": 72,
   "metadata": {},
   "outputs": [],
   "source": [
    "graph = Graph(\"bolt://localhost\", auth=(\"neo4j\", \"neo\"))"
   ]
  },
  {
   "cell_type": "markdown",
   "metadata": {},
   "source": [
    "For this section we need to install the [ml-models](https://github.com/neo4j-graph-analytics/ml-models) procedures library. You can find installation instructions on the [releases pages](https://github.com/neo4j-graph-analytics/ml-models/releases/tag/1.0.1). \n",
    "\n",
    "Once you've done that, run the following code to check that the library is installed:"
   ]
  },
  {
   "cell_type": "code",
   "execution_count": 47,
   "metadata": {},
   "outputs": [
    {
     "data": {
      "text/html": [
       "<div>\n",
       "<style scoped>\n",
       "    .dataframe tbody tr th:only-of-type {\n",
       "        vertical-align: middle;\n",
       "    }\n",
       "\n",
       "    .dataframe tbody tr th {\n",
       "        vertical-align: top;\n",
       "    }\n",
       "\n",
       "    .dataframe thead th {\n",
       "        text-align: right;\n",
       "    }\n",
       "</style>\n",
       "<table border=\"1\" class=\"dataframe\">\n",
       "  <thead>\n",
       "    <tr style=\"text-align: right;\">\n",
       "      <th></th>\n",
       "      <th>name</th>\n",
       "    </tr>\n",
       "  </thead>\n",
       "  <tbody>\n",
       "    <tr>\n",
       "      <th>0</th>\n",
       "      <td>regression.linear.add</td>\n",
       "    </tr>\n",
       "    <tr>\n",
       "      <th>1</th>\n",
       "      <td>regression.linear.addM</td>\n",
       "    </tr>\n",
       "    <tr>\n",
       "      <th>2</th>\n",
       "      <td>regression.linear.clear</td>\n",
       "    </tr>\n",
       "    <tr>\n",
       "      <th>3</th>\n",
       "      <td>regression.linear.copy</td>\n",
       "    </tr>\n",
       "    <tr>\n",
       "      <th>4</th>\n",
       "      <td>regression.linear.create</td>\n",
       "    </tr>\n",
       "    <tr>\n",
       "      <th>5</th>\n",
       "      <td>regression.linear.delete</td>\n",
       "    </tr>\n",
       "    <tr>\n",
       "      <th>6</th>\n",
       "      <td>regression.linear.info</td>\n",
       "    </tr>\n",
       "    <tr>\n",
       "      <th>7</th>\n",
       "      <td>regression.linear.load</td>\n",
       "    </tr>\n",
       "    <tr>\n",
       "      <th>8</th>\n",
       "      <td>regression.linear.remove</td>\n",
       "    </tr>\n",
       "    <tr>\n",
       "      <th>9</th>\n",
       "      <td>regression.linear.removeM</td>\n",
       "    </tr>\n",
       "    <tr>\n",
       "      <th>10</th>\n",
       "      <td>regression.linear.test</td>\n",
       "    </tr>\n",
       "    <tr>\n",
       "      <th>11</th>\n",
       "      <td>regression.linear.train</td>\n",
       "    </tr>\n",
       "  </tbody>\n",
       "</table>\n",
       "</div>"
      ],
      "text/plain": [
       "                         name\n",
       "0   regression.linear.add    \n",
       "1   regression.linear.addM   \n",
       "2   regression.linear.clear  \n",
       "3   regression.linear.copy   \n",
       "4   regression.linear.create \n",
       "5   regression.linear.delete \n",
       "6   regression.linear.info   \n",
       "7   regression.linear.load   \n",
       "8   regression.linear.remove \n",
       "9   regression.linear.removeM\n",
       "10  regression.linear.test   \n",
       "11  regression.linear.train  "
      ]
     },
     "execution_count": 47,
     "metadata": {},
     "output_type": "execute_result"
    }
   ],
   "source": [
    "query = \"\"\"\n",
    "CALL dbms.procedures() \n",
    "YIELD name WHERE name STARTS WITH 'regression' \n",
    "RETURN *\n",
    "\"\"\"\n",
    "\n",
    "graph.run(query).to_data_frame()"
   ]
  },
  {
   "cell_type": "markdown",
   "metadata": {},
   "source": [
    "Let's split training and test data:"
   ]
  },
  {
   "cell_type": "code",
   "execution_count": 48,
   "metadata": {},
   "outputs": [
    {
     "data": {
      "text/plain": [
       "{}"
      ]
     },
     "execution_count": 48,
     "metadata": {},
     "output_type": "execute_result"
    }
   ],
   "source": [
    "split_data_train_query = \"\"\"\n",
    "MATCH (list:Listing)-[:IN_NEIGHBORHOOD]->(:Neighborhood) \n",
    "WHERE exists(list.bedrooms) AND exists(list.bathrooms)\n",
    "AND exists(list.price) \n",
    "AND (:Review)-[:REVIEWS]->(list) \n",
    "WITH regression.linear.split(collect(id(list)), 0.75) AS trainingIDs\n",
    "MATCH (list:Listing) WHERE id(list) in trainingIDs \n",
    "SET list:Train\n",
    "\"\"\"\n",
    "\n",
    "split_data_test_query = \"\"\"\n",
    "MATCH (list:Listing)-[n:IN_NEIGHBORHOOD]->(:Neighborhood)\n",
    "WHERE exists(list.bedrooms) AND exists(list.bathrooms)\n",
    "AND exists(list.price) \n",
    "AND (:Review)-[:REVIEWS]->(list) \n",
    "AND NOT list:Train \n",
    "SET list:Test\n",
    "\"\"\"\n",
    "\n",
    "graph.run(split_data_train_query).summary().counters\n",
    "graph.run(split_data_test_query).summary().counters"
   ]
  },
  {
   "cell_type": "code",
   "execution_count": 50,
   "metadata": {},
   "outputs": [
    {
     "data": {
      "text/html": [
       "<div>\n",
       "<style scoped>\n",
       "    .dataframe tbody tr th:only-of-type {\n",
       "        vertical-align: middle;\n",
       "    }\n",
       "\n",
       "    .dataframe tbody tr th {\n",
       "        vertical-align: top;\n",
       "    }\n",
       "\n",
       "    .dataframe thead th {\n",
       "        text-align: right;\n",
       "    }\n",
       "</style>\n",
       "<table border=\"1\" class=\"dataframe\">\n",
       "  <thead>\n",
       "    <tr style=\"text-align: right;\">\n",
       "      <th></th>\n",
       "      <th>regression.linear.correlation(reviews, rooms)</th>\n",
       "    </tr>\n",
       "  </thead>\n",
       "  <tbody>\n",
       "    <tr>\n",
       "      <th>0</th>\n",
       "      <td>0.026142</td>\n",
       "    </tr>\n",
       "  </tbody>\n",
       "</table>\n",
       "</div>"
      ],
      "text/plain": [
       "   regression.linear.correlation(reviews, rooms)\n",
       "0  0.026142                                     "
      ]
     },
     "execution_count": 50,
     "metadata": {},
     "output_type": "execute_result"
    }
   ],
   "source": [
    "correlation_query = \"\"\"\n",
    "MATCH (list) \n",
    "WHERE list:Test OR list:Train\n",
    "WITH collect(size((list)<-[:REVIEWS]-()) * 1.0) AS reviews,\n",
    "     collect(list.bedrooms + list.bathrooms) as rooms\n",
    "RETURN regression.linear.correlation(reviews, rooms)\n",
    "\"\"\"\n",
    "\n",
    "graph.run(correlation_query).to_data_frame()"
   ]
  },
  {
   "cell_type": "code",
   "execution_count": 51,
   "metadata": {},
   "outputs": [],
   "source": [
    "model_name = \"rental-prices-4\""
   ]
  },
  {
   "cell_type": "code",
   "execution_count": 52,
   "metadata": {},
   "outputs": [
    {
     "data": {
      "text/plain": [
       "{}"
      ]
     },
     "execution_count": 52,
     "metadata": {},
     "output_type": "execute_result"
    }
   ],
   "source": [
    "init_query = \"\"\"\n",
    "CALL regression.linear.create($modelName, 'Multiple', true, 2)\n",
    "\"\"\"\n",
    "\n",
    "graph.run(init_query, {\"modelName\": model_name}).summary().counters"
   ]
  },
  {
   "cell_type": "code",
   "execution_count": 53,
   "metadata": {},
   "outputs": [
    {
     "data": {
      "text/plain": [
       "{'labels_added': 36790}"
      ]
     },
     "execution_count": 53,
     "metadata": {},
     "output_type": "execute_result"
    }
   ],
   "source": [
    "add_training_data_query = \"\"\"\n",
    "MATCH (list:Train)\n",
    "WHERE NOT list:Seen \n",
    "CALL regression.linear.add($modelName, \n",
    "  [list.bedrooms + list.bathrooms, size((list)<-[:REVIEWS]-()) * 1.0], \n",
    "  list.price\n",
    ") \n",
    "SET list:Seen \n",
    "RETURN count(list)\n",
    "\"\"\"\n",
    "\n",
    "graph.run(add_training_data_query, {\"modelName\": model_name}).summary().counters"
   ]
  },
  {
   "cell_type": "code",
   "execution_count": 54,
   "metadata": {},
   "outputs": [
    {
     "data": {
      "text/plain": [
       "<py2neo.database.Cursor at 0x1156d6a90>"
      ]
     },
     "execution_count": 54,
     "metadata": {},
     "output_type": "execute_result"
    }
   ],
   "source": [
    "train_model_query = \"\"\"\n",
    "CALL regression.linear.train($modelName)\n",
    "\"\"\"\n",
    "\n",
    "graph.run(train_model_query, {\"modelName\": model_name})"
   ]
  },
  {
   "cell_type": "code",
   "execution_count": 55,
   "metadata": {},
   "outputs": [],
   "source": [
    "add_test_data_query = \"\"\"\n",
    "MATCH (list:Test) \n",
    "WHERE NOT list:Seen\n",
    "CALL regression.linear.add($modelName, \n",
    "  [list.bedrooms + list.bathrooms, size((list)<-[:REVIEWS]-()) * 1.0],  \n",
    "  list.price, \n",
    "  'test'\n",
    ") \n",
    "SET list:Seen \n",
    "RETURN count(list)\n",
    "\"\"\"\n",
    "\n",
    "graph.run(add_test_data_query, {\"modelName\": model_name})"
   ]
  },
  {
   "cell_type": "code",
   "execution_count": 56,
   "metadata": {},
   "outputs": [
    {
     "data": {
      "text/html": [
       "<div>\n",
       "<style scoped>\n",
       "    .dataframe tbody tr th:only-of-type {\n",
       "        vertical-align: middle;\n",
       "    }\n",
       "\n",
       "    .dataframe tbody tr th {\n",
       "        vertical-align: top;\n",
       "    }\n",
       "\n",
       "    .dataframe thead th {\n",
       "        text-align: right;\n",
       "    }\n",
       "</style>\n",
       "<table border=\"1\" class=\"dataframe\">\n",
       "  <thead>\n",
       "    <tr style=\"text-align: right;\">\n",
       "      <th></th>\n",
       "      <th>framework</th>\n",
       "      <th>hasConstant</th>\n",
       "      <th>model</th>\n",
       "      <th>nTest</th>\n",
       "      <th>nTrain</th>\n",
       "      <th>numVars</th>\n",
       "      <th>state</th>\n",
       "      <th>testInfo</th>\n",
       "      <th>trainInfo</th>\n",
       "    </tr>\n",
       "  </thead>\n",
       "  <tbody>\n",
       "    <tr>\n",
       "      <th>0</th>\n",
       "      <td>Multiple</td>\n",
       "      <td>True</td>\n",
       "      <td>rental-prices-4</td>\n",
       "      <td>0</td>\n",
       "      <td>36790</td>\n",
       "      <td>2</td>\n",
       "      <td>ready</td>\n",
       "      <td>{'adjRSquared': nan, 'RSquared': nan, 'SSE': 0.0, 'SST': 0.0, 'MSE': -0.0}</td>\n",
       "      <td>{'RSquared': 0.22357460363988557, 'SSR': 88897254.99853414, 'SSE': 308720602.9837708, 'SST': 397617857.98230493, 'adjRSquared': 0.22353239169564654, 'parameters std error': [1.2824171688063868, 0.5109515890197222, 0.011533589063208016], 'parameters': [16.223217245130986, 52.5881409596996, -0.034282521063706], 'MSE': 8392.111424790572}</td>\n",
       "    </tr>\n",
       "  </tbody>\n",
       "</table>\n",
       "</div>"
      ],
      "text/plain": [
       "  framework  hasConstant            model  nTest  nTrain  numVars  state  \\\n",
       "0  Multiple  True         rental-prices-4  0      36790   2        ready   \n",
       "\n",
       "                                                                     testInfo  \\\n",
       "0  {'adjRSquared': nan, 'RSquared': nan, 'SSE': 0.0, 'SST': 0.0, 'MSE': -0.0}   \n",
       "\n",
       "                                                                                                                                                                                                                                                                                                                                          trainInfo  \n",
       "0  {'RSquared': 0.22357460363988557, 'SSR': 88897254.99853414, 'SSE': 308720602.9837708, 'SST': 397617857.98230493, 'adjRSquared': 0.22353239169564654, 'parameters std error': [1.2824171688063868, 0.5109515890197222, 0.011533589063208016], 'parameters': [16.223217245130986, 52.5881409596996, -0.034282521063706], 'MSE': 8392.111424790572}  "
      ]
     },
     "execution_count": 56,
     "metadata": {},
     "output_type": "execute_result"
    }
   ],
   "source": [
    "test_model_query = \"\"\"\n",
    "CALL regression.linear.test($modelName)\n",
    "\"\"\"\n",
    "\n",
    "graph.run(test_model_query, {\"modelName\": model_name}).to_data_frame()"
   ]
  },
  {
   "cell_type": "code",
   "execution_count": 57,
   "metadata": {},
   "outputs": [
    {
     "data": {
      "text/html": [
       "<div>\n",
       "<style scoped>\n",
       "    .dataframe tbody tr th:only-of-type {\n",
       "        vertical-align: middle;\n",
       "    }\n",
       "\n",
       "    .dataframe tbody tr th {\n",
       "        vertical-align: top;\n",
       "    }\n",
       "\n",
       "    .dataframe thead th {\n",
       "        text-align: right;\n",
       "    }\n",
       "</style>\n",
       "<table border=\"1\" class=\"dataframe\">\n",
       "  <thead>\n",
       "    <tr style=\"text-align: right;\">\n",
       "      <th></th>\n",
       "      <th>framework</th>\n",
       "      <th>hasConstant</th>\n",
       "      <th>model</th>\n",
       "      <th>nTest</th>\n",
       "      <th>nTrain</th>\n",
       "      <th>numVars</th>\n",
       "      <th>state</th>\n",
       "      <th>testInfo</th>\n",
       "      <th>trainInfo</th>\n",
       "    </tr>\n",
       "  </thead>\n",
       "  <tbody>\n",
       "    <tr>\n",
       "      <th>0</th>\n",
       "      <td>Multiple</td>\n",
       "      <td>True</td>\n",
       "      <td>rental-prices-4</td>\n",
       "      <td>0</td>\n",
       "      <td>36790</td>\n",
       "      <td>2</td>\n",
       "      <td>ready</td>\n",
       "      <td>{'adjRSquared': nan, 'RSquared': nan, 'SSE': 0.0, 'SST': 0.0, 'MSE': -0.0}</td>\n",
       "      <td>{'RSquared': 0.22357460363988557, 'SSR': 88897254.99853414, 'SSE': 308720602.9837708, 'SST': 397617857.98230493, 'adjRSquared': 0.22353239169564654, 'parameters std error': [1.2824171688063868, 0.5109515890197222, 0.011533589063208016], 'parameters': [16.223217245130986, 52.5881409596996, -0.034282521063706], 'MSE': 8392.111424790572}</td>\n",
       "    </tr>\n",
       "  </tbody>\n",
       "</table>\n",
       "</div>"
      ],
      "text/plain": [
       "  framework  hasConstant            model  nTest  nTrain  numVars  state  \\\n",
       "0  Multiple  True         rental-prices-4  0      36790   2        ready   \n",
       "\n",
       "                                                                     testInfo  \\\n",
       "0  {'adjRSquared': nan, 'RSquared': nan, 'SSE': 0.0, 'SST': 0.0, 'MSE': -0.0}   \n",
       "\n",
       "                                                                                                                                                                                                                                                                                                                                          trainInfo  \n",
       "0  {'RSquared': 0.22357460363988557, 'SSR': 88897254.99853414, 'SSE': 308720602.9837708, 'SST': 397617857.98230493, 'adjRSquared': 0.22353239169564654, 'parameters std error': [1.2824171688063868, 0.5109515890197222, 0.011533589063208016], 'parameters': [16.223217245130986, 52.5881409596996, -0.034282521063706], 'MSE': 8392.111424790572}  "
      ]
     },
     "execution_count": 57,
     "metadata": {},
     "output_type": "execute_result"
    }
   ],
   "source": [
    "info_query = \"\"\"\n",
    "CALL regression.linear.info($modelName) \n",
    "\"\"\"\n",
    "\n",
    "graph.run(info_query, {\"modelName\": model_name}).to_data_frame()"
   ]
  },
  {
   "cell_type": "markdown",
   "metadata": {},
   "source": [
    "Now let's add the neighborhood to the list of independent variables that we feed to our regression model. Neighborhoods are categorical variables so we'll need to create a [one hot encoding](https://hackernoon.com/what-is-one-hot-encoding-why-and-when-do-you-have-to-use-it-e3c6186d008f).\n",
    "\n",
    "We can use the `algo.ml.oneHotEncoding` function to help us out. "
   ]
  },
  {
   "cell_type": "code",
   "execution_count": 73,
   "metadata": {},
   "outputs": [],
   "source": [
    "model_name = \"rental-prices-6\""
   ]
  },
  {
   "cell_type": "code",
   "execution_count": 85,
   "metadata": {},
   "outputs": [
    {
     "data": {
      "text/plain": [
       "{}"
      ]
     },
     "execution_count": 85,
     "metadata": {},
     "output_type": "execute_result"
    }
   ],
   "source": [
    "nh_count_query = \"\"\"\n",
    "MATCH (:Neighborhood)\n",
    "RETURN count(*) AS count\n",
    "\"\"\"\n",
    "\n",
    "nh_count =  graph.run(nh_count_query).to_table()[0][0]\n",
    "\n",
    "\n",
    "init_query = \"\"\"\n",
    "CALL regression.linear.create($modelName, 'Multiple', true, $numberOfVariables)\n",
    "\"\"\"\n",
    "\n",
    "graph.run(init_query, {\"modelName\": model_name, \"numberOfVariables\": 2 + nh_count}).summary().counters"
   ]
  },
  {
   "cell_type": "markdown",
   "metadata": {},
   "source": [
    "Before we create our new model let's remove the `Seen` label from our nodes so that we can process them again:"
   ]
  },
  {
   "cell_type": "code",
   "execution_count": 86,
   "metadata": {},
   "outputs": [
    {
     "data": {
      "text/plain": [
       "<py2neo.database.Cursor at 0x1158a0da0>"
      ]
     },
     "execution_count": 86,
     "metadata": {},
     "output_type": "execute_result"
    }
   ],
   "source": [
    "clear_seen_query = \"\"\"\n",
    "MATCH (s:Seen)\n",
    "REMOVE s:Seen\n",
    "\"\"\"\n",
    "\n",
    "graph.run(clear_seen_query)"
   ]
  },
  {
   "cell_type": "code",
   "execution_count": 87,
   "metadata": {},
   "outputs": [
    {
     "data": {
      "text/plain": [
       "{'labels_added': 36790}"
      ]
     },
     "execution_count": 87,
     "metadata": {},
     "output_type": "execute_result"
    }
   ],
   "source": [
    "add_training_data_query = \"\"\"\n",
    "MATCH (nh:Neighborhood)\n",
    "WITH collect(nh) AS neighborhoods\n",
    "MATCH (list:Train)-[:IN_NEIGHBORHOOD]->(nh)\n",
    "WHERE NOT list:Seen \n",
    "CALL regression.linear.add($modelName, \n",
    "  apoc.coll.flatten([\n",
    "    [list.bedrooms + list.bathrooms, size((list)<-[:REVIEWS]-()) * 1.0],\n",
    "    algo.ml.oneHotEncoding(neighborhoods, [nh])\n",
    "  ]), \n",
    "  list.price\n",
    ") \n",
    "SET list:Seen \n",
    "RETURN count(list)\n",
    "\"\"\"\n",
    "\n",
    "graph.run(add_training_data_query, {\"modelName\": model_name}).summary().counters"
   ]
  },
  {
   "cell_type": "code",
   "execution_count": 88,
   "metadata": {},
   "outputs": [
    {
     "data": {
      "text/plain": [
       "<py2neo.database.Cursor at 0x1158a0588>"
      ]
     },
     "execution_count": 88,
     "metadata": {},
     "output_type": "execute_result"
    }
   ],
   "source": [
    "train_model_query = \"\"\"\n",
    "CALL regression.linear.train($modelName)\n",
    "\"\"\"\n",
    "\n",
    "graph.run(train_model_query, {\"modelName\": model_name})"
   ]
  },
  {
   "cell_type": "code",
   "execution_count": 90,
   "metadata": {},
   "outputs": [
    {
     "data": {
      "text/plain": [
       "<py2neo.database.Cursor at 0x1156ff5f8>"
      ]
     },
     "execution_count": 90,
     "metadata": {},
     "output_type": "execute_result"
    }
   ],
   "source": [
    "add_test_data_query = \"\"\"\n",
    "MATCH (nh:Neighborhood)\n",
    "WITH collect(nh) AS neighborhoods\n",
    "MATCH (list:Test)-[:IN_NEIGHBORHOOD]->(nh)\n",
    "WHERE NOT list:Seen \n",
    "CALL regression.linear.add($modelName, \n",
    "  apoc.coll.flatten([\n",
    "    [list.bedrooms + list.bathrooms, size((list)<-[:REVIEWS]-()) * 1.0],\n",
    "    algo.ml.oneHotEncoding(neighborhoods, [nh])\n",
    "  ]), \n",
    "  list.price\n",
    ") \n",
    "SET list:Seen \n",
    "RETURN count(list)\n",
    "\"\"\"\n",
    "\n",
    "graph.run(add_test_data_query, {\"modelName\": model_name})"
   ]
  },
  {
   "cell_type": "code",
   "execution_count": 91,
   "metadata": {},
   "outputs": [
    {
     "data": {
      "text/html": [
       "<div>\n",
       "<style scoped>\n",
       "    .dataframe tbody tr th:only-of-type {\n",
       "        vertical-align: middle;\n",
       "    }\n",
       "\n",
       "    .dataframe tbody tr th {\n",
       "        vertical-align: top;\n",
       "    }\n",
       "\n",
       "    .dataframe thead th {\n",
       "        text-align: right;\n",
       "    }\n",
       "</style>\n",
       "<table border=\"1\" class=\"dataframe\">\n",
       "  <thead>\n",
       "    <tr style=\"text-align: right;\">\n",
       "      <th></th>\n",
       "      <th>framework</th>\n",
       "      <th>hasConstant</th>\n",
       "      <th>model</th>\n",
       "      <th>nTest</th>\n",
       "      <th>nTrain</th>\n",
       "      <th>numVars</th>\n",
       "      <th>state</th>\n",
       "      <th>testInfo</th>\n",
       "      <th>trainInfo</th>\n",
       "    </tr>\n",
       "  </thead>\n",
       "  <tbody>\n",
       "    <tr>\n",
       "      <th>0</th>\n",
       "      <td>Multiple</td>\n",
       "      <td>True</td>\n",
       "      <td>rental-prices-6</td>\n",
       "      <td>0</td>\n",
       "      <td>39258</td>\n",
       "      <td>226</td>\n",
       "      <td>ready</td>\n",
       "      <td>{'adjRSquared': nan, 'RSquared': nan, 'SSE': 0.0, 'SST': 0.0, 'MSE': -0.0}</td>\n",
       "      <td>{'RSquared': 0.43894050872094714, 'SSR': 174530584.85928622, 'SSE': 223087273.1230187, 'SST': 397617857.98230493, 'adjRSquared': 0.4354725371368575, 'parameters std error': [nan, nan, nan, nan, nan, nan, nan, nan, nan, nan, nan, nan, nan, nan, nan, nan, nan, nan, nan, nan, nan, nan, nan, nan, nan, nan, nan, nan, nan, nan, nan, nan, nan, nan, nan, nan, nan, nan, nan, nan, nan, nan, nan, nan, nan, nan, nan, nan, nan, nan, nan, nan, nan, nan, nan, nan, nan, nan, nan, nan, nan, nan, nan, nan, nan, nan, nan, nan, nan, nan, nan, nan, nan, nan, nan, nan, nan, nan, nan, nan, nan, nan, nan, nan, nan, nan, nan, nan, nan, nan, nan, nan, nan, nan, nan, nan, nan, nan, nan, nan, ...], 'parameters': [1933160947024.3452, 55.174439596012235, -0.010862166411243379, -1933160947035.2078, -1933160947067.2014, -1933160946915.2056, -1933160947014.6123, -1933160947013.3208, -1933160946972.9734, -1933160946956.7898, -1933160946952.912, -1933160946977.8726, -1933160946892.5352, -1933160946992.573, -1933160947026.003, -1933160946920.7776, -1933160947033.0295, -1933160947004.9907, -1933160946929.8118, -1933160947052.7478, -1933160947006.2793, -1933160947058.3604, -1933160947046.312, -1933160947053.9624, -1933160947022.6423, -1933160947071.773, -1933160947064.875, -1933160946986.4749, -1933160947052.168, -1933160947037.1812, -1933160947021.1914, -1933160947067.864, -1933160946952.115, -1933160946914.5488, -1933160947015.292, -1933160947059.8057, -1933160946975.7998, -1933160947058.611, -1933160946961.2788, -1933160946937.1016, -1933160947001.3633, -1933160947058.1406, -1933160946996.9077, -1933160946987.5386, -1933160947058.0098, -1933160946995.38, -1933160947069.0007, -1933160947061.7097, -1933160947074.5142, -1933160947055.3613, -1933160946974.1426, -1933160947080.6074, -1933160947073.5188, -1933160946960.284, -1933160947082.1733, -1933160947036.6235, -1933160947054.6272, -1933160947037.928, -1933160946887.5054, -1933160947049.8994, -1933160947051.1592, -1933160946981.4597, -1933160947067.5964, -1933160947081.8743, -1933160946957.997, -1933160947046.283, -1933160947054.603, -1933160947053.3105, -1933160946941.567, -1933160947059.0737, -1933160946881.9106, -1933160947081.6172, -1933160947029.0896, -1933160947040.0947, -1933160946943.8286, -1933160947078.623, -1933160947057.4448, -1933160947066.9792, -1933160947079.9795, -1933160946920.9644, -1933160947056.9712, -1933160947068.5488, -1933160947047.2517, -1933160947042.5247, -1933160947065.5505, -1933160947043.4636, -1933160947073.4536, -1933160947065.827, -1933160947076.198, -1933160947061.3342, -1933160947074.2551, -1933160947001.9417, -1933160947073.8357, -1933160947074.8308, -1933160947059.3008, -1933160947081.0752, -1933160947061.145, -1933160947097.5498, -1933160947050.8086, -1933160947058.4495, ...], 'MSE': 6101.448817739756}</td>\n",
       "    </tr>\n",
       "  </tbody>\n",
       "</table>\n",
       "</div>"
      ],
      "text/plain": [
       "  framework  hasConstant            model  nTest  nTrain  numVars  state  \\\n",
       "0  Multiple  True         rental-prices-6  0      39258   226      ready   \n",
       "\n",
       "                                                                     testInfo  \\\n",
       "0  {'adjRSquared': nan, 'RSquared': nan, 'SSE': 0.0, 'SST': 0.0, 'MSE': -0.0}   \n",
       "\n",
       "                                                                                                                                                                                                                                                                                                                                                                                                                                                                                                                                                                                                                                                                                                                                                                                                                                                                                                                                                                                                                                                                                                                                                                                                                                                                                                                                                                                                                                                                                                                                                                                                                                                                                                                                                                                                                                                                                                                                                                                                                                                                                                                                                                                                                                                                                                                                                                                                                                                                                                                                                                                                                                                                                                                                                                                                                                                                                                             trainInfo  \n",
       "0  {'RSquared': 0.43894050872094714, 'SSR': 174530584.85928622, 'SSE': 223087273.1230187, 'SST': 397617857.98230493, 'adjRSquared': 0.4354725371368575, 'parameters std error': [nan, nan, nan, nan, nan, nan, nan, nan, nan, nan, nan, nan, nan, nan, nan, nan, nan, nan, nan, nan, nan, nan, nan, nan, nan, nan, nan, nan, nan, nan, nan, nan, nan, nan, nan, nan, nan, nan, nan, nan, nan, nan, nan, nan, nan, nan, nan, nan, nan, nan, nan, nan, nan, nan, nan, nan, nan, nan, nan, nan, nan, nan, nan, nan, nan, nan, nan, nan, nan, nan, nan, nan, nan, nan, nan, nan, nan, nan, nan, nan, nan, nan, nan, nan, nan, nan, nan, nan, nan, nan, nan, nan, nan, nan, nan, nan, nan, nan, nan, nan, ...], 'parameters': [1933160947024.3452, 55.174439596012235, -0.010862166411243379, -1933160947035.2078, -1933160947067.2014, -1933160946915.2056, -1933160947014.6123, -1933160947013.3208, -1933160946972.9734, -1933160946956.7898, -1933160946952.912, -1933160946977.8726, -1933160946892.5352, -1933160946992.573, -1933160947026.003, -1933160946920.7776, -1933160947033.0295, -1933160947004.9907, -1933160946929.8118, -1933160947052.7478, -1933160947006.2793, -1933160947058.3604, -1933160947046.312, -1933160947053.9624, -1933160947022.6423, -1933160947071.773, -1933160947064.875, -1933160946986.4749, -1933160947052.168, -1933160947037.1812, -1933160947021.1914, -1933160947067.864, -1933160946952.115, -1933160946914.5488, -1933160947015.292, -1933160947059.8057, -1933160946975.7998, -1933160947058.611, -1933160946961.2788, -1933160946937.1016, -1933160947001.3633, -1933160947058.1406, -1933160946996.9077, -1933160946987.5386, -1933160947058.0098, -1933160946995.38, -1933160947069.0007, -1933160947061.7097, -1933160947074.5142, -1933160947055.3613, -1933160946974.1426, -1933160947080.6074, -1933160947073.5188, -1933160946960.284, -1933160947082.1733, -1933160947036.6235, -1933160947054.6272, -1933160947037.928, -1933160946887.5054, -1933160947049.8994, -1933160947051.1592, -1933160946981.4597, -1933160947067.5964, -1933160947081.8743, -1933160946957.997, -1933160947046.283, -1933160947054.603, -1933160947053.3105, -1933160946941.567, -1933160947059.0737, -1933160946881.9106, -1933160947081.6172, -1933160947029.0896, -1933160947040.0947, -1933160946943.8286, -1933160947078.623, -1933160947057.4448, -1933160947066.9792, -1933160947079.9795, -1933160946920.9644, -1933160947056.9712, -1933160947068.5488, -1933160947047.2517, -1933160947042.5247, -1933160947065.5505, -1933160947043.4636, -1933160947073.4536, -1933160947065.827, -1933160947076.198, -1933160947061.3342, -1933160947074.2551, -1933160947001.9417, -1933160947073.8357, -1933160947074.8308, -1933160947059.3008, -1933160947081.0752, -1933160947061.145, -1933160947097.5498, -1933160947050.8086, -1933160947058.4495, ...], 'MSE': 6101.448817739756}  "
      ]
     },
     "execution_count": 91,
     "metadata": {},
     "output_type": "execute_result"
    }
   ],
   "source": [
    "test_model_query = \"\"\"\n",
    "CALL regression.linear.test($modelName)\n",
    "\"\"\"\n",
    "\n",
    "graph.run(test_model_query, {\"modelName\": model_name}).to_data_frame()"
   ]
  }
 ],
 "metadata": {
  "kernelspec": {
   "display_name": "Python 3",
   "language": "python",
   "name": "python3"
  },
  "language_info": {
   "codemirror_mode": {
    "name": "ipython",
    "version": 3
   },
   "file_extension": ".py",
   "mimetype": "text/x-python",
   "name": "python",
   "nbconvert_exporter": "python",
   "pygments_lexer": "ipython3",
   "version": "3.6.5"
  }
 },
 "nbformat": 4,
 "nbformat_minor": 2
}
