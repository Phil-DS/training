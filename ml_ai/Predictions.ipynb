{
 "cells": [
  {
   "cell_type": "code",
   "execution_count": 45,
   "metadata": {},
   "outputs": [],
   "source": [
    "from py2neo import Graph\n",
    "import pandas as pd\n",
    "\n",
    "pd.set_option('display.max_colwidth', -1)"
   ]
  },
  {
   "cell_type": "code",
   "execution_count": 46,
   "metadata": {},
   "outputs": [],
   "source": [
    "graph = Graph(\"bolt://localhost\", auth=(\"neo4j\", \"neo\"))"
   ]
  },
  {
   "cell_type": "markdown",
   "metadata": {},
   "source": [
    "For this section we need to install the [ml-models](https://github.com/neo4j-graph-analytics/ml-models) procedures library. You can find installation instructions on the [releases pages](https://github.com/neo4j-graph-analytics/ml-models/releases/tag/1.0.1). \n",
    "\n",
    "Once you've done that, run the following code to check that the library is installed:"
   ]
  },
  {
   "cell_type": "code",
   "execution_count": 47,
   "metadata": {},
   "outputs": [
    {
     "data": {
      "text/html": [
       "<div>\n",
       "<style scoped>\n",
       "    .dataframe tbody tr th:only-of-type {\n",
       "        vertical-align: middle;\n",
       "    }\n",
       "\n",
       "    .dataframe tbody tr th {\n",
       "        vertical-align: top;\n",
       "    }\n",
       "\n",
       "    .dataframe thead th {\n",
       "        text-align: right;\n",
       "    }\n",
       "</style>\n",
       "<table border=\"1\" class=\"dataframe\">\n",
       "  <thead>\n",
       "    <tr style=\"text-align: right;\">\n",
       "      <th></th>\n",
       "      <th>name</th>\n",
       "    </tr>\n",
       "  </thead>\n",
       "  <tbody>\n",
       "    <tr>\n",
       "      <th>0</th>\n",
       "      <td>regression.linear.add</td>\n",
       "    </tr>\n",
       "    <tr>\n",
       "      <th>1</th>\n",
       "      <td>regression.linear.addM</td>\n",
       "    </tr>\n",
       "    <tr>\n",
       "      <th>2</th>\n",
       "      <td>regression.linear.clear</td>\n",
       "    </tr>\n",
       "    <tr>\n",
       "      <th>3</th>\n",
       "      <td>regression.linear.copy</td>\n",
       "    </tr>\n",
       "    <tr>\n",
       "      <th>4</th>\n",
       "      <td>regression.linear.create</td>\n",
       "    </tr>\n",
       "    <tr>\n",
       "      <th>5</th>\n",
       "      <td>regression.linear.delete</td>\n",
       "    </tr>\n",
       "    <tr>\n",
       "      <th>6</th>\n",
       "      <td>regression.linear.info</td>\n",
       "    </tr>\n",
       "    <tr>\n",
       "      <th>7</th>\n",
       "      <td>regression.linear.load</td>\n",
       "    </tr>\n",
       "    <tr>\n",
       "      <th>8</th>\n",
       "      <td>regression.linear.remove</td>\n",
       "    </tr>\n",
       "    <tr>\n",
       "      <th>9</th>\n",
       "      <td>regression.linear.removeM</td>\n",
       "    </tr>\n",
       "    <tr>\n",
       "      <th>10</th>\n",
       "      <td>regression.linear.test</td>\n",
       "    </tr>\n",
       "    <tr>\n",
       "      <th>11</th>\n",
       "      <td>regression.linear.train</td>\n",
       "    </tr>\n",
       "  </tbody>\n",
       "</table>\n",
       "</div>"
      ],
      "text/plain": [
       "                         name\n",
       "0   regression.linear.add    \n",
       "1   regression.linear.addM   \n",
       "2   regression.linear.clear  \n",
       "3   regression.linear.copy   \n",
       "4   regression.linear.create \n",
       "5   regression.linear.delete \n",
       "6   regression.linear.info   \n",
       "7   regression.linear.load   \n",
       "8   regression.linear.remove \n",
       "9   regression.linear.removeM\n",
       "10  regression.linear.test   \n",
       "11  regression.linear.train  "
      ]
     },
     "execution_count": 47,
     "metadata": {},
     "output_type": "execute_result"
    }
   ],
   "source": [
    "query = \"\"\"\n",
    "CALL dbms.procedures() \n",
    "YIELD name WHERE name STARTS WITH 'regression' \n",
    "RETURN *\n",
    "\"\"\"\n",
    "\n",
    "graph.run(query).to_data_frame()"
   ]
  },
  {
   "cell_type": "markdown",
   "metadata": {},
   "source": [
    "Let's split training and test data:"
   ]
  },
  {
   "cell_type": "code",
   "execution_count": 48,
   "metadata": {},
   "outputs": [
    {
     "data": {
      "text/plain": [
       "{}"
      ]
     },
     "execution_count": 48,
     "metadata": {},
     "output_type": "execute_result"
    }
   ],
   "source": [
    "split_data_train_query = \"\"\"\n",
    "MATCH (list:Listing)-[:IN_NEIGHBORHOOD]->(:Neighborhood) \n",
    "WHERE exists(list.bedrooms) AND exists(list.bathrooms)\n",
    "AND exists(list.price) \n",
    "AND (:Review)-[:REVIEWS]->(list) \n",
    "WITH regression.linear.split(collect(id(list)), 0.75) AS trainingIDs\n",
    "MATCH (list:Listing) WHERE id(list) in trainingIDs \n",
    "SET list:Train\n",
    "\"\"\"\n",
    "\n",
    "split_data_test_query = \"\"\"\n",
    "MATCH (list:Listing)-[n:IN_NEIGHBORHOOD]->(:Neighborhood)\n",
    "WHERE exists(list.bedrooms) AND exists(list.bathrooms)\n",
    "AND exists(list.price) \n",
    "AND (:Review)-[:REVIEWS]->(list) \n",
    "AND NOT list:Train \n",
    "SET list:Test\n",
    "\"\"\"\n",
    "\n",
    "graph.run(split_data_train_query).summary().counters\n",
    "graph.run(split_data_test_query).summary().counters"
   ]
  },
  {
   "cell_type": "code",
   "execution_count": 50,
   "metadata": {},
   "outputs": [
    {
     "data": {
      "text/html": [
       "<div>\n",
       "<style scoped>\n",
       "    .dataframe tbody tr th:only-of-type {\n",
       "        vertical-align: middle;\n",
       "    }\n",
       "\n",
       "    .dataframe tbody tr th {\n",
       "        vertical-align: top;\n",
       "    }\n",
       "\n",
       "    .dataframe thead th {\n",
       "        text-align: right;\n",
       "    }\n",
       "</style>\n",
       "<table border=\"1\" class=\"dataframe\">\n",
       "  <thead>\n",
       "    <tr style=\"text-align: right;\">\n",
       "      <th></th>\n",
       "      <th>regression.linear.correlation(reviews, rooms)</th>\n",
       "    </tr>\n",
       "  </thead>\n",
       "  <tbody>\n",
       "    <tr>\n",
       "      <th>0</th>\n",
       "      <td>0.026142</td>\n",
       "    </tr>\n",
       "  </tbody>\n",
       "</table>\n",
       "</div>"
      ],
      "text/plain": [
       "   regression.linear.correlation(reviews, rooms)\n",
       "0  0.026142                                     "
      ]
     },
     "execution_count": 50,
     "metadata": {},
     "output_type": "execute_result"
    }
   ],
   "source": [
    "correlation_query = \"\"\"\n",
    "MATCH (list) \n",
    "WHERE list:Test OR list:Train\n",
    "WITH collect(size((list)<-[:REVIEWS]-()) * 1.0) AS reviews,\n",
    "     collect(list.bedrooms + list.bathrooms) as rooms\n",
    "RETURN regression.linear.correlation(reviews, rooms)\n",
    "\"\"\"\n",
    "\n",
    "graph.run(correlation_query).to_data_frame()"
   ]
  },
  {
   "cell_type": "code",
   "execution_count": 51,
   "metadata": {},
   "outputs": [],
   "source": [
    "model_name = \"rental-prices-4\""
   ]
  },
  {
   "cell_type": "code",
   "execution_count": 52,
   "metadata": {},
   "outputs": [
    {
     "data": {
      "text/plain": [
       "{}"
      ]
     },
     "execution_count": 52,
     "metadata": {},
     "output_type": "execute_result"
    }
   ],
   "source": [
    "init_query = \"\"\"\n",
    "CALL regression.linear.create($modelName, 'Multiple', true, 2)\n",
    "\"\"\"\n",
    "\n",
    "graph.run(init_query, {\"modelName\": model_name}).summary().counters"
   ]
  },
  {
   "cell_type": "code",
   "execution_count": 53,
   "metadata": {},
   "outputs": [
    {
     "data": {
      "text/plain": [
       "{'labels_added': 36790}"
      ]
     },
     "execution_count": 53,
     "metadata": {},
     "output_type": "execute_result"
    }
   ],
   "source": [
    "add_training_data_query = \"\"\"\n",
    "MATCH (list:Train)\n",
    "WHERE NOT list:Seen \n",
    "CALL regression.linear.add($modelName, \n",
    "  [list.bedrooms + list.bathrooms, size((list)<-[:REVIEWS]-()) * 1.0], \n",
    "  list.price\n",
    ") \n",
    "SET list:Seen \n",
    "RETURN count(list)\n",
    "\"\"\"\n",
    "\n",
    "graph.run(add_training_data_query, {\"modelName\": model_name}).summary().counters"
   ]
  },
  {
   "cell_type": "code",
   "execution_count": 54,
   "metadata": {},
   "outputs": [
    {
     "data": {
      "text/plain": [
       "<py2neo.database.Cursor at 0x1156d6a90>"
      ]
     },
     "execution_count": 54,
     "metadata": {},
     "output_type": "execute_result"
    }
   ],
   "source": [
    "train_model_query = \"\"\"\n",
    "CALL regression.linear.train($modelName)\n",
    "\"\"\"\n",
    "\n",
    "graph.run(train_model_query, {\"modelName\": model_name})"
   ]
  },
  {
   "cell_type": "code",
   "execution_count": 55,
   "metadata": {},
   "outputs": [],
   "source": [
    "add_test_data_query = \"\"\"\n",
    "MATCH (list:Test) \n",
    "WHERE NOT list:Seen\n",
    "CALL regression.linear.add('rental-prices-3', \n",
    "  [list.bedrooms + list.bathrooms, size((list)<-[:REVIEWS]-()) * 1.0],  \n",
    "  list.price, \n",
    "  'test'\n",
    ") \n",
    "SET list:Seen \n",
    "RETURN count(list)\n",
    "\"\"\""
   ]
  },
  {
   "cell_type": "code",
   "execution_count": 56,
   "metadata": {},
   "outputs": [
    {
     "data": {
      "text/html": [
       "<div>\n",
       "<style scoped>\n",
       "    .dataframe tbody tr th:only-of-type {\n",
       "        vertical-align: middle;\n",
       "    }\n",
       "\n",
       "    .dataframe tbody tr th {\n",
       "        vertical-align: top;\n",
       "    }\n",
       "\n",
       "    .dataframe thead th {\n",
       "        text-align: right;\n",
       "    }\n",
       "</style>\n",
       "<table border=\"1\" class=\"dataframe\">\n",
       "  <thead>\n",
       "    <tr style=\"text-align: right;\">\n",
       "      <th></th>\n",
       "      <th>framework</th>\n",
       "      <th>hasConstant</th>\n",
       "      <th>model</th>\n",
       "      <th>nTest</th>\n",
       "      <th>nTrain</th>\n",
       "      <th>numVars</th>\n",
       "      <th>state</th>\n",
       "      <th>testInfo</th>\n",
       "      <th>trainInfo</th>\n",
       "    </tr>\n",
       "  </thead>\n",
       "  <tbody>\n",
       "    <tr>\n",
       "      <th>0</th>\n",
       "      <td>Multiple</td>\n",
       "      <td>True</td>\n",
       "      <td>rental-prices-4</td>\n",
       "      <td>0</td>\n",
       "      <td>36790</td>\n",
       "      <td>2</td>\n",
       "      <td>ready</td>\n",
       "      <td>{'adjRSquared': nan, 'RSquared': nan, 'SSE': 0.0, 'SST': 0.0, 'MSE': -0.0}</td>\n",
       "      <td>{'RSquared': 0.22357460363988557, 'SSR': 88897254.99853414, 'SSE': 308720602.9837708, 'SST': 397617857.98230493, 'adjRSquared': 0.22353239169564654, 'parameters std error': [1.2824171688063868, 0.5109515890197222, 0.011533589063208016], 'parameters': [16.223217245130986, 52.5881409596996, -0.034282521063706], 'MSE': 8392.111424790572}</td>\n",
       "    </tr>\n",
       "  </tbody>\n",
       "</table>\n",
       "</div>"
      ],
      "text/plain": [
       "  framework  hasConstant            model  nTest  nTrain  numVars  state  \\\n",
       "0  Multiple  True         rental-prices-4  0      36790   2        ready   \n",
       "\n",
       "                                                                     testInfo  \\\n",
       "0  {'adjRSquared': nan, 'RSquared': nan, 'SSE': 0.0, 'SST': 0.0, 'MSE': -0.0}   \n",
       "\n",
       "                                                                                                                                                                                                                                                                                                                                          trainInfo  \n",
       "0  {'RSquared': 0.22357460363988557, 'SSR': 88897254.99853414, 'SSE': 308720602.9837708, 'SST': 397617857.98230493, 'adjRSquared': 0.22353239169564654, 'parameters std error': [1.2824171688063868, 0.5109515890197222, 0.011533589063208016], 'parameters': [16.223217245130986, 52.5881409596996, -0.034282521063706], 'MSE': 8392.111424790572}  "
      ]
     },
     "execution_count": 56,
     "metadata": {},
     "output_type": "execute_result"
    }
   ],
   "source": [
    "test_model_query = \"\"\"\n",
    "CALL regression.linear.test($modelName)\n",
    "\"\"\"\n",
    "\n",
    "graph.run(test_model_query, {\"modelName\": model_name}).to_data_frame()"
   ]
  },
  {
   "cell_type": "code",
   "execution_count": 57,
   "metadata": {},
   "outputs": [
    {
     "data": {
      "text/html": [
       "<div>\n",
       "<style scoped>\n",
       "    .dataframe tbody tr th:only-of-type {\n",
       "        vertical-align: middle;\n",
       "    }\n",
       "\n",
       "    .dataframe tbody tr th {\n",
       "        vertical-align: top;\n",
       "    }\n",
       "\n",
       "    .dataframe thead th {\n",
       "        text-align: right;\n",
       "    }\n",
       "</style>\n",
       "<table border=\"1\" class=\"dataframe\">\n",
       "  <thead>\n",
       "    <tr style=\"text-align: right;\">\n",
       "      <th></th>\n",
       "      <th>framework</th>\n",
       "      <th>hasConstant</th>\n",
       "      <th>model</th>\n",
       "      <th>nTest</th>\n",
       "      <th>nTrain</th>\n",
       "      <th>numVars</th>\n",
       "      <th>state</th>\n",
       "      <th>testInfo</th>\n",
       "      <th>trainInfo</th>\n",
       "    </tr>\n",
       "  </thead>\n",
       "  <tbody>\n",
       "    <tr>\n",
       "      <th>0</th>\n",
       "      <td>Multiple</td>\n",
       "      <td>True</td>\n",
       "      <td>rental-prices-4</td>\n",
       "      <td>0</td>\n",
       "      <td>36790</td>\n",
       "      <td>2</td>\n",
       "      <td>ready</td>\n",
       "      <td>{'adjRSquared': nan, 'RSquared': nan, 'SSE': 0.0, 'SST': 0.0, 'MSE': -0.0}</td>\n",
       "      <td>{'RSquared': 0.22357460363988557, 'SSR': 88897254.99853414, 'SSE': 308720602.9837708, 'SST': 397617857.98230493, 'adjRSquared': 0.22353239169564654, 'parameters std error': [1.2824171688063868, 0.5109515890197222, 0.011533589063208016], 'parameters': [16.223217245130986, 52.5881409596996, -0.034282521063706], 'MSE': 8392.111424790572}</td>\n",
       "    </tr>\n",
       "  </tbody>\n",
       "</table>\n",
       "</div>"
      ],
      "text/plain": [
       "  framework  hasConstant            model  nTest  nTrain  numVars  state  \\\n",
       "0  Multiple  True         rental-prices-4  0      36790   2        ready   \n",
       "\n",
       "                                                                     testInfo  \\\n",
       "0  {'adjRSquared': nan, 'RSquared': nan, 'SSE': 0.0, 'SST': 0.0, 'MSE': -0.0}   \n",
       "\n",
       "                                                                                                                                                                                                                                                                                                                                          trainInfo  \n",
       "0  {'RSquared': 0.22357460363988557, 'SSR': 88897254.99853414, 'SSE': 308720602.9837708, 'SST': 397617857.98230493, 'adjRSquared': 0.22353239169564654, 'parameters std error': [1.2824171688063868, 0.5109515890197222, 0.011533589063208016], 'parameters': [16.223217245130986, 52.5881409596996, -0.034282521063706], 'MSE': 8392.111424790572}  "
      ]
     },
     "execution_count": 57,
     "metadata": {},
     "output_type": "execute_result"
    }
   ],
   "source": [
    "info_query = \"\"\"\n",
    "CALL regression.linear.info($modelName) \n",
    "\"\"\"\n",
    "\n",
    "graph.run(info_query, {\"modelName\": model_name}).to_data_frame()"
   ]
  }
 ],
 "metadata": {
  "kernelspec": {
   "display_name": "Python 3",
   "language": "python",
   "name": "python3"
  },
  "language_info": {
   "codemirror_mode": {
    "name": "ipython",
    "version": 3
   },
   "file_extension": ".py",
   "mimetype": "text/x-python",
   "name": "python",
   "nbconvert_exporter": "python",
   "pygments_lexer": "ipython3",
   "version": "3.6.5"
  }
 },
 "nbformat": 4,
 "nbformat_minor": 2
}
