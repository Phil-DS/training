{
 "cells": [
  {
   "cell_type": "code",
   "execution_count": 45,
   "metadata": {},
   "outputs": [],
   "source": [
    "from py2neo import Graph\n",
    "import pandas as pd\n",
    "\n",
    "pd.set_option('display.max_colwidth', -1)"
   ]
  },
  {
   "cell_type": "code",
   "execution_count": 72,
   "metadata": {},
   "outputs": [],
   "source": [
    "graph = Graph(\"bolt://localhost\", auth=(\"neo4j\", \"neo\"))"
   ]
  },
  {
   "cell_type": "markdown",
   "metadata": {},
   "source": [
    "For this section we need to install the [ml-models](https://github.com/neo4j-graph-analytics/ml-models) procedures library. You can find installation instructions on the [releases pages](https://github.com/neo4j-graph-analytics/ml-models/releases/tag/1.0.1). \n",
    "\n",
    "Once you've done that, run the following code to check that the library is installed:"
   ]
  },
  {
   "cell_type": "code",
   "execution_count": 47,
   "metadata": {},
   "outputs": [
    {
     "data": {
      "text/html": [
       "<div>\n",
       "<style scoped>\n",
       "    .dataframe tbody tr th:only-of-type {\n",
       "        vertical-align: middle;\n",
       "    }\n",
       "\n",
       "    .dataframe tbody tr th {\n",
       "        vertical-align: top;\n",
       "    }\n",
       "\n",
       "    .dataframe thead th {\n",
       "        text-align: right;\n",
       "    }\n",
       "</style>\n",
       "<table border=\"1\" class=\"dataframe\">\n",
       "  <thead>\n",
       "    <tr style=\"text-align: right;\">\n",
       "      <th></th>\n",
       "      <th>name</th>\n",
       "    </tr>\n",
       "  </thead>\n",
       "  <tbody>\n",
       "    <tr>\n",
       "      <th>0</th>\n",
       "      <td>regression.linear.add</td>\n",
       "    </tr>\n",
       "    <tr>\n",
       "      <th>1</th>\n",
       "      <td>regression.linear.addM</td>\n",
       "    </tr>\n",
       "    <tr>\n",
       "      <th>2</th>\n",
       "      <td>regression.linear.clear</td>\n",
       "    </tr>\n",
       "    <tr>\n",
       "      <th>3</th>\n",
       "      <td>regression.linear.copy</td>\n",
       "    </tr>\n",
       "    <tr>\n",
       "      <th>4</th>\n",
       "      <td>regression.linear.create</td>\n",
       "    </tr>\n",
       "    <tr>\n",
       "      <th>5</th>\n",
       "      <td>regression.linear.delete</td>\n",
       "    </tr>\n",
       "    <tr>\n",
       "      <th>6</th>\n",
       "      <td>regression.linear.info</td>\n",
       "    </tr>\n",
       "    <tr>\n",
       "      <th>7</th>\n",
       "      <td>regression.linear.load</td>\n",
       "    </tr>\n",
       "    <tr>\n",
       "      <th>8</th>\n",
       "      <td>regression.linear.remove</td>\n",
       "    </tr>\n",
       "    <tr>\n",
       "      <th>9</th>\n",
       "      <td>regression.linear.removeM</td>\n",
       "    </tr>\n",
       "    <tr>\n",
       "      <th>10</th>\n",
       "      <td>regression.linear.test</td>\n",
       "    </tr>\n",
       "    <tr>\n",
       "      <th>11</th>\n",
       "      <td>regression.linear.train</td>\n",
       "    </tr>\n",
       "  </tbody>\n",
       "</table>\n",
       "</div>"
      ],
      "text/plain": [
       "                         name\n",
       "0   regression.linear.add    \n",
       "1   regression.linear.addM   \n",
       "2   regression.linear.clear  \n",
       "3   regression.linear.copy   \n",
       "4   regression.linear.create \n",
       "5   regression.linear.delete \n",
       "6   regression.linear.info   \n",
       "7   regression.linear.load   \n",
       "8   regression.linear.remove \n",
       "9   regression.linear.removeM\n",
       "10  regression.linear.test   \n",
       "11  regression.linear.train  "
      ]
     },
     "execution_count": 47,
     "metadata": {},
     "output_type": "execute_result"
    }
   ],
   "source": [
    "query = \"\"\"\n",
    "CALL dbms.procedures() \n",
    "YIELD name WHERE name STARTS WITH 'regression' \n",
    "RETURN *\n",
    "\"\"\"\n",
    "\n",
    "graph.run(query).to_data_frame()"
   ]
  },
  {
   "cell_type": "markdown",
   "metadata": {},
   "source": [
    "Let's split training and test data:"
   ]
  },
  {
   "cell_type": "code",
   "execution_count": 97,
   "metadata": {},
   "outputs": [
    {
     "data": {
      "text/plain": [
       "{'labels_added': 9815}"
      ]
     },
     "execution_count": 97,
     "metadata": {},
     "output_type": "execute_result"
    }
   ],
   "source": [
    "split_data_train_query = \"\"\"\n",
    "MATCH (list:Listing)-[:IN_NEIGHBORHOOD]->(:Neighborhood) \n",
    "WHERE exists(list.bedrooms) AND exists(list.bathrooms)\n",
    "AND exists(list.price) \n",
    "AND (:Review)-[:REVIEWS]->(list) \n",
    "WITH regression.linear.split(collect(id(list)), 0.75) AS trainingIDs\n",
    "MATCH (list:Listing) WHERE id(list) in trainingIDs \n",
    "SET list:Train\n",
    "\"\"\"\n",
    "\n",
    "split_data_test_query = \"\"\"\n",
    "MATCH (list:Listing)-[n:IN_NEIGHBORHOOD]->(:Neighborhood)\n",
    "WHERE exists(list.bedrooms) AND exists(list.bathrooms)\n",
    "AND exists(list.price) \n",
    "AND (:Review)-[:REVIEWS]->(list) \n",
    "AND NOT list:Train \n",
    "SET list:Test\n",
    "\"\"\"\n",
    "\n",
    "graph.run(split_data_train_query).summary().counters\n",
    "graph.run(split_data_test_query).summary().counters"
   ]
  },
  {
   "cell_type": "code",
   "execution_count": 98,
   "metadata": {},
   "outputs": [
    {
     "data": {
      "text/html": [
       "<div>\n",
       "<style scoped>\n",
       "    .dataframe tbody tr th:only-of-type {\n",
       "        vertical-align: middle;\n",
       "    }\n",
       "\n",
       "    .dataframe tbody tr th {\n",
       "        vertical-align: top;\n",
       "    }\n",
       "\n",
       "    .dataframe thead th {\n",
       "        text-align: right;\n",
       "    }\n",
       "</style>\n",
       "<table border=\"1\" class=\"dataframe\">\n",
       "  <thead>\n",
       "    <tr style=\"text-align: right;\">\n",
       "      <th></th>\n",
       "      <th>regression.linear.correlation(reviews, rooms)</th>\n",
       "    </tr>\n",
       "  </thead>\n",
       "  <tbody>\n",
       "    <tr>\n",
       "      <th>0</th>\n",
       "      <td>0.026142</td>\n",
       "    </tr>\n",
       "  </tbody>\n",
       "</table>\n",
       "</div>"
      ],
      "text/plain": [
       "   regression.linear.correlation(reviews, rooms)\n",
       "0  0.026142                                     "
      ]
     },
     "execution_count": 98,
     "metadata": {},
     "output_type": "execute_result"
    }
   ],
   "source": [
    "correlation_query = \"\"\"\n",
    "MATCH (list) \n",
    "WHERE list:Test OR list:Train\n",
    "WITH collect(size((list)<-[:REVIEWS]-()) * 1.0) AS reviews,\n",
    "     collect(list.bedrooms + list.bathrooms) as rooms\n",
    "RETURN regression.linear.correlation(reviews, rooms)\n",
    "\"\"\"\n",
    "\n",
    "graph.run(correlation_query).to_data_frame()"
   ]
  },
  {
   "cell_type": "code",
   "execution_count": 51,
   "metadata": {},
   "outputs": [],
   "source": [
    "model_name = \"rental-prices-4\""
   ]
  },
  {
   "cell_type": "code",
   "execution_count": 52,
   "metadata": {},
   "outputs": [
    {
     "data": {
      "text/plain": [
       "{}"
      ]
     },
     "execution_count": 52,
     "metadata": {},
     "output_type": "execute_result"
    }
   ],
   "source": [
    "init_query = \"\"\"\n",
    "CALL regression.linear.create($modelName, 'Multiple', true, 2)\n",
    "\"\"\"\n",
    "\n",
    "graph.run(init_query, {\"modelName\": model_name}).summary().counters"
   ]
  },
  {
   "cell_type": "code",
   "execution_count": 53,
   "metadata": {},
   "outputs": [
    {
     "data": {
      "text/plain": [
       "{'labels_added': 36790}"
      ]
     },
     "execution_count": 53,
     "metadata": {},
     "output_type": "execute_result"
    }
   ],
   "source": [
    "add_training_data_query = \"\"\"\n",
    "MATCH (list:Train)\n",
    "WHERE NOT list:Seen \n",
    "CALL regression.linear.add($modelName, \n",
    "  [list.bedrooms + list.bathrooms, size((list)<-[:REVIEWS]-()) * 1.0], \n",
    "  list.price\n",
    ") \n",
    "SET list:Seen \n",
    "RETURN count(list)\n",
    "\"\"\"\n",
    "\n",
    "graph.run(add_training_data_query, {\"modelName\": model_name}).summary().counters"
   ]
  },
  {
   "cell_type": "code",
   "execution_count": 54,
   "metadata": {},
   "outputs": [
    {
     "data": {
      "text/plain": [
       "<py2neo.database.Cursor at 0x1156d6a90>"
      ]
     },
     "execution_count": 54,
     "metadata": {},
     "output_type": "execute_result"
    }
   ],
   "source": [
    "train_model_query = \"\"\"\n",
    "CALL regression.linear.train($modelName)\n",
    "\"\"\"\n",
    "\n",
    "graph.run(train_model_query, {\"modelName\": model_name})"
   ]
  },
  {
   "cell_type": "code",
   "execution_count": 55,
   "metadata": {},
   "outputs": [],
   "source": [
    "add_test_data_query = \"\"\"\n",
    "MATCH (list:Test) \n",
    "WHERE NOT list:Seen\n",
    "CALL regression.linear.add($modelName, \n",
    "  [list.bedrooms + list.bathrooms, size((list)<-[:REVIEWS]-()) * 1.0],  \n",
    "  list.price, \n",
    "  'test'\n",
    ") \n",
    "SET list:Seen \n",
    "RETURN count(list)\n",
    "\"\"\"\n",
    "\n",
    "graph.run(add_test_data_query, {\"modelName\": model_name})"
   ]
  },
  {
   "cell_type": "code",
   "execution_count": 56,
   "metadata": {},
   "outputs": [
    {
     "data": {
      "text/html": [
       "<div>\n",
       "<style scoped>\n",
       "    .dataframe tbody tr th:only-of-type {\n",
       "        vertical-align: middle;\n",
       "    }\n",
       "\n",
       "    .dataframe tbody tr th {\n",
       "        vertical-align: top;\n",
       "    }\n",
       "\n",
       "    .dataframe thead th {\n",
       "        text-align: right;\n",
       "    }\n",
       "</style>\n",
       "<table border=\"1\" class=\"dataframe\">\n",
       "  <thead>\n",
       "    <tr style=\"text-align: right;\">\n",
       "      <th></th>\n",
       "      <th>framework</th>\n",
       "      <th>hasConstant</th>\n",
       "      <th>model</th>\n",
       "      <th>nTest</th>\n",
       "      <th>nTrain</th>\n",
       "      <th>numVars</th>\n",
       "      <th>state</th>\n",
       "      <th>testInfo</th>\n",
       "      <th>trainInfo</th>\n",
       "    </tr>\n",
       "  </thead>\n",
       "  <tbody>\n",
       "    <tr>\n",
       "      <th>0</th>\n",
       "      <td>Multiple</td>\n",
       "      <td>True</td>\n",
       "      <td>rental-prices-4</td>\n",
       "      <td>0</td>\n",
       "      <td>36790</td>\n",
       "      <td>2</td>\n",
       "      <td>ready</td>\n",
       "      <td>{'adjRSquared': nan, 'RSquared': nan, 'SSE': 0.0, 'SST': 0.0, 'MSE': -0.0}</td>\n",
       "      <td>{'RSquared': 0.22357460363988557, 'SSR': 88897254.99853414, 'SSE': 308720602.9837708, 'SST': 397617857.98230493, 'adjRSquared': 0.22353239169564654, 'parameters std error': [1.2824171688063868, 0.5109515890197222, 0.011533589063208016], 'parameters': [16.223217245130986, 52.5881409596996, -0.034282521063706], 'MSE': 8392.111424790572}</td>\n",
       "    </tr>\n",
       "  </tbody>\n",
       "</table>\n",
       "</div>"
      ],
      "text/plain": [
       "  framework  hasConstant            model  nTest  nTrain  numVars  state  \\\n",
       "0  Multiple  True         rental-prices-4  0      36790   2        ready   \n",
       "\n",
       "                                                                     testInfo  \\\n",
       "0  {'adjRSquared': nan, 'RSquared': nan, 'SSE': 0.0, 'SST': 0.0, 'MSE': -0.0}   \n",
       "\n",
       "                                                                                                                                                                                                                                                                                                                                          trainInfo  \n",
       "0  {'RSquared': 0.22357460363988557, 'SSR': 88897254.99853414, 'SSE': 308720602.9837708, 'SST': 397617857.98230493, 'adjRSquared': 0.22353239169564654, 'parameters std error': [1.2824171688063868, 0.5109515890197222, 0.011533589063208016], 'parameters': [16.223217245130986, 52.5881409596996, -0.034282521063706], 'MSE': 8392.111424790572}  "
      ]
     },
     "execution_count": 56,
     "metadata": {},
     "output_type": "execute_result"
    }
   ],
   "source": [
    "test_model_query = \"\"\"\n",
    "CALL regression.linear.test($modelName)\n",
    "\"\"\"\n",
    "\n",
    "graph.run(test_model_query, {\"modelName\": model_name}).to_data_frame()"
   ]
  },
  {
   "cell_type": "code",
   "execution_count": 57,
   "metadata": {},
   "outputs": [
    {
     "data": {
      "text/html": [
       "<div>\n",
       "<style scoped>\n",
       "    .dataframe tbody tr th:only-of-type {\n",
       "        vertical-align: middle;\n",
       "    }\n",
       "\n",
       "    .dataframe tbody tr th {\n",
       "        vertical-align: top;\n",
       "    }\n",
       "\n",
       "    .dataframe thead th {\n",
       "        text-align: right;\n",
       "    }\n",
       "</style>\n",
       "<table border=\"1\" class=\"dataframe\">\n",
       "  <thead>\n",
       "    <tr style=\"text-align: right;\">\n",
       "      <th></th>\n",
       "      <th>framework</th>\n",
       "      <th>hasConstant</th>\n",
       "      <th>model</th>\n",
       "      <th>nTest</th>\n",
       "      <th>nTrain</th>\n",
       "      <th>numVars</th>\n",
       "      <th>state</th>\n",
       "      <th>testInfo</th>\n",
       "      <th>trainInfo</th>\n",
       "    </tr>\n",
       "  </thead>\n",
       "  <tbody>\n",
       "    <tr>\n",
       "      <th>0</th>\n",
       "      <td>Multiple</td>\n",
       "      <td>True</td>\n",
       "      <td>rental-prices-4</td>\n",
       "      <td>0</td>\n",
       "      <td>36790</td>\n",
       "      <td>2</td>\n",
       "      <td>ready</td>\n",
       "      <td>{'adjRSquared': nan, 'RSquared': nan, 'SSE': 0.0, 'SST': 0.0, 'MSE': -0.0}</td>\n",
       "      <td>{'RSquared': 0.22357460363988557, 'SSR': 88897254.99853414, 'SSE': 308720602.9837708, 'SST': 397617857.98230493, 'adjRSquared': 0.22353239169564654, 'parameters std error': [1.2824171688063868, 0.5109515890197222, 0.011533589063208016], 'parameters': [16.223217245130986, 52.5881409596996, -0.034282521063706], 'MSE': 8392.111424790572}</td>\n",
       "    </tr>\n",
       "  </tbody>\n",
       "</table>\n",
       "</div>"
      ],
      "text/plain": [
       "  framework  hasConstant            model  nTest  nTrain  numVars  state  \\\n",
       "0  Multiple  True         rental-prices-4  0      36790   2        ready   \n",
       "\n",
       "                                                                     testInfo  \\\n",
       "0  {'adjRSquared': nan, 'RSquared': nan, 'SSE': 0.0, 'SST': 0.0, 'MSE': -0.0}   \n",
       "\n",
       "                                                                                                                                                                                                                                                                                                                                          trainInfo  \n",
       "0  {'RSquared': 0.22357460363988557, 'SSR': 88897254.99853414, 'SSE': 308720602.9837708, 'SST': 397617857.98230493, 'adjRSquared': 0.22353239169564654, 'parameters std error': [1.2824171688063868, 0.5109515890197222, 0.011533589063208016], 'parameters': [16.223217245130986, 52.5881409596996, -0.034282521063706], 'MSE': 8392.111424790572}  "
      ]
     },
     "execution_count": 57,
     "metadata": {},
     "output_type": "execute_result"
    }
   ],
   "source": [
    "info_query = \"\"\"\n",
    "CALL regression.linear.info($modelName) \n",
    "\"\"\"\n",
    "\n",
    "graph.run(info_query, {\"modelName\": model_name}).to_data_frame()"
   ]
  },
  {
   "cell_type": "markdown",
   "metadata": {},
   "source": [
    "Now let's add the neighborhood to the list of independent variables that we feed to our regression model. Neighborhoods are categorical variables so we'll need to create a [one hot encoding](https://hackernoon.com/what-is-one-hot-encoding-why-and-when-do-you-have-to-use-it-e3c6186d008f).\n",
    "\n",
    "We can use the `algo.ml.oneHotEncoding` function to help us out. "
   ]
  },
  {
   "cell_type": "code",
   "execution_count": 101,
   "metadata": {},
   "outputs": [],
   "source": [
    "model_name = \"rental-prices-8\""
   ]
  },
  {
   "cell_type": "code",
   "execution_count": 102,
   "metadata": {},
   "outputs": [
    {
     "data": {
      "text/plain": [
       "{}"
      ]
     },
     "execution_count": 102,
     "metadata": {},
     "output_type": "execute_result"
    }
   ],
   "source": [
    "nh_count_query = \"\"\"\n",
    "MATCH (:Neighborhood)\n",
    "RETURN count(*) AS count\n",
    "\"\"\"\n",
    "\n",
    "nh_count =  graph.run(nh_count_query).to_table()[0][0]\n",
    "\n",
    "\n",
    "init_query = \"\"\"\n",
    "CALL regression.linear.create($modelName, 'Multiple', true, $numberOfVariables)\n",
    "\"\"\"\n",
    "\n",
    "graph.run(init_query, {\"modelName\": model_name, \"numberOfVariables\": 2 + nh_count}).summary().counters"
   ]
  },
  {
   "cell_type": "markdown",
   "metadata": {},
   "source": [
    "Before we create our new model let's remove the `Seen` label from our nodes so that we can process them again:"
   ]
  },
  {
   "cell_type": "code",
   "execution_count": 103,
   "metadata": {},
   "outputs": [
    {
     "data": {
      "text/plain": [
       "<py2neo.database.Cursor at 0x1156f6780>"
      ]
     },
     "execution_count": 103,
     "metadata": {},
     "output_type": "execute_result"
    }
   ],
   "source": [
    "clear_seen_query = \"\"\"\n",
    "MATCH (s:Seen)\n",
    "REMOVE s:Seen\n",
    "\"\"\"\n",
    "\n",
    "graph.run(clear_seen_query)"
   ]
  },
  {
   "cell_type": "code",
   "execution_count": 104,
   "metadata": {},
   "outputs": [
    {
     "data": {
      "text/plain": [
       "{'labels_added': 29443}"
      ]
     },
     "execution_count": 104,
     "metadata": {},
     "output_type": "execute_result"
    }
   ],
   "source": [
    "add_training_data_query = \"\"\"\n",
    "MATCH (nh:Neighborhood)\n",
    "WITH collect(nh) AS neighborhoods\n",
    "MATCH (list:Train)-[:IN_NEIGHBORHOOD]->(nh)\n",
    "WHERE NOT list:Seen \n",
    "CALL regression.linear.add($modelName, \n",
    "  apoc.coll.flatten([\n",
    "    [list.bedrooms + list.bathrooms, size((list)<-[:REVIEWS]-()) * 1.0],\n",
    "    algo.ml.oneHotEncoding(neighborhoods, [nh])\n",
    "  ]), \n",
    "  list.price\n",
    ") \n",
    "SET list:Seen \n",
    "RETURN count(list)\n",
    "\"\"\"\n",
    "\n",
    "graph.run(add_training_data_query, {\"modelName\": model_name}).summary().counters"
   ]
  },
  {
   "cell_type": "code",
   "execution_count": 105,
   "metadata": {},
   "outputs": [
    {
     "data": {
      "text/html": [
       "<div>\n",
       "<style scoped>\n",
       "    .dataframe tbody tr th:only-of-type {\n",
       "        vertical-align: middle;\n",
       "    }\n",
       "\n",
       "    .dataframe tbody tr th {\n",
       "        vertical-align: top;\n",
       "    }\n",
       "\n",
       "    .dataframe thead th {\n",
       "        text-align: right;\n",
       "    }\n",
       "</style>\n",
       "<table border=\"1\" class=\"dataframe\">\n",
       "  <thead>\n",
       "    <tr style=\"text-align: right;\">\n",
       "      <th></th>\n",
       "      <th>framework</th>\n",
       "      <th>hasConstant</th>\n",
       "      <th>model</th>\n",
       "      <th>nTest</th>\n",
       "      <th>nTrain</th>\n",
       "      <th>numVars</th>\n",
       "      <th>state</th>\n",
       "      <th>testInfo</th>\n",
       "      <th>trainInfo</th>\n",
       "    </tr>\n",
       "  </thead>\n",
       "  <tbody>\n",
       "    <tr>\n",
       "      <th>0</th>\n",
       "      <td>Multiple</td>\n",
       "      <td>True</td>\n",
       "      <td>rental-prices-8</td>\n",
       "      <td>0</td>\n",
       "      <td>29443</td>\n",
       "      <td>226</td>\n",
       "      <td>testing</td>\n",
       "      <td>{}</td>\n",
       "      <td>{'RSquared': 0.43841853768199124, 'SSR': 139502942.45113206, 'SSE': 178692869.22396898, 'SST': 318195811.67510104, 'adjRSquared': 0.4340744313538193, 'parameters std error': [nan, nan, nan, nan, nan, nan, nan, nan, nan, nan, nan, nan, nan, nan, nan, nan, nan, nan, nan, nan, nan, nan, nan, nan, nan, nan, nan, nan, nan, nan, nan, nan, nan, nan, nan, nan, nan, nan, nan, nan, nan, nan, nan, nan, nan, nan, nan, nan, nan, nan, nan, nan, nan, nan, nan, nan, nan, nan, nan, nan, nan, nan, nan, nan, nan, nan, nan, nan, nan, nan, nan, nan, nan, nan, nan, nan, nan, nan, nan, nan, nan, nan, nan, nan, nan, nan, nan, nan, nan, nan, nan, nan, nan, nan, nan, nan, nan, nan, nan, nan, ...], 'parameters': [172932567497899.8, 55.28662085533142, -0.008346721529960632, -172932567497909.66, -172932567497947.7, -172932567497792.88, -172932567497890.0, -172932567497886.94, -172932567497850.25, -172932567497832.72, -172932567497824.16, -172932567497854.88, -172932567497774.34, -172932567497865.72, -172932567497899.06, -172932567497802.28, -172932567497911.25, -172932567497880.22, -172932567497806.88, -172932567497929.94, -172932567497885.0, -172932567497934.6, -172932567497922.84, -172932567497929.6, -172932567497898.38, -172932567497949.16, -172932567497938.47, -172932567497861.88, -172932567497926.78, -172932567497914.22, -172932567497892.5, -172932567497948.56, -172932567497823.5, -172932567497784.9, -172932567497913.06, -172932567497935.3, -172932567497854.16, -172932567497936.78, -172932567497839.44, -172932567497813.34, -172932567497874.22, -172932567497936.06, -172932567497872.88, -172932567497863.03, -172932567497923.75, -172932567497868.34, -172932567497944.8, -172932567497933.94, -172932567497949.1, -172932567497928.97, -172932567497855.94, -172932567497949.84, -172932567497953.06, -172932567497843.2, -172932567497958.38, -172932567497913.7, -172932567497929.2, -172932567497925.5, -172932567497771.3, -172932567497929.0, -172932567497924.9, -172932567497869.12, -172932567497940.84, -172932567497962.22, -172932567497828.47, -172932567497925.06, -172932567497940.3, -172932567497926.97, -172932567497828.06, -172932567497931.2, -172932567497755.5, -172932567497959.3, -172932567497907.6, -172932567497916.9, -172932567497819.84, -172932567497959.1, -172932567497945.56, -172932567497942.53, -172932567497959.28, -172932567497789.38, -172932567497944.84, -172932567497947.84, -172932567497921.94, -172932567497918.62, -172932567497948.25, -172932567497943.78, -172932567497947.2, -172932567497938.47, -172932567497953.47, -172932567497934.22, -172932567497948.12, -172932567497865.62, -172932567497949.53, -172932567497947.9, -172932567497932.78, -172932567497960.88, -172932567497936.53, -172932567497973.8, -172932567497926.72, -172932567497934.12, ...], 'MSE': 6116.2674296265395}</td>\n",
       "    </tr>\n",
       "  </tbody>\n",
       "</table>\n",
       "</div>"
      ],
      "text/plain": [
       "  framework  hasConstant            model  nTest  nTrain  numVars    state  \\\n",
       "0  Multiple  True         rental-prices-8  0      29443   226      testing   \n",
       "\n",
       "  testInfo  \\\n",
       "0  {}        \n",
       "\n",
       "                                                                                                                                                                                                                                                                                                                                                                                                                                                                                                                                                                                                                                                                                                                                                                                                                                                                                                                                                                                                                                                                                                                                                                                                                                                                                                                                                                                                                                                                                                                                                                                                                                                                                                                                                                                                                                                                                                                                                                                                                                                                                                                                                                                                                                                                                                                                                                                                                                                                                                                                                                                                                                                                                                                                                                                                                                                                                                        trainInfo  \n",
       "0  {'RSquared': 0.43841853768199124, 'SSR': 139502942.45113206, 'SSE': 178692869.22396898, 'SST': 318195811.67510104, 'adjRSquared': 0.4340744313538193, 'parameters std error': [nan, nan, nan, nan, nan, nan, nan, nan, nan, nan, nan, nan, nan, nan, nan, nan, nan, nan, nan, nan, nan, nan, nan, nan, nan, nan, nan, nan, nan, nan, nan, nan, nan, nan, nan, nan, nan, nan, nan, nan, nan, nan, nan, nan, nan, nan, nan, nan, nan, nan, nan, nan, nan, nan, nan, nan, nan, nan, nan, nan, nan, nan, nan, nan, nan, nan, nan, nan, nan, nan, nan, nan, nan, nan, nan, nan, nan, nan, nan, nan, nan, nan, nan, nan, nan, nan, nan, nan, nan, nan, nan, nan, nan, nan, nan, nan, nan, nan, nan, nan, ...], 'parameters': [172932567497899.8, 55.28662085533142, -0.008346721529960632, -172932567497909.66, -172932567497947.7, -172932567497792.88, -172932567497890.0, -172932567497886.94, -172932567497850.25, -172932567497832.72, -172932567497824.16, -172932567497854.88, -172932567497774.34, -172932567497865.72, -172932567497899.06, -172932567497802.28, -172932567497911.25, -172932567497880.22, -172932567497806.88, -172932567497929.94, -172932567497885.0, -172932567497934.6, -172932567497922.84, -172932567497929.6, -172932567497898.38, -172932567497949.16, -172932567497938.47, -172932567497861.88, -172932567497926.78, -172932567497914.22, -172932567497892.5, -172932567497948.56, -172932567497823.5, -172932567497784.9, -172932567497913.06, -172932567497935.3, -172932567497854.16, -172932567497936.78, -172932567497839.44, -172932567497813.34, -172932567497874.22, -172932567497936.06, -172932567497872.88, -172932567497863.03, -172932567497923.75, -172932567497868.34, -172932567497944.8, -172932567497933.94, -172932567497949.1, -172932567497928.97, -172932567497855.94, -172932567497949.84, -172932567497953.06, -172932567497843.2, -172932567497958.38, -172932567497913.7, -172932567497929.2, -172932567497925.5, -172932567497771.3, -172932567497929.0, -172932567497924.9, -172932567497869.12, -172932567497940.84, -172932567497962.22, -172932567497828.47, -172932567497925.06, -172932567497940.3, -172932567497926.97, -172932567497828.06, -172932567497931.2, -172932567497755.5, -172932567497959.3, -172932567497907.6, -172932567497916.9, -172932567497819.84, -172932567497959.1, -172932567497945.56, -172932567497942.53, -172932567497959.28, -172932567497789.38, -172932567497944.84, -172932567497947.84, -172932567497921.94, -172932567497918.62, -172932567497948.25, -172932567497943.78, -172932567497947.2, -172932567497938.47, -172932567497953.47, -172932567497934.22, -172932567497948.12, -172932567497865.62, -172932567497949.53, -172932567497947.9, -172932567497932.78, -172932567497960.88, -172932567497936.53, -172932567497973.8, -172932567497926.72, -172932567497934.12, ...], 'MSE': 6116.2674296265395}  "
      ]
     },
     "execution_count": 105,
     "metadata": {},
     "output_type": "execute_result"
    }
   ],
   "source": [
    "train_model_query = \"\"\"\n",
    "CALL regression.linear.train($modelName)\n",
    "\"\"\"\n",
    "\n",
    "graph.run(train_model_query, {\"modelName\": model_name}).to_data_frame()"
   ]
  },
  {
   "cell_type": "code",
   "execution_count": 110,
   "metadata": {},
   "outputs": [
    {
     "data": {
      "text/plain": [
       "<py2neo.database.Cursor at 0x115502b00>"
      ]
     },
     "execution_count": 110,
     "metadata": {},
     "output_type": "execute_result"
    }
   ],
   "source": [
    "add_test_data_query = \"\"\"\n",
    "MATCH (nh:Neighborhood)\n",
    "WITH collect(nh) AS neighborhoods\n",
    "MATCH (list:Test)-[:IN_NEIGHBORHOOD]->(nh)\n",
    "WHERE NOT list:Seen \n",
    "CALL regression.linear.add($modelName, \n",
    "  apoc.coll.flatten([\n",
    "    [list.bedrooms + list.bathrooms, size((list)<-[:REVIEWS]-()) * 1.0],\n",
    "    algo.ml.oneHotEncoding(neighborhoods, [nh])\n",
    "  ]), \n",
    "  list.price,\n",
    "    'test'\n",
    ") \n",
    "SET list:Seen \n",
    "RETURN count(list)\n",
    "\"\"\"\n",
    "\n",
    "graph.run(add_test_data_query, {\"modelName\": model_name})"
   ]
  },
  {
   "cell_type": "code",
   "execution_count": 111,
   "metadata": {},
   "outputs": [
    {
     "data": {
      "text/html": [
       "<div>\n",
       "<style scoped>\n",
       "    .dataframe tbody tr th:only-of-type {\n",
       "        vertical-align: middle;\n",
       "    }\n",
       "\n",
       "    .dataframe tbody tr th {\n",
       "        vertical-align: top;\n",
       "    }\n",
       "\n",
       "    .dataframe thead th {\n",
       "        text-align: right;\n",
       "    }\n",
       "</style>\n",
       "<table border=\"1\" class=\"dataframe\">\n",
       "  <thead>\n",
       "    <tr style=\"text-align: right;\">\n",
       "      <th></th>\n",
       "      <th>framework</th>\n",
       "      <th>hasConstant</th>\n",
       "      <th>model</th>\n",
       "      <th>nTest</th>\n",
       "      <th>nTrain</th>\n",
       "      <th>numVars</th>\n",
       "      <th>state</th>\n",
       "      <th>testInfo</th>\n",
       "      <th>trainInfo</th>\n",
       "    </tr>\n",
       "  </thead>\n",
       "  <tbody>\n",
       "    <tr>\n",
       "      <th>0</th>\n",
       "      <td>Multiple</td>\n",
       "      <td>True</td>\n",
       "      <td>rental-prices-8</td>\n",
       "      <td>9815</td>\n",
       "      <td>39258</td>\n",
       "      <td>226</td>\n",
       "      <td>ready</td>\n",
       "      <td>{'adjRSquared': 0.4256676041949198, 'RSquared': 0.43883499659925473, 'SSE': 58728138.86140442, 'SST': 104653958.29302071, 'MSE': 6124.532157827137}</td>\n",
       "      <td>{'RSquared': 0.43768862075928705, 'SSR': 185076677.3689768, 'SSE': 237773423.34397343, 'SST': 422850100.7129502, 'adjRSquared': 0.4344326864581315, 'parameters std error': [nan, nan, nan, nan, nan, nan, nan, nan, nan, nan, nan, nan, nan, nan, nan, nan, nan, nan, nan, nan, nan, nan, nan, nan, nan, nan, nan, nan, nan, nan, nan, nan, nan, nan, nan, nan, nan, nan, nan, nan, nan, nan, nan, nan, nan, nan, nan, nan, nan, nan, nan, nan, nan, nan, nan, nan, nan, nan, nan, nan, nan, nan, nan, nan, nan, nan, nan, nan, nan, nan, nan, nan, nan, nan, nan, nan, nan, nan, nan, nan, nan, nan, nan, nan, nan, nan, nan, nan, nan, nan, nan, nan, nan, nan, nan, nan, nan, nan, nan, nan, ...], 'parameters': [21313743924091.84, 54.929301381111145, -0.010722295381128788, -21313743924102.37, -21313743924133.79, -21313743923982.83, -21313743924081.098, -21313743924080.22, -21313743924040.02, -21313743924023.973, -21313743924017.617, -21313743924044.508, -21313743923959.984, -21313743924057.574, -21313743924091.406, -21313743923986.9, -21313743924100.23, -21313743924071.67, -21313743923996.27, -21313743924120.305, -21313743924072.508, -21313743924125.117, -21313743924114.094, -21313743924120.953, -21313743924089.555, -21313743924139.277, -21313743924131.28, -21313743924052.04, -21313743924118.688, -21313743924102.992, -21313743924086.918, -21313743924134.836, -21313743924019.715, -21313743923980.855, -21313743924086.17, -21313743924127.004, -21313743924043.42, -21313743924125.215, -21313743924030.867, -21313743924003.15, -21313743924068.508, -21313743924118.945, -21313743924065.47, -21313743924055.97, -21313743924125.664, -21313743924062.816, -21313743924135.957, -21313743924128.58, -21313743924141.62, -21313743924121.844, -21313743924045.152, -21313743924146.242, -21313743924142.094, -21313743924028.52, -21313743924149.426, -21313743924103.883, -21313743924122.76, -21313743924104.8, -21313743923961.254, -21313743924118.152, -21313743924113.867, -21313743924050.145, -21313743924134.473, -21313743924148.816, -21313743924025.4, -21313743924114.16, -21313743924132.883, -21313743924120.24, -21313743924009.633, -21313743924124.68, -21313743923949.258, -21313743924149.03, -21313743924095.957, -21313743924110.68, -21313743924011.645, -21313743924145.668, -21313743924127.902, -21313743924134.008, -21313743924147.562, -21313743923989.414, -21313743924135.43, -21313743924135.168, -21313743924113.49, -21313743924109.793, -21313743924134.8, -21313743924113.363, -21313743924139.535, -21313743924138.137, -21313743924143.684, -21313743924127.867, -21313743924141.5, -21313743924068.84, -21313743924140.754, -21313743924141.508, -21313743924123.227, -21313743924151.29, -21313743924127.203, -21313743924161.805, -21313743924119.777, -21313743924125.17, ...], 'MSE': 6091.912155567969}</td>\n",
       "    </tr>\n",
       "  </tbody>\n",
       "</table>\n",
       "</div>"
      ],
      "text/plain": [
       "  framework  hasConstant            model  nTest  nTrain  numVars  state  \\\n",
       "0  Multiple  True         rental-prices-8  9815   39258   226      ready   \n",
       "\n",
       "                                                                                                                                              testInfo  \\\n",
       "0  {'adjRSquared': 0.4256676041949198, 'RSquared': 0.43883499659925473, 'SSE': 58728138.86140442, 'SST': 104653958.29302071, 'MSE': 6124.532157827137}   \n",
       "\n",
       "                                                                                                                                                                                                                                                                                                                                                                                                                                                                                                                                                                                                                                                                                                                                                                                                                                                                                                                                                                                                                                                                                                                                                                                                                                                                                                                                                                                                                                                                                                                                                                                                                                                                                                                                                                                                                                                                                                                                                                                                                                                                                                                                                                                                                                                                                                                                                                                                                                                                                                                                                                                                                                                                                                                                                                                                                                                                                           trainInfo  \n",
       "0  {'RSquared': 0.43768862075928705, 'SSR': 185076677.3689768, 'SSE': 237773423.34397343, 'SST': 422850100.7129502, 'adjRSquared': 0.4344326864581315, 'parameters std error': [nan, nan, nan, nan, nan, nan, nan, nan, nan, nan, nan, nan, nan, nan, nan, nan, nan, nan, nan, nan, nan, nan, nan, nan, nan, nan, nan, nan, nan, nan, nan, nan, nan, nan, nan, nan, nan, nan, nan, nan, nan, nan, nan, nan, nan, nan, nan, nan, nan, nan, nan, nan, nan, nan, nan, nan, nan, nan, nan, nan, nan, nan, nan, nan, nan, nan, nan, nan, nan, nan, nan, nan, nan, nan, nan, nan, nan, nan, nan, nan, nan, nan, nan, nan, nan, nan, nan, nan, nan, nan, nan, nan, nan, nan, nan, nan, nan, nan, nan, nan, ...], 'parameters': [21313743924091.84, 54.929301381111145, -0.010722295381128788, -21313743924102.37, -21313743924133.79, -21313743923982.83, -21313743924081.098, -21313743924080.22, -21313743924040.02, -21313743924023.973, -21313743924017.617, -21313743924044.508, -21313743923959.984, -21313743924057.574, -21313743924091.406, -21313743923986.9, -21313743924100.23, -21313743924071.67, -21313743923996.27, -21313743924120.305, -21313743924072.508, -21313743924125.117, -21313743924114.094, -21313743924120.953, -21313743924089.555, -21313743924139.277, -21313743924131.28, -21313743924052.04, -21313743924118.688, -21313743924102.992, -21313743924086.918, -21313743924134.836, -21313743924019.715, -21313743923980.855, -21313743924086.17, -21313743924127.004, -21313743924043.42, -21313743924125.215, -21313743924030.867, -21313743924003.15, -21313743924068.508, -21313743924118.945, -21313743924065.47, -21313743924055.97, -21313743924125.664, -21313743924062.816, -21313743924135.957, -21313743924128.58, -21313743924141.62, -21313743924121.844, -21313743924045.152, -21313743924146.242, -21313743924142.094, -21313743924028.52, -21313743924149.426, -21313743924103.883, -21313743924122.76, -21313743924104.8, -21313743923961.254, -21313743924118.152, -21313743924113.867, -21313743924050.145, -21313743924134.473, -21313743924148.816, -21313743924025.4, -21313743924114.16, -21313743924132.883, -21313743924120.24, -21313743924009.633, -21313743924124.68, -21313743923949.258, -21313743924149.03, -21313743924095.957, -21313743924110.68, -21313743924011.645, -21313743924145.668, -21313743924127.902, -21313743924134.008, -21313743924147.562, -21313743923989.414, -21313743924135.43, -21313743924135.168, -21313743924113.49, -21313743924109.793, -21313743924134.8, -21313743924113.363, -21313743924139.535, -21313743924138.137, -21313743924143.684, -21313743924127.867, -21313743924141.5, -21313743924068.84, -21313743924140.754, -21313743924141.508, -21313743924123.227, -21313743924151.29, -21313743924127.203, -21313743924161.805, -21313743924119.777, -21313743924125.17, ...], 'MSE': 6091.912155567969}  "
      ]
     },
     "execution_count": 111,
     "metadata": {},
     "output_type": "execute_result"
    }
   ],
   "source": [
    "test_model_query = \"\"\"\n",
    "CALL regression.linear.test($modelName)\n",
    "\"\"\"\n",
    "\n",
    "graph.run(test_model_query, {\"modelName\": model_name}).to_data_frame()"
   ]
  }
 ],
 "metadata": {
  "kernelspec": {
   "display_name": "Python 3",
   "language": "python",
   "name": "python3"
  },
  "language_info": {
   "codemirror_mode": {
    "name": "ipython",
    "version": 3
   },
   "file_extension": ".py",
   "mimetype": "text/x-python",
   "name": "python",
   "nbconvert_exporter": "python",
   "pygments_lexer": "ipython3",
   "version": "3.6.5"
  }
 },
 "nbformat": 4,
 "nbformat_minor": 2
}
