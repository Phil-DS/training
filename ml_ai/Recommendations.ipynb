{
 "cells": [
  {
   "cell_type": "markdown",
   "metadata": {},
   "source": [
    "# Recommendations\n",
    "\n",
    "In this section we'll learn how to make listing recommendations using Neo4j. As usual, let's first import some libraries:"
   ]
  },
  {
   "cell_type": "code",
   "execution_count": 1,
   "metadata": {},
   "outputs": [],
   "source": [
    "from py2neo import Graph\n",
    "import pandas as pd\n",
    "\n",
    "pd.set_option('display.max_colwidth', -1)"
   ]
  },
  {
   "cell_type": "code",
   "execution_count": 2,
   "metadata": {},
   "outputs": [],
   "source": [
    "graph = Graph(\"bolt://localhost\", auth=(\"neo4j\", \"neo\"))"
   ]
  },
  {
   "cell_type": "markdown",
   "metadata": {},
   "source": [
    "Sicne we're going to make listing suggestions so let's find some users who have written the most reviews so that we have some data to work with."
   ]
  },
  {
   "cell_type": "code",
   "execution_count": 3,
   "metadata": {},
   "outputs": [
    {
     "data": {
      "text/html": [
       "<div>\n",
       "<style scoped>\n",
       "    .dataframe tbody tr th:only-of-type {\n",
       "        vertical-align: middle;\n",
       "    }\n",
       "\n",
       "    .dataframe tbody tr th {\n",
       "        vertical-align: top;\n",
       "    }\n",
       "\n",
       "    .dataframe thead th {\n",
       "        text-align: right;\n",
       "    }\n",
       "</style>\n",
       "<table border=\"1\" class=\"dataframe\">\n",
       "  <thead>\n",
       "    <tr style=\"text-align: right;\">\n",
       "      <th></th>\n",
       "      <th>id</th>\n",
       "      <th>reviews</th>\n",
       "      <th>user</th>\n",
       "    </tr>\n",
       "  </thead>\n",
       "  <tbody>\n",
       "    <tr>\n",
       "      <th>0</th>\n",
       "      <td>15355355</td>\n",
       "      <td>59</td>\n",
       "      <td>Karen</td>\n",
       "    </tr>\n",
       "    <tr>\n",
       "      <th>1</th>\n",
       "      <td>141581986</td>\n",
       "      <td>58</td>\n",
       "      <td>Salvador</td>\n",
       "    </tr>\n",
       "    <tr>\n",
       "      <th>2</th>\n",
       "      <td>111293458</td>\n",
       "      <td>54</td>\n",
       "      <td>Elizabeth</td>\n",
       "    </tr>\n",
       "    <tr>\n",
       "      <th>3</th>\n",
       "      <td>39274139</td>\n",
       "      <td>54</td>\n",
       "      <td>Van</td>\n",
       "    </tr>\n",
       "    <tr>\n",
       "      <th>4</th>\n",
       "      <td>3973614</td>\n",
       "      <td>53</td>\n",
       "      <td>Christian</td>\n",
       "    </tr>\n",
       "    <tr>\n",
       "      <th>5</th>\n",
       "      <td>86126627</td>\n",
       "      <td>52</td>\n",
       "      <td>James</td>\n",
       "    </tr>\n",
       "    <tr>\n",
       "      <th>6</th>\n",
       "      <td>17387960</td>\n",
       "      <td>51</td>\n",
       "      <td>Obawole</td>\n",
       "    </tr>\n",
       "    <tr>\n",
       "      <th>7</th>\n",
       "      <td>563572</td>\n",
       "      <td>51</td>\n",
       "      <td>Daniel</td>\n",
       "    </tr>\n",
       "    <tr>\n",
       "      <th>8</th>\n",
       "      <td>197711</td>\n",
       "      <td>50</td>\n",
       "      <td>J. B.</td>\n",
       "    </tr>\n",
       "    <tr>\n",
       "      <th>9</th>\n",
       "      <td>16609485</td>\n",
       "      <td>45</td>\n",
       "      <td>Cliff</td>\n",
       "    </tr>\n",
       "  </tbody>\n",
       "</table>\n",
       "</div>"
      ],
      "text/plain": [
       "          id  reviews       user\n",
       "0  15355355   59       Karen    \n",
       "1  141581986  58       Salvador \n",
       "2  111293458  54       Elizabeth\n",
       "3  39274139   54       Van      \n",
       "4  3973614    53       Christian\n",
       "5  86126627   52       James    \n",
       "6  17387960   51       Obawole  \n",
       "7  563572     51       Daniel   \n",
       "8  197711     50       J. B.    \n",
       "9  16609485   45       Cliff    "
      ]
     },
     "execution_count": 3,
     "metadata": {},
     "output_type": "execute_result"
    }
   ],
   "source": [
    "popular_users_query = \"\"\"\n",
    "MATCH (u:User)\n",
    "RETURN u.id AS id, u.name AS user, size((u)-[:WROTE]->()) AS reviews\n",
    "ORDER BY reviews DESC\n",
    "LIMIT 10\n",
    "\"\"\"\n",
    "\n",
    "graph.run(popular_users_query).to_data_frame()"
   ]
  },
  {
   "cell_type": "markdown",
   "metadata": {},
   "source": [
    "We can probably pick anyone from this list but 'Salvador' happens to have written reviews of places that have also been reviewed by other people so we'll use him for our example.\n",
    "\n",
    "The following query finds the listings that Salvador has reviewed the most:"
   ]
  },
  {
   "cell_type": "code",
   "execution_count": 36,
   "metadata": {},
   "outputs": [
    {
     "data": {
      "text/html": [
       "<div>\n",
       "<style scoped>\n",
       "    .dataframe tbody tr th:only-of-type {\n",
       "        vertical-align: middle;\n",
       "    }\n",
       "\n",
       "    .dataframe tbody tr th {\n",
       "        vertical-align: top;\n",
       "    }\n",
       "\n",
       "    .dataframe thead th {\n",
       "        text-align: right;\n",
       "    }\n",
       "</style>\n",
       "<table border=\"1\" class=\"dataframe\">\n",
       "  <thead>\n",
       "    <tr style=\"text-align: right;\">\n",
       "      <th></th>\n",
       "      <th>listing.id</th>\n",
       "      <th>listing.name</th>\n",
       "      <th>listing.propertyType</th>\n",
       "      <th>nh.name</th>\n",
       "      <th>times</th>\n",
       "    </tr>\n",
       "  </thead>\n",
       "  <tbody>\n",
       "    <tr>\n",
       "      <th>0</th>\n",
       "      <td>14133414</td>\n",
       "      <td>Space to rest near LaGuardia Airport</td>\n",
       "      <td>House</td>\n",
       "      <td>Jackson Heights</td>\n",
       "      <td>22</td>\n",
       "    </tr>\n",
       "    <tr>\n",
       "      <th>1</th>\n",
       "      <td>21134697</td>\n",
       "      <td>Pilots, FA only, 15 min. walk LGA. 3 locations</td>\n",
       "      <td>House</td>\n",
       "      <td>Jackson Heights</td>\n",
       "      <td>9</td>\n",
       "    </tr>\n",
       "    <tr>\n",
       "      <th>2</th>\n",
       "      <td>17665781</td>\n",
       "      <td>Female Pilots &amp; Female FA only 15 min walk to LGA.</td>\n",
       "      <td>House</td>\n",
       "      <td>Jackson Heights</td>\n",
       "      <td>7</td>\n",
       "    </tr>\n",
       "    <tr>\n",
       "      <th>3</th>\n",
       "      <td>21248963</td>\n",
       "      <td>Female Pilots &amp; Female FA only 15 min walk to LGA.</td>\n",
       "      <td>House</td>\n",
       "      <td>Jackson Heights</td>\n",
       "      <td>7</td>\n",
       "    </tr>\n",
       "    <tr>\n",
       "      <th>4</th>\n",
       "      <td>17754072</td>\n",
       "      <td>Bed in Family Home Near LGA Airport</td>\n",
       "      <td>Townhouse</td>\n",
       "      <td>Jackson Heights</td>\n",
       "      <td>4</td>\n",
       "    </tr>\n",
       "    <tr>\n",
       "      <th>5</th>\n",
       "      <td>17222454</td>\n",
       "      <td>Sun Room Family Home LGA Airport NO CLEANING FEE</td>\n",
       "      <td>Townhouse</td>\n",
       "      <td>Jackson Heights</td>\n",
       "      <td>3</td>\n",
       "    </tr>\n",
       "    <tr>\n",
       "      <th>6</th>\n",
       "      <td>11912865</td>\n",
       "      <td>CrashPadsUSA for Airline Crew. Nightly HOTBEDS</td>\n",
       "      <td>House</td>\n",
       "      <td>Richmond Hill</td>\n",
       "      <td>2</td>\n",
       "    </tr>\n",
       "    <tr>\n",
       "      <th>7</th>\n",
       "      <td>16276632</td>\n",
       "      <td>Cozy Room Family Home LGA Airport NO CLEANING FEE</td>\n",
       "      <td>Townhouse</td>\n",
       "      <td>Jackson Heights</td>\n",
       "      <td>2</td>\n",
       "    </tr>\n",
       "    <tr>\n",
       "      <th>8</th>\n",
       "      <td>21461663</td>\n",
       "      <td>SMALL CLEAN ROOM, Easy to Time Square, Airport</td>\n",
       "      <td>House</td>\n",
       "      <td>Rego Park</td>\n",
       "      <td>1</td>\n",
       "    </tr>\n",
       "    <tr>\n",
       "      <th>9</th>\n",
       "      <td>16553353</td>\n",
       "      <td>❤️❤️❤️ COZY Place by the Park for ONE ❤️❤️❤️</td>\n",
       "      <td>House</td>\n",
       "      <td>Middle Village</td>\n",
       "      <td>1</td>\n",
       "    </tr>\n",
       "  </tbody>\n",
       "</table>\n",
       "</div>"
      ],
      "text/plain": [
       "  listing.id                                        listing.name  \\\n",
       "0  14133414   Space to rest near LaGuardia Airport                 \n",
       "1  21134697   Pilots, FA only, 15 min. walk LGA. 3 locations       \n",
       "2  17665781   Female Pilots & Female FA only 15 min walk to LGA.   \n",
       "3  21248963   Female Pilots & Female FA only 15 min walk to LGA.   \n",
       "4  17754072   Bed in Family Home Near LGA Airport                  \n",
       "5  17222454   Sun Room Family Home LGA Airport NO CLEANING FEE     \n",
       "6  11912865   CrashPadsUSA for Airline Crew. Nightly HOTBEDS       \n",
       "7  16276632   Cozy Room Family Home LGA Airport NO CLEANING FEE    \n",
       "8  21461663   SMALL CLEAN ROOM, Easy to Time Square, Airport       \n",
       "9  16553353   ❤️❤️❤️ COZY Place by the Park for ONE ❤️❤️❤️         \n",
       "\n",
       "  listing.propertyType          nh.name  times  \n",
       "0  House                Jackson Heights  22     \n",
       "1  House                Jackson Heights  9      \n",
       "2  House                Jackson Heights  7      \n",
       "3  House                Jackson Heights  7      \n",
       "4  Townhouse            Jackson Heights  4      \n",
       "5  Townhouse            Jackson Heights  3      \n",
       "6  House                Richmond Hill    2      \n",
       "7  Townhouse            Jackson Heights  2      \n",
       "8  House                Rego Park        1      \n",
       "9  House                Middle Village   1      "
      ]
     },
     "execution_count": 36,
     "metadata": {},
     "output_type": "execute_result"
    }
   ],
   "source": [
    "user_query = \"\"\"\n",
    "MATCH (u:User {id: $userId})-[:WROTE]->(review)-[:REVIEWS]->(listing:Listing)-[:IN_NEIGHBORHOOD]->(nh)\n",
    "RETURN listing.id, listing.name, listing.propertyType, nh.name, count(*) AS times\n",
    "ORDER BY times DESC\n",
    "\"\"\"\n",
    "\n",
    "user_id = \"141581986\"\n",
    "\n",
    "graph.run(user_query, {\"userId\": user_id}).to_data_frame()"
   ]
  },
  {
   "cell_type": "markdown",
   "metadata": {},
   "source": [
    "It looks like Salvador stays in places near to La Guardia Airport based on the names of the listings. \n",
    "\n",
    "The following query finds users who have reviewed the same places as Salvador:"
   ]
  },
  {
   "cell_type": "code",
   "execution_count": null,
   "metadata": {},
   "outputs": [],
   "source": [
    "similar_users_query = \"\"\"\n",
    "MATCH (u:User {id: $userId})-[:WROTE]->()-[:REVIEWS]->(listing:Listing),\n",
    "      (other)-[:WROTE]->()-[:REVIEWS]->(listing)\n",
    "WHERE u <> other      \n",
    "WITH other, count(distinct listing) AS commonListings      \n",
    "RETURN other.id, other.name, commonListings\n",
    "ORDER BY commonListings DESC\n",
    "LIMIT 10\n",
    "\"\"\"\n",
    "\n",
    "user_id = \"141581986\"\n",
    "\n",
    "graph.run(similar_users_query, {\"userId\": user_id}).to_data_frame()"
   ]
  },
  {
   "cell_type": "markdown",
   "metadata": {},
   "source": [
    "We'll return to these users in the next section."
   ]
  },
  {
   "cell_type": "markdown",
   "metadata": {},
   "source": [
    "## Collaborative Filtering\n",
    "\n",
    "[Collaborative filtering](https://towardsdatascience.com/various-implementations-of-collaborative-filtering-100385c6dfe0) is based on the assumption that people like things similar to other things they like, and things that are liked by other people with similar taste.\n",
    "\n",
    "<img src=\"https://cdn-images-1.medium.com/max/1600/1*6_NlX6CJYhtxzRM-t6ywkQ.png\" width=\"500px\" />\n",
    "\n",
    "We can use a simple variant of this approach to find listings that were reviewed by people who stayed in other places that Salvador reviewed:"
   ]
  },
  {
   "cell_type": "code",
   "execution_count": 6,
   "metadata": {},
   "outputs": [
    {
     "data": {
      "text/html": [
       "<div>\n",
       "<style scoped>\n",
       "    .dataframe tbody tr th:only-of-type {\n",
       "        vertical-align: middle;\n",
       "    }\n",
       "\n",
       "    .dataframe tbody tr th {\n",
       "        vertical-align: top;\n",
       "    }\n",
       "\n",
       "    .dataframe thead th {\n",
       "        text-align: right;\n",
       "    }\n",
       "</style>\n",
       "<table border=\"1\" class=\"dataframe\">\n",
       "  <thead>\n",
       "    <tr style=\"text-align: right;\">\n",
       "      <th></th>\n",
       "      <th>listing</th>\n",
       "      <th>users</th>\n",
       "    </tr>\n",
       "  </thead>\n",
       "  <tbody>\n",
       "    <tr>\n",
       "      <th>0</th>\n",
       "      <td>{'bedrooms': 1, 'availability365': 343, 'price': 48.0, 'propertyType': 'Townhouse', 'accommodates': 1, 'name': 'Cute Tiny Room Family Home by LGA NO CLEANING FEE', 'id': '18173787', 'bathrooms': 2}</td>\n",
       "      <td>[Renee, Mary, Hikaru, Donald]</td>\n",
       "    </tr>\n",
       "    <tr>\n",
       "      <th>1</th>\n",
       "      <td>{'bedrooms': 1, 'availability365': 340, 'price': 50.0, 'propertyType': 'Townhouse', 'accommodates': 2, 'name': 'Comfy Room Family Home LGA Airport NO CLEANING FEE', 'id': '5115372', 'bathrooms': 2}</td>\n",
       "      <td>[Luke, Renee, Mary, Sharon]</td>\n",
       "    </tr>\n",
       "    <tr>\n",
       "      <th>2</th>\n",
       "      <td>{'bedrooms': 1, 'availability365': 164, 'price': 45.0, 'propertyType': 'House', 'accommodates': 2, 'name': 'Walking distance  to LaGuardia pvt room', 'cleaningFee': 10.0, 'id': '11618854', 'bathrooms': 1}</td>\n",
       "      <td>[Ellie, Dawn, Hikaru]</td>\n",
       "    </tr>\n",
       "    <tr>\n",
       "      <th>3</th>\n",
       "      <td>{'bedrooms': 1, 'availability365': 58, 'price': 40.0, 'weeklyPrice': 250.0, 'propertyType': 'House', 'accommodates': 1, 'name': 'JFK 10 &amp; LGA 15 MINUTES A/C  PRIVATE BEDROOM', 'id': '7670562', 'bathrooms': 1}</td>\n",
       "      <td>[Luke, Renee, Hikaru]</td>\n",
       "    </tr>\n",
       "    <tr>\n",
       "      <th>4</th>\n",
       "      <td>{'bedrooms': 1, 'availability365': 134, 'price': 33.0, 'accommodates': 2, 'propertyType': 'House', 'name': 'Private cozy room near LGA airport', 'cleaningFee': 10.0, 'id': '16324410', 'bathrooms': 1}</td>\n",
       "      <td>[Mary, Dawn]</td>\n",
       "    </tr>\n",
       "    <tr>\n",
       "      <th>5</th>\n",
       "      <td>{'bedrooms': 1, 'availability365': 168, 'weeklyPrice': 240.0, 'price': 45.0, 'propertyType': 'House', 'accommodates': 3, 'name': 'Only Steps away from LaGuardia arpt', 'cleaningFee': 10.0, 'id': '10186192', 'bathrooms': 1}</td>\n",
       "      <td>[Katie, Ellie]</td>\n",
       "    </tr>\n",
       "    <tr>\n",
       "      <th>6</th>\n",
       "      <td>{'bedrooms': 1, 'availability365': 132, 'price': 50.0, 'accommodates': 2, 'propertyType': 'House', 'name': 'Close by La Guardia airport', 'cleaningFee': 10.0, 'id': '18855980', 'bathrooms': 1}</td>\n",
       "      <td>[Renee, Ellie]</td>\n",
       "    </tr>\n",
       "    <tr>\n",
       "      <th>7</th>\n",
       "      <td>{'bedrooms': 1, 'availability365': 125, 'price': 45.0, 'propertyType': 'House', 'accommodates': 2, 'name': 'Private room near LGA Airport with queen bed', 'cleaningFee': 10.0, 'id': '16325899', 'bathrooms': 1}</td>\n",
       "      <td>[Mary, Donald]</td>\n",
       "    </tr>\n",
       "    <tr>\n",
       "      <th>8</th>\n",
       "      <td>{'bedrooms': 1, 'availability365': 365, 'price': 59.0, 'accommodates': 3, 'propertyType': 'House', 'name': 'PRIVATE BED ROOM 12 MINS FROM JFK', 'cleaningFee': 0.0, 'id': '15328242', 'bathrooms': 1}</td>\n",
       "      <td>[Luke]</td>\n",
       "    </tr>\n",
       "    <tr>\n",
       "      <th>9</th>\n",
       "      <td>{'bedrooms': 1, 'availability365': 145, 'price': 40.0, 'propertyType': 'House', 'accommodates': 3, 'name': 'Spacious private room near LGA airport', 'cleaningFee': 10.0, 'id': '16475570', 'bathrooms': 1}</td>\n",
       "      <td>[Mary]</td>\n",
       "    </tr>\n",
       "  </tbody>\n",
       "</table>\n",
       "</div>"
      ],
      "text/plain": [
       "                                                                                                                                                                                                                          listing  \\\n",
       "0  {'bedrooms': 1, 'availability365': 343, 'price': 48.0, 'propertyType': 'Townhouse', 'accommodates': 1, 'name': 'Cute Tiny Room Family Home by LGA NO CLEANING FEE', 'id': '18173787', 'bathrooms': 2}                            \n",
       "1  {'bedrooms': 1, 'availability365': 340, 'price': 50.0, 'propertyType': 'Townhouse', 'accommodates': 2, 'name': 'Comfy Room Family Home LGA Airport NO CLEANING FEE', 'id': '5115372', 'bathrooms': 2}                            \n",
       "2  {'bedrooms': 1, 'availability365': 164, 'price': 45.0, 'propertyType': 'House', 'accommodates': 2, 'name': 'Walking distance  to LaGuardia pvt room', 'cleaningFee': 10.0, 'id': '11618854', 'bathrooms': 1}                     \n",
       "3  {'bedrooms': 1, 'availability365': 58, 'price': 40.0, 'weeklyPrice': 250.0, 'propertyType': 'House', 'accommodates': 1, 'name': 'JFK 10 & LGA 15 MINUTES A/C  PRIVATE BEDROOM', 'id': '7670562', 'bathrooms': 1}                 \n",
       "4  {'bedrooms': 1, 'availability365': 134, 'price': 33.0, 'accommodates': 2, 'propertyType': 'House', 'name': 'Private cozy room near LGA airport', 'cleaningFee': 10.0, 'id': '16324410', 'bathrooms': 1}                          \n",
       "5  {'bedrooms': 1, 'availability365': 168, 'weeklyPrice': 240.0, 'price': 45.0, 'propertyType': 'House', 'accommodates': 3, 'name': 'Only Steps away from LaGuardia arpt', 'cleaningFee': 10.0, 'id': '10186192', 'bathrooms': 1}   \n",
       "6  {'bedrooms': 1, 'availability365': 132, 'price': 50.0, 'accommodates': 2, 'propertyType': 'House', 'name': 'Close by La Guardia airport', 'cleaningFee': 10.0, 'id': '18855980', 'bathrooms': 1}                                 \n",
       "7  {'bedrooms': 1, 'availability365': 125, 'price': 45.0, 'propertyType': 'House', 'accommodates': 2, 'name': 'Private room near LGA Airport with queen bed', 'cleaningFee': 10.0, 'id': '16325899', 'bathrooms': 1}                \n",
       "8  {'bedrooms': 1, 'availability365': 365, 'price': 59.0, 'accommodates': 3, 'propertyType': 'House', 'name': 'PRIVATE BED ROOM 12 MINS FROM JFK', 'cleaningFee': 0.0, 'id': '15328242', 'bathrooms': 1}                            \n",
       "9  {'bedrooms': 1, 'availability365': 145, 'price': 40.0, 'propertyType': 'House', 'accommodates': 3, 'name': 'Spacious private room near LGA airport', 'cleaningFee': 10.0, 'id': '16475570', 'bathrooms': 1}                      \n",
       "\n",
       "                           users  \n",
       "0  [Renee, Mary, Hikaru, Donald]  \n",
       "1  [Luke, Renee, Mary, Sharon]    \n",
       "2  [Ellie, Dawn, Hikaru]          \n",
       "3  [Luke, Renee, Hikaru]          \n",
       "4  [Mary, Dawn]                   \n",
       "5  [Katie, Ellie]                 \n",
       "6  [Renee, Ellie]                 \n",
       "7  [Mary, Donald]                 \n",
       "8  [Luke]                         \n",
       "9  [Mary]                         "
      ]
     },
     "execution_count": 6,
     "metadata": {},
     "output_type": "execute_result"
    }
   ],
   "source": [
    "collabarative_filtering_query = \"\"\"\n",
    "MATCH (u:User {id: $userId})-[:WROTE]->()-[:REVIEWS]->(listing:Listing),\n",
    "      (other)-[:WROTE]->()-[:REVIEWS]->(listing)\n",
    "WHERE u <> other      \n",
    "WITH u, other, count(distinct listing) AS commonListings\n",
    "ORDER BY commonListings DESC\n",
    "LIMIT 10\n",
    "MATCH (other)-[:WROTE]->(review)-[:REVIEWS]->(listing)\n",
    "WHERE not((u)-[:WROTE]->()-[:REVIEWS]->(listing))\n",
    "RETURN listing, [user in collect(DISTINCT other) | user.name] AS users\n",
    "ORDER BY size(users) DESC\n",
    "LIMIT 10\n",
    "\"\"\"\n",
    "\n",
    "user_id = \"141581986\"\n",
    "graph.run(collabarative_filtering_query, {\"userId\": user_id}).to_data_frame()"
   ]
  },
  {
   "cell_type": "markdown",
   "metadata": {},
   "source": [
    "The previous query considered users to be similar to each other if they've written reviews on the same listings, but we could do something more sophisticated. \n",
    "\n",
    "We want to work out similar users for each user using a similarity measure (e.g. Jaccard, Cosine, Pearson). These algorithms have a complexity of O(n^2) so let's check how many users we have before we do this:"
   ]
  },
  {
   "cell_type": "code",
   "execution_count": 7,
   "metadata": {
    "scrolled": true
   },
   "outputs": [
    {
     "data": {
      "text/html": [
       "<div>\n",
       "<style scoped>\n",
       "    .dataframe tbody tr th:only-of-type {\n",
       "        vertical-align: middle;\n",
       "    }\n",
       "\n",
       "    .dataframe tbody tr th {\n",
       "        vertical-align: top;\n",
       "    }\n",
       "\n",
       "    .dataframe thead th {\n",
       "        text-align: right;\n",
       "    }\n",
       "</style>\n",
       "<table border=\"1\" class=\"dataframe\">\n",
       "  <thead>\n",
       "    <tr style=\"text-align: right;\">\n",
       "      <th></th>\n",
       "      <th>count(*)</th>\n",
       "    </tr>\n",
       "  </thead>\n",
       "  <tbody>\n",
       "    <tr>\n",
       "      <th>0</th>\n",
       "      <td>877779</td>\n",
       "    </tr>\n",
       "  </tbody>\n",
       "</table>\n",
       "</div>"
      ],
      "text/plain": [
       "   count(*)\n",
       "0  877779  "
      ]
     },
     "execution_count": 7,
     "metadata": {},
     "output_type": "execute_result"
    }
   ],
   "source": [
    "user_query = \"\"\"\n",
    "MATCH (u:User)\n",
    "RETURN count(*)\n",
    "\"\"\"\n",
    "\n",
    "graph.run(user_query).to_data_frame()"
   ]
  },
  {
   "cell_type": "markdown",
   "metadata": {},
   "source": [
    "We have more than 800,000 users which would result in more than 77 trillion comparisons to work out similarity scores. "
   ]
  },
  {
   "cell_type": "code",
   "execution_count": 8,
   "metadata": {},
   "outputs": [],
   "source": [
    "clustering_query = \"\"\"\n",
    "CALL algo.labelPropagation(\n",
    "  \"MATCH (u:User) WITH u SKIP {skip} LIMIT {limit} RETURN id(u) AS id\",\n",
    "  \"MATCH (u1:User) WITH u1 SKIP {skip} LIMIT {limit} MATCH (u1:User)-[:WROTE]->()-[:REVIEWS]->()<-[:REVIEWS]-()<-[:WROTE]-(u2)\n",
    "   return id(u1) AS source, id(u2) AS target, count(*) AS weight\", \"BOTH\",\n",
    "  {graph: \"cypher\", batchSize: 100}\n",
    ")\n",
    "\"\"\""
   ]
  },
  {
   "cell_type": "markdown",
   "metadata": {},
   "source": [
    "Now we'll iterate through each of the partitions and calculate the similarity of users in each partition:"
   ]
  },
  {
   "cell_type": "code",
   "execution_count": 7,
   "metadata": {},
   "outputs": [
    {
     "data": {
      "text/html": [
       "<table><tr><th>partition</th><th>count</th></tr><tr><td style=\"text-align:right\">89838</td><td style=\"text-align:right\">17651</td></tr><tr><td style=\"text-align:right\">68512</td><td style=\"text-align:right\">16787</td></tr><tr><td style=\"text-align:right\">159338</td><td style=\"text-align:right\">12001</td></tr><tr><td style=\"text-align:right\">44413</td><td style=\"text-align:right\">10433</td></tr><tr><td style=\"text-align:right\">143153</td><td style=\"text-align:right\">9571</td></tr><tr><td style=\"text-align:right\">97898</td><td style=\"text-align:right\">6954</td></tr><tr><td style=\"text-align:right\">54910</td><td style=\"text-align:right\">6836</td></tr><tr><td style=\"text-align:right\">71702</td><td style=\"text-align:right\">5320</td></tr><tr><td style=\"text-align:right\">126025</td><td style=\"text-align:right\">5091</td></tr><tr><td style=\"text-align:right\">139794</td><td style=\"text-align:right\">4643</td></tr></table>"
      ],
      "text/plain": [
       " partition | count \n",
       "-----------|-------\n",
       "     89838 | 17651 \n",
       "     68512 | 16787 \n",
       "    159338 | 12001 \n",
       "     44413 | 10433 \n",
       "    143153 |  9571 \n",
       "     97898 |  6954 \n",
       "     54910 |  6836 \n",
       "     71702 |  5320 \n",
       "    126025 |  5091 \n",
       "    139794 |  4643 "
      ]
     },
     "execution_count": 7,
     "metadata": {},
     "output_type": "execute_result"
    }
   ],
   "source": [
    "cluster_query = \"\"\"\n",
    "MATCH (u:User)\n",
    "WHERE exists(u.partition)\n",
    "RETURN u.partition AS partition, count(*) AS count\n",
    "ORDER BY count DESC\n",
    "LIMIT 10\n",
    "\"\"\"\n",
    "\n",
    "clusters = graph.run(cluster_query).to_table()\n",
    "clusters"
   ]
  },
  {
   "cell_type": "code",
   "execution_count": 69,
   "metadata": {},
   "outputs": [
    {
     "data": {
      "text/html": [
       "<table><tr><th>partition</th><th>count(*)</th><th>userId</th></tr><tr><td style=\"text-align:right\">329748</td><td style=\"text-align:right\">2539</td><td style=\"text-align:right\">1264506</td></tr></table>"
      ],
      "text/plain": [
       " partition | count(*) |  userId \n",
       "-----------|----------|---------\n",
       "    329748 |     2539 | 1264506 "
      ]
     },
     "execution_count": 69,
     "metadata": {},
     "output_type": "execute_result"
    }
   ],
   "source": [
    "user_query = \"\"\"\n",
    "MATCH (u:User {id: $userId})\n",
    "WITH u.partition AS partition, id(u) AS userId\n",
    "MATCH (u:User {partition: partition})\n",
    "RETURN partition, count(*), userId\n",
    "\"\"\"\n",
    "\n",
    "result = graph.run(user_query, {\"userId\": user_id}).to_table()\n",
    "partition, _, user_node_id = result[0]\n",
    "result"
   ]
  },
  {
   "cell_type": "code",
   "execution_count": 70,
   "metadata": {},
   "outputs": [
    {
     "data": {
      "text/html": [
       "<table><tr><th>source1</th><th>source2</th><th>count1</th><th>count2</th><th>intersection</th><th>similarity</th></tr><tr><td style=\"text-align:right\">1264506</td><td style=\"text-align:right\">1585260</td><td style=\"text-align:right\">10</td><td style=\"text-align:right\">4</td><td style=\"text-align:right\">3</td><td style=\"text-align:right\">0.2727272727272727</td></tr><tr><td style=\"text-align:right\">1247875</td><td style=\"text-align:right\">1264506</td><td style=\"text-align:right\">5</td><td style=\"text-align:right\">10</td><td style=\"text-align:right\">3</td><td style=\"text-align:right\">0.25</td></tr><tr><td style=\"text-align:right\">1188415</td><td style=\"text-align:right\">1264506</td><td style=\"text-align:right\">6</td><td style=\"text-align:right\">10</td><td style=\"text-align:right\">3</td><td style=\"text-align:right\">0.23076923076923078</td></tr><tr><td style=\"text-align:right\">1247895</td><td style=\"text-align:right\">1264506</td><td style=\"text-align:right\">3</td><td style=\"text-align:right\">10</td><td style=\"text-align:right\">2</td><td style=\"text-align:right\">0.18181818181818182</td></tr><tr><td style=\"text-align:right\">1247711</td><td style=\"text-align:right\">1264506</td><td style=\"text-align:right\">3</td><td style=\"text-align:right\">10</td><td style=\"text-align:right\">2</td><td style=\"text-align:right\">0.18181818181818182</td></tr><tr><td style=\"text-align:right\">1188391</td><td style=\"text-align:right\">1264506</td><td style=\"text-align:right\">4</td><td style=\"text-align:right\">10</td><td style=\"text-align:right\">2</td><td style=\"text-align:right\">0.16666666666666666</td></tr><tr><td style=\"text-align:right\">1264506</td><td style=\"text-align:right\">1406555</td><td style=\"text-align:right\">10</td><td style=\"text-align:right\">4</td><td style=\"text-align:right\">2</td><td style=\"text-align:right\">0.16666666666666666</td></tr><tr><td style=\"text-align:right\">1188381</td><td style=\"text-align:right\">1264506</td><td style=\"text-align:right\">4</td><td style=\"text-align:right\">10</td><td style=\"text-align:right\">2</td><td style=\"text-align:right\">0.16666666666666666</td></tr><tr><td style=\"text-align:right\">1188184</td><td style=\"text-align:right\">1264506</td><td style=\"text-align:right\">5</td><td style=\"text-align:right\">10</td><td style=\"text-align:right\">2</td><td style=\"text-align:right\">0.15384615384615385</td></tr><tr><td style=\"text-align:right\">1264506</td><td style=\"text-align:right\">1390769</td><td style=\"text-align:right\">10</td><td style=\"text-align:right\">5</td><td style=\"text-align:right\">2</td><td style=\"text-align:right\">0.15384615384615385</td></tr></table>"
      ],
      "text/plain": [
       " source1 | source2 | count1 | count2 | intersection |          similarity \n",
       "---------|---------|--------|--------|--------------|---------------------\n",
       " 1264506 | 1585260 |     10 |      4 |            3 |  0.2727272727272727 \n",
       " 1247875 | 1264506 |      5 |     10 |            3 |                0.25 \n",
       " 1188415 | 1264506 |      6 |     10 |            3 | 0.23076923076923078 \n",
       " 1247895 | 1264506 |      3 |     10 |            2 | 0.18181818181818182 \n",
       " 1247711 | 1264506 |      3 |     10 |            2 | 0.18181818181818182 \n",
       " 1188391 | 1264506 |      4 |     10 |            2 | 0.16666666666666666 \n",
       " 1264506 | 1406555 |     10 |      4 |            2 | 0.16666666666666666 \n",
       " 1188381 | 1264506 |      4 |     10 |            2 | 0.16666666666666666 \n",
       " 1188184 | 1264506 |      5 |     10 |            2 | 0.15384615384615385 \n",
       " 1264506 | 1390769 |     10 |      5 |            2 | 0.15384615384615385 "
      ]
     },
     "execution_count": 70,
     "metadata": {},
     "output_type": "execute_result"
    }
   ],
   "source": [
    "similarity_query = \"\"\"\n",
    "MATCH (u:User {partition: $cluster})\n",
    "MATCH (u)-[:WROTE]->()-[:REVIEWS]->(l)\n",
    "WITH {source:id(u), targets: collect(distinct id(l))} as userData\n",
    "WITH collect(userData) as data\n",
    "CALL algo.similarity.jaccard.stream(data, {similarityCutoff: 0.0})\n",
    "YIELD source1, source2, count1, count2, intersection, similarity\n",
    "WHERE source1 = $userNodeId or source2 = $userNodeId\n",
    "RETURN source1, source2, count1, count2, intersection, similarity\n",
    "ORDER BY similarity DESC\n",
    "LIMIT 10\n",
    "\"\"\"\n",
    "\n",
    "result = graph.run(similarity_query, {\"cluster\": partition, \"userNodeId\": user_node_id}).to_table()\n",
    "result"
   ]
  },
  {
   "cell_type": "code",
   "execution_count": 71,
   "metadata": {
    "scrolled": true
   },
   "outputs": [
    {
     "data": {
      "text/html": [
       "<table><tr><th>nodes</th><th>min</th><th>max</th><th>mean</th><th>stdDev</th><th>p25</th><th>p50</th><th>p75</th><th>p90</th><th>p95</th><th>p99</th><th>p999</th><th>p100</th><th>similarityPairs</th></tr><tr><td style=\"text-align:right\">2539</td><td style=\"text-align:right\">0.19999980926513672</td><td style=\"text-align:right\">1.0000066757202148</td><td style=\"text-align:right\">0.7702628198275977</td><td style=\"text-align:right\">0.29592368000442176</td><td style=\"text-align:right\">0.5000028610229492</td><td style=\"text-align:right\">1.0000066757202148</td><td style=\"text-align:right\">1.0000066757202148</td><td style=\"text-align:right\">1.0000066757202148</td><td style=\"text-align:right\">1.0000066757202148</td><td style=\"text-align:right\">1.0000066757202148</td><td style=\"text-align:right\">1.0000066757202148</td><td style=\"text-align:right\">1.0000066757202148</td><td style=\"text-align:right\">221999</td></tr></table>"
      ],
      "text/plain": [
       " nodes |                 min |                max |               mean |              stdDev |                p25 |                p50 |                p75 |                p90 |                p95 |                p99 |               p999 |               p100 | similarityPairs \n",
       "-------|---------------------|--------------------|--------------------|---------------------|--------------------|--------------------|--------------------|--------------------|--------------------|--------------------|--------------------|--------------------|-----------------\n",
       "  2539 | 0.19999980926513672 | 1.0000066757202148 | 0.7702628198275977 | 0.29592368000442176 | 0.5000028610229492 | 1.0000066757202148 | 1.0000066757202148 | 1.0000066757202148 | 1.0000066757202148 | 1.0000066757202148 | 1.0000066757202148 | 1.0000066757202148 |          221999 "
      ]
     },
     "execution_count": 71,
     "metadata": {},
     "output_type": "execute_result"
    }
   ],
   "source": [
    "similarity_query = \"\"\"\n",
    "MATCH (u:User {partition: $cluster})\n",
    "MATCH (u)-[:WROTE]->()-[:REVIEWS]->(l)\n",
    "WITH {source:id(u), targets: collect(distinct id(l))} as userData\n",
    "WITH collect(userData) as data\n",
    "CALL algo.similarity.jaccard(data, {similarityCutoff: 0.2, write: true})\n",
    "YIELD nodes, min, max, mean, stdDev, p25, p50, p75, p90, p95, p99, p999, p100, similarityPairs \n",
    "RETURN nodes, min, max, mean, stdDev, p25, p50, p75, p90, p95, p99, p999, p100, similarityPairs\n",
    "\"\"\"\n",
    "\n",
    "result = graph.run(similarity_query, {\"cluster\": partition}).to_table()\n",
    "result"
   ]
  },
  {
   "cell_type": "markdown",
   "metadata": {},
   "source": [
    "Now we can make some suggestions to Salvador based on the similar people that we've found:"
   ]
  },
  {
   "cell_type": "code",
   "execution_count": 78,
   "metadata": {},
   "outputs": [
    {
     "data": {
      "text/html": [
       "<table><tr><th>listing.id</th><th>listing.name</th><th>listing.propertyType</th><th>count(*)</th><th>people</th></tr><tr><td style=\"text-align:left\">11618854</td><td style=\"text-align:left\">Walking distance  to LaGuardia pvt room</td><td style=\"text-align:left\">House</td><td style=\"text-align:right\">8</td><td style=\"text-align:left\">[&#039;Dawn&#039;, &#039;Ellie&#039;]</td></tr><tr><td style=\"text-align:left\">10186192</td><td style=\"text-align:left\">Only Steps away from LaGuardia arpt</td><td style=\"text-align:left\">House</td><td style=\"text-align:right\">4</td><td style=\"text-align:left\">[&#039;Ellie&#039;]</td></tr><tr><td style=\"text-align:left\">16324410</td><td style=\"text-align:left\">Private cozy room near LGA airport</td><td style=\"text-align:left\">House</td><td style=\"text-align:right\">1</td><td style=\"text-align:left\">[&#039;Dawn&#039;]</td></tr><tr><td style=\"text-align:left\">16601841</td><td style=\"text-align:left\">Great for La Guardia airport guests.</td><td style=\"text-align:left\">House</td><td style=\"text-align:right\">1</td><td style=\"text-align:left\">[&#039;Scott&#039;]</td></tr><tr><td style=\"text-align:left\">18855980</td><td style=\"text-align:left\">Close by La Guardia airport</td><td style=\"text-align:left\">House</td><td style=\"text-align:right\">1</td><td style=\"text-align:left\">[&#039;Ellie&#039;]</td></tr></table>"
      ],
      "text/plain": [
       " listing.id | listing.name                            | listing.propertyType | count(*) | people            \n",
       "------------|-----------------------------------------|----------------------|----------|-------------------\n",
       " 11618854   | Walking distance  to LaGuardia pvt room | House                |        8 | ['Dawn', 'Ellie'] \n",
       " 10186192   | Only Steps away from LaGuardia arpt     | House                |        4 | ['Ellie']         \n",
       " 16324410   | Private cozy room near LGA airport      | House                |        1 | ['Dawn']          \n",
       " 16601841   | Great for La Guardia airport guests.    | House                |        1 | ['Scott']         \n",
       " 18855980   | Close by La Guardia airport             | House                |        1 | ['Ellie']         "
      ]
     },
     "execution_count": 78,
     "metadata": {},
     "output_type": "execute_result"
    }
   ],
   "source": [
    "recommendations_query = \"\"\"\n",
    "MATCH (u:User {id: $userId})-[:SIMILAR]-(other),\n",
    "      (other)-[:WROTE]->(review)-[:REVIEWS]->(listing)\n",
    "WHERE not((u)-[:WROTE]->()-[:REVIEWS]->(listing))\n",
    "RETURN listing.id, listing.name, listing.propertyType, count(*), collect(DISTINCT other.name) AS people\n",
    "\"\"\"\n",
    "\n",
    "graph.run(recommendations_query, {\"userId\": user_id}).to_table()"
   ]
  }
 ],
 "metadata": {
  "kernelspec": {
   "display_name": "Python 3",
   "language": "python",
   "name": "python3"
  },
  "language_info": {
   "codemirror_mode": {
    "name": "ipython",
    "version": 3
   },
   "file_extension": ".py",
   "mimetype": "text/x-python",
   "name": "python",
   "nbconvert_exporter": "python",
   "pygments_lexer": "ipython3",
   "version": "3.6.5"
  }
 },
 "nbformat": 4,
 "nbformat_minor": 2
}
