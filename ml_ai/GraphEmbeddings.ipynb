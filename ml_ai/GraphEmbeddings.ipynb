{
 "cells": [
  {
   "cell_type": "markdown",
   "metadata": {},
   "source": [
    "\n",
    "# Graph Embeddings\n",
    "\n",
    "We can show how to create graph embeddings for listings - https://medium.com/airbnb-engineering/listing-embeddings-for-similar-listing-recommendations-and-real-time-personalization-in-search-601172f7603e\n",
    "\n",
    "Embedding algorithms take a while to run on bigger datasets, and our implementation isn't yet optimised so we'll run it on a small dataset to gain an understanding about this approach.\n",
    "\n",
    "One of DeepGL's benchmark datasets is an email network, and our goal is to try and classify the emails based on the embeddings. \n",
    "\n",
    "Before you run this notebook create another database in your project and copy across the ml-models and Graph Algorithms plugins. \n"
   ]
  },
  {
   "cell_type": "code",
   "execution_count": 1,
   "metadata": {
    "collapsed": true
   },
   "outputs": [],
   "source": [
    "from py2neo import Graph\n",
    "import pandas as pd\n",
    "\n",
    "pd.set_option('display.max_colwidth', -1)"
   ]
  },
  {
   "cell_type": "code",
   "execution_count": 2,
   "metadata": {},
   "outputs": [],
   "source": [
    "graph = Graph(\"bolt://localhost\", auth=(\"neo4j\", \"neo\"))"
   ]
  },
  {
   "cell_type": "markdown",
   "metadata": {},
   "source": []
  },
  {
   "cell_type": "code",
   "execution_count": null,
   "metadata": {},
   "outputs": [],
   "source": [
    "edge_list_file = \"https://github.com/meltzerpete/Embedding-Vis/raw/master/emails/emails.edgelist\"\n",
    "labels_file = \"https://github.com/meltzerpete/Embedding-Vis/raw/master/emails/emails.labels\"\n",
    "attributes_file = None  # attributes file should have nodeIds in column 0, followed by one column per attribute\n",
    "\n",
    "with driver.session() as session:\n",
    "    session.run(\"CREATE CONSTRAINT ON (n:Node) ASSERT n.id IS UNIQUE\")\n",
    "    \n",
    "    result = session.run(\"\"\"\\\n",
    "        LOAD CSV FROM $edgelistFile AS row\n",
    "        FIELDTERMINATOR \" \"\n",
    "        MERGE (e1:Node {id: row[0]})\n",
    "        MERGE (e2:Node {id: row[1]})\n",
    "        MERGE (e1)-[:LINK]->(e2)\n",
    "        \"\"\", {\"edgelistFile\": edge_list_file})\n",
    "    print(result.summary().counters)\n",
    "\n",
    "    result = session.run(\"\"\"\\\n",
    "        LOAD CSV FROM $labelsFile AS row\n",
    "        FIELDTERMINATOR \" \"\n",
    "        MATCH (e:Node {id: row[0]})\n",
    "        SET  e.label = toInteger(row[1])-1\n",
    "        \"\"\", {\"labelsFile\": labels_file})\n",
    "    print(result.summary().counters)\n",
    "\n",
    "    if attributes_file is not None:\n",
    "        result = session.run(\"\"\"\\\n",
    "            load csv from $attributesFile  as row\n",
    "            FIELDTERMINATOR \" \"\n",
    "            with toString(toInteger(row[0])) AS nodeId, row[1..] AS properties\n",
    "            MATCH (s:Node {id: nodeId})\n",
    "            WITH s, properties\n",
    "            UNWIND range(0, size(properties)-1) AS index\n",
    "            CALL apoc.create.setProperty(s, \"property_\" + index, toFloat(properties[index])) YIELD node\n",
    "            return count(*)\n",
    "            \"\"\", {\"attributesFile\": attributes_file})\n",
    "        print(result.summary().counters)"
   ]
  },
  {
   "cell_type": "code",
   "execution_count": null,
   "metadata": {},
   "outputs": [],
   "source": [
    "\n",
    "embedding_property_name  = \"deepglEmbedding\"\n",
    "node_features = []\n",
    "pruning_lambda = 0.6\n",
    "diffusions = 3\n",
    "iterations = 3\n",
    "\n",
    "with driver.session() as session:\n",
    "    params = {\n",
    "        \"writeProperty\": embedding_property_name,\n",
    "        \"nodeFeatures\": node_features,\n",
    "        \"pruningLambda\": pruning_lambda,\n",
    "        \"diffusions\": diffusions,\n",
    "        \"iterations\": iterations\n",
    "    }\n",
    "    result = session.run(\"\"\"\n",
    "    call\n",
    "    embedding.deepgl(\n",
    "        null,\n",
    "        null,\n",
    "        {nodeFeatures: $nodeFeatures,\n",
    "         pruningLambda: $pruningLambda,\n",
    "         diffusions: $diffusions,\n",
    "         iterations: $iterations,\n",
    "         writeProperty: $writeProperty})\n",
    "    \"\"\", params)\n",
    "    print(result.single())"
   ]
  },
  {
   "cell_type": "code",
   "execution_count": null,
   "metadata": {},
   "outputs": [],
   "source": [
    "with driver.session() as session:\n",
    "    result = session.run(\"\"\"\\\n",
    "    MATCH (n) \n",
    "    WITH n.label as class, count(*) AS c\n",
    "    ORDER BY c DESC\n",
    "    WITH class WHERE c > 50\n",
    "    WITH class ORDER BY class\n",
    "    with collect(class) AS biggestClasses\n",
    "    MATCH (p:Node) WHERE p.label IN biggestClasses\n",
    "    RETURN p.`%s` AS embedding, apoc.coll.indexOf(biggestClasses, p.label) AS label, p.label as initialLabel\n",
    "    ORDER BY label\n",
    "    \"\"\" % embedding_property_name)\n",
    "\n",
    "    df = pd.DataFrame(dict(row) for row in result)\n",
    "\n",
    "emb = df[\"embedding\"].apply(pd.Series).values\n",
    "labels = df[\"label\"].values\n",
    "emb.shape"
   ]
  },
  {
   "cell_type": "code",
   "execution_count": null,
   "metadata": {},
   "outputs": [],
   "source": [
    "# Heatmap\n",
    "colours = ['r', 'g', 'b', 'black', 'y', 'orange']\n",
    "cols = pd.DataFrame(labels).apply(lambda x: colours[int(x)], axis=1).values\n",
    "\n",
    "dist = np.ndarray([len(emb), len(emb)])\n",
    "\n",
    "for i, e1 in enumerate(emb):\n",
    "    for j, e2 in enumerate(emb):\n",
    "        dist.itemset((i, j), np.linalg.norm(e1 - e2, 2))\n",
    "\n",
    "plt.imshow(dist)\n",
    "plt.axes().xaxis.tick_top()\n",
    "plt.xticks(np.arange(len(dist)), labels)\n",
    "plt.yticks(np.arange(len(dist)), labels)\n",
    "plt.show()\n",
    "\n",
    "# 2D Visualisation\n",
    "# from: https://baoilleach.blogspot.com/2014/01/convert-distance-matrix-to-2d.html\n",
    "adist = dist\n",
    "amax = np.amax(adist)\n",
    "adist /= amax\n",
    "\n",
    "mds = manifold.MDS(n_components=2, dissimilarity=\"precomputed\", random_state=6)\n",
    "results = mds.fit(adist)\n",
    "\n",
    "coords = results.embedding_\n",
    "\n",
    "plt.subplots_adjust(bottom=0.1)\n",
    "plt.scatter(\n",
    "    coords[:, 0], coords[:, 1], marker='o', c=cols\n",
    ")\n",
    "\n",
    "plt.show()"
   ]
  },
  {
   "cell_type": "code",
   "execution_count": null,
   "metadata": {},
   "outputs": [],
   "source": [
    "X = pd.DataFrame(emb)\n",
    "y = labels\n",
    "\n",
    "X = StandardScaler().fit_transform(X)\n",
    "train_x, test_x, train_y, test_y = train_test_split(X, y, test_size=.4, random_state=42)\n",
    "\n",
    "clf = MLPClassifier(solver='sgd',\n",
    "                    activation='tanh',\n",
    "                    learning_rate_init=0.001,\n",
    "                    alpha=1e-5,\n",
    "                    hidden_layer_sizes=(30, 30),\n",
    "                    max_iter=10000,\n",
    "                    batch_size=X.shape[0],\n",
    "                    random_state=0)\n",
    "\n",
    "clf.n_outputs_ = 6\n",
    "clf.out_activation_ = \"softmax\"\n",
    "print(clf.get_params())\n",
    "clf.fit(train_x, train_y)\n",
    "\n",
    "mean_acc = clf.score(test_x, test_y)\n",
    "print(mean_acc)"
   ]
  }
 ],
 "metadata": {
  "kernelspec": {
   "display_name": "Python 3",
   "language": "python",
   "name": "python3"
  },
  "language_info": {
   "codemirror_mode": {
    "name": "ipython",
    "version": 3
   },
   "file_extension": ".py",
   "mimetype": "text/x-python",
   "name": "python",
   "nbconvert_exporter": "python",
   "pygments_lexer": "ipython3",
   "version": "3.6.5"
  }
 },
 "nbformat": 4,
 "nbformat_minor": 2
}
